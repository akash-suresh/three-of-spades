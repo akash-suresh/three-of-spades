{
  "cells": [
    {
      "cell_type": "code",
      "execution_count": 15,
      "metadata": {
        "colab": {
          "base_uri": "https://localhost:8080/"
        },
        "id": "m3Wwh7nUKSxZ",
        "outputId": "3adeb2f5-68bb-4150-adde-5152146f71da"
      },
      "outputs": [],
      "source": [
        "from utils.constants import TournamentTypes\n",
        "from utils.Tournament import Tournament\n",
        "from utils.ranking_system import UniversalRatingSystem\n",
        "from utils.tournament_helper import load_tournaments_from_history"
      ]
    },
    {
      "cell_type": "markdown",
      "metadata": {},
      "source": [
        "Enter Tournament Details here"
      ]
    },
    {
      "cell_type": "code",
      "execution_count": 16,
      "metadata": {},
      "outputs": [],
      "source": [
        "TOURNEY_NUMBER = 8\n",
        "TOURNAMENT_TYPE = TournamentTypes.CHAMPIONSHIP\n",
        "SAVE_IMAGES = False\n",
        "SAVE_CSV = False"
      ]
    },
    {
      "cell_type": "markdown",
      "metadata": {},
      "source": [
        "### Reading Data"
      ]
    },
    {
      "cell_type": "code",
      "execution_count": 17,
      "metadata": {},
      "outputs": [
        {
          "name": "stdout",
          "output_type": "stream",
          "text": [
            "> 3 of Spades Championship #8\n",
            "Players participating in this Championship are : ['Prateek', 'Akash', 'Ani', 'Nats', 'Abhi']\n"
          ]
        }
      ],
      "source": [
        "tournament = Tournament(TOURNAMENT_TYPE, TOURNEY_NUMBER)"
      ]
    },
    {
      "cell_type": "markdown",
      "metadata": {
        "id": "KqT_ZMA4Ci60"
      },
      "source": [
        "# Part 1 - Crunching player stats"
      ]
    },
    {
      "cell_type": "code",
      "execution_count": 18,
      "metadata": {
        "colab": {
          "base_uri": "https://localhost:8080/",
          "height": 238
        },
        "id": "eYnYEdwz6bca",
        "outputId": "37ed3fb6-7c13-4502-86cb-a7e6cb3199c0"
      },
      "outputs": [
        {
          "data": {
            "text/html": [
              "<div>\n",
              "<style scoped>\n",
              "    .dataframe tbody tr th:only-of-type {\n",
              "        vertical-align: middle;\n",
              "    }\n",
              "\n",
              "    .dataframe tbody tr th {\n",
              "        vertical-align: top;\n",
              "    }\n",
              "\n",
              "    .dataframe thead th {\n",
              "        text-align: right;\n",
              "    }\n",
              "</style>\n",
              "<table border=\"1\" class=\"dataframe\">\n",
              "  <thead>\n",
              "    <tr style=\"text-align: right;\">\n",
              "      <th></th>\n",
              "      <th>Player</th>\n",
              "      <th>Wins</th>\n",
              "      <th>TotalGames</th>\n",
              "      <th>AvgPoints</th>\n",
              "      <th>TotalPoints</th>\n",
              "      <th>WinPercentage</th>\n",
              "    </tr>\n",
              "  </thead>\n",
              "  <tbody>\n",
              "    <tr>\n",
              "      <th>3</th>\n",
              "      <td>Nats</td>\n",
              "      <td>33</td>\n",
              "      <td>59</td>\n",
              "      <td>241.9</td>\n",
              "      <td>14270</td>\n",
              "      <td>55.9</td>\n",
              "    </tr>\n",
              "    <tr>\n",
              "      <th>1</th>\n",
              "      <td>Akash</td>\n",
              "      <td>32</td>\n",
              "      <td>59</td>\n",
              "      <td>237.6</td>\n",
              "      <td>14020</td>\n",
              "      <td>54.2</td>\n",
              "    </tr>\n",
              "    <tr>\n",
              "      <th>2</th>\n",
              "      <td>Ani</td>\n",
              "      <td>30</td>\n",
              "      <td>59</td>\n",
              "      <td>221.2</td>\n",
              "      <td>13050</td>\n",
              "      <td>50.8</td>\n",
              "    </tr>\n",
              "    <tr>\n",
              "      <th>4</th>\n",
              "      <td>Prateek</td>\n",
              "      <td>26</td>\n",
              "      <td>59</td>\n",
              "      <td>191.2</td>\n",
              "      <td>11280</td>\n",
              "      <td>44.1</td>\n",
              "    </tr>\n",
              "    <tr>\n",
              "      <th>0</th>\n",
              "      <td>Abhi</td>\n",
              "      <td>25</td>\n",
              "      <td>59</td>\n",
              "      <td>184.9</td>\n",
              "      <td>10910</td>\n",
              "      <td>42.4</td>\n",
              "    </tr>\n",
              "  </tbody>\n",
              "</table>\n",
              "</div>"
            ],
            "text/plain": [
              "    Player  Wins  TotalGames  AvgPoints  TotalPoints  WinPercentage\n",
              "3     Nats    33          59      241.9        14270           55.9\n",
              "1    Akash    32          59      237.6        14020           54.2\n",
              "2      Ani    30          59      221.2        13050           50.8\n",
              "4  Prateek    26          59      191.2        11280           44.1\n",
              "0     Abhi    25          59      184.9        10910           42.4"
            ]
          },
          "execution_count": 18,
          "metadata": {},
          "output_type": "execute_result"
        }
      ],
      "source": [
        "tournament.getScoreBoard()"
      ]
    },
    {
      "cell_type": "code",
      "execution_count": 19,
      "metadata": {
        "colab": {
          "base_uri": "https://localhost:8080/",
          "height": 444
        },
        "id": "qxAYNVdG5sgF",
        "outputId": "dce4588e-1b15-434c-fa3e-5529bb9d2abe"
      },
      "outputs": [
        {
          "data": {
            "image/png": "[encoded data removed]",
            "text/plain": [
              "<Figure size 700x400 with 1 Axes>"
            ]
          },
          "metadata": {},
          "output_type": "display_data"
        }
      ],
      "source": [
        "tournament.getLeaderboardBarplot(save_image=SAVE_IMAGES)"
      ]
    },
    {
      "cell_type": "markdown",
      "metadata": {
        "id": "Ju7hUTzvCtEg"
      },
      "source": [
        "# Part 2 - Seeing performance graph over the tournament"
      ]
    },
    {
      "cell_type": "code",
      "execution_count": 20,
      "metadata": {
        "colab": {
          "base_uri": "https://localhost:8080/",
          "height": 564
        },
        "id": "epOBR6Xu-uox",
        "outputId": "c1f5a6a4-1575-4b87-b811-008de1ff0178"
      },
      "outputs": [
        {
          "data": {
            "image/png": "[encoded data removed]",
            "text/plain": [
              "<Figure size 1000x600 with 1 Axes>"
            ]
          },
          "metadata": {},
          "output_type": "display_data"
        },
        {
          "data": {
            "image/png": "[encoded data removed]",
            "text/plain": [
              "<Figure size 1000x600 with 1 Axes>"
            ]
          },
          "metadata": {},
          "output_type": "display_data"
        }
      ],
      "source": [
        "tournament.getTimeseriesPlot(save_image=SAVE_IMAGES)\n",
        "tournament.getWinRatioSeriesPlot(save_image=SAVE_IMAGES)"
      ]
    },
    {
      "cell_type": "markdown",
      "metadata": {
        "id": "LP4hGMhJCenG"
      },
      "source": [
        "# Part 3 - Pair-wise stats"
      ]
    },
    {
      "cell_type": "code",
      "execution_count": 21,
      "metadata": {
        "colab": {
          "base_uri": "https://localhost:8080/",
          "height": 520
        },
        "id": "1rbXRw-gC_g0",
        "outputId": "36f504ee-d199-46de-dbe9-6b3e10c1e8ba"
      },
      "outputs": [
        {
          "data": {
            "text/html": [
              "<div>\n",
              "<style scoped>\n",
              "    .dataframe tbody tr th:only-of-type {\n",
              "        vertical-align: middle;\n",
              "    }\n",
              "\n",
              "    .dataframe tbody tr th {\n",
              "        vertical-align: top;\n",
              "    }\n",
              "\n",
              "    .dataframe thead th {\n",
              "        text-align: right;\n",
              "    }\n",
              "</style>\n",
              "<table border=\"1\" class=\"dataframe\">\n",
              "  <thead>\n",
              "    <tr style=\"text-align: right;\">\n",
              "      <th></th>\n",
              "      <th>Player_x</th>\n",
              "      <th>Player_y</th>\n",
              "      <th>Wins</th>\n",
              "      <th>Losses</th>\n",
              "      <th>TotalGames</th>\n",
              "      <th>AvgPoints</th>\n",
              "      <th>WinPercentage</th>\n",
              "    </tr>\n",
              "  </thead>\n",
              "  <tbody>\n",
              "    <tr>\n",
              "      <th>5</th>\n",
              "      <td>Akash</td>\n",
              "      <td>Nats</td>\n",
              "      <td>15</td>\n",
              "      <td>9</td>\n",
              "      <td>24</td>\n",
              "      <td>268.3</td>\n",
              "      <td>62.5</td>\n",
              "    </tr>\n",
              "    <tr>\n",
              "      <th>4</th>\n",
              "      <td>Akash</td>\n",
              "      <td>Ani</td>\n",
              "      <td>10</td>\n",
              "      <td>7</td>\n",
              "      <td>17</td>\n",
              "      <td>259.4</td>\n",
              "      <td>58.8</td>\n",
              "    </tr>\n",
              "    <tr>\n",
              "      <th>7</th>\n",
              "      <td>Ani</td>\n",
              "      <td>Nats</td>\n",
              "      <td>15</td>\n",
              "      <td>11</td>\n",
              "      <td>26</td>\n",
              "      <td>251.9</td>\n",
              "      <td>57.7</td>\n",
              "    </tr>\n",
              "    <tr>\n",
              "      <th>9</th>\n",
              "      <td>Nats</td>\n",
              "      <td>Prateek</td>\n",
              "      <td>11</td>\n",
              "      <td>11</td>\n",
              "      <td>22</td>\n",
              "      <td>212.7</td>\n",
              "      <td>50.0</td>\n",
              "    </tr>\n",
              "    <tr>\n",
              "      <th>6</th>\n",
              "      <td>Akash</td>\n",
              "      <td>Prateek</td>\n",
              "      <td>16</td>\n",
              "      <td>17</td>\n",
              "      <td>33</td>\n",
              "      <td>212.1</td>\n",
              "      <td>48.5</td>\n",
              "    </tr>\n",
              "    <tr>\n",
              "      <th>2</th>\n",
              "      <td>Abhi</td>\n",
              "      <td>Nats</td>\n",
              "      <td>11</td>\n",
              "      <td>12</td>\n",
              "      <td>23</td>\n",
              "      <td>203.5</td>\n",
              "      <td>47.8</td>\n",
              "    </tr>\n",
              "    <tr>\n",
              "      <th>0</th>\n",
              "      <td>Abhi</td>\n",
              "      <td>Akash</td>\n",
              "      <td>8</td>\n",
              "      <td>10</td>\n",
              "      <td>18</td>\n",
              "      <td>196.1</td>\n",
              "      <td>44.4</td>\n",
              "    </tr>\n",
              "    <tr>\n",
              "      <th>1</th>\n",
              "      <td>Abhi</td>\n",
              "      <td>Ani</td>\n",
              "      <td>12</td>\n",
              "      <td>16</td>\n",
              "      <td>28</td>\n",
              "      <td>182.1</td>\n",
              "      <td>42.9</td>\n",
              "    </tr>\n",
              "    <tr>\n",
              "      <th>8</th>\n",
              "      <td>Ani</td>\n",
              "      <td>Prateek</td>\n",
              "      <td>9</td>\n",
              "      <td>12</td>\n",
              "      <td>21</td>\n",
              "      <td>185.7</td>\n",
              "      <td>42.9</td>\n",
              "    </tr>\n",
              "    <tr>\n",
              "      <th>3</th>\n",
              "      <td>Abhi</td>\n",
              "      <td>Prateek</td>\n",
              "      <td>8</td>\n",
              "      <td>16</td>\n",
              "      <td>24</td>\n",
              "      <td>145.4</td>\n",
              "      <td>33.3</td>\n",
              "    </tr>\n",
              "  </tbody>\n",
              "</table>\n",
              "</div>"
            ],
            "text/plain": [
              "  Player_x Player_y  Wins  Losses  TotalGames  AvgPoints  WinPercentage\n",
              "5    Akash     Nats    15       9          24      268.3           62.5\n",
              "4    Akash      Ani    10       7          17      259.4           58.8\n",
              "7      Ani     Nats    15      11          26      251.9           57.7\n",
              "9     Nats  Prateek    11      11          22      212.7           50.0\n",
              "6    Akash  Prateek    16      17          33      212.1           48.5\n",
              "2     Abhi     Nats    11      12          23      203.5           47.8\n",
              "0     Abhi    Akash     8      10          18      196.1           44.4\n",
              "1     Abhi      Ani    12      16          28      182.1           42.9\n",
              "8      Ani  Prateek     9      12          21      185.7           42.9\n",
              "3     Abhi  Prateek     8      16          24      145.4           33.3"
            ]
          },
          "execution_count": 21,
          "metadata": {},
          "output_type": "execute_result"
        }
      ],
      "source": [
        "tournament.pairwiseStats"
      ]
    },
    {
      "cell_type": "markdown",
      "metadata": {
        "id": "0-kRLhefNey7"
      },
      "source": [
        "# Part 4 - Trio stats"
      ]
    },
    {
      "cell_type": "code",
      "execution_count": 22,
      "metadata": {
        "colab": {
          "base_uri": "https://localhost:8080/",
          "height": 677
        },
        "id": "g6wOuVLaRICe",
        "outputId": "e27b3de1-ed0d-41c9-b4f0-ad35d492ff08"
      },
      "outputs": [
        {
          "data": {
            "text/html": [
              "<div>\n",
              "<style scoped>\n",
              "    .dataframe tbody tr th:only-of-type {\n",
              "        vertical-align: middle;\n",
              "    }\n",
              "\n",
              "    .dataframe tbody tr th {\n",
              "        vertical-align: top;\n",
              "    }\n",
              "\n",
              "    .dataframe thead th {\n",
              "        text-align: right;\n",
              "    }\n",
              "</style>\n",
              "<table border=\"1\" class=\"dataframe\">\n",
              "  <thead>\n",
              "    <tr style=\"text-align: right;\">\n",
              "      <th></th>\n",
              "      <th>Player_x</th>\n",
              "      <th>Player_y</th>\n",
              "      <th>Player_z</th>\n",
              "      <th>Wins</th>\n",
              "      <th>Losses</th>\n",
              "      <th>TotalGames</th>\n",
              "      <th>AvgPoints</th>\n",
              "      <th>WinPercentage</th>\n",
              "    </tr>\n",
              "  </thead>\n",
              "  <tbody>\n",
              "    <tr>\n",
              "      <th>8</th>\n",
              "      <td>Akash</td>\n",
              "      <td>Nats</td>\n",
              "      <td>Prateek</td>\n",
              "      <td>7</td>\n",
              "      <td>3</td>\n",
              "      <td>10</td>\n",
              "      <td>297.0</td>\n",
              "      <td>70.0</td>\n",
              "    </tr>\n",
              "    <tr>\n",
              "      <th>3</th>\n",
              "      <td>Abhi</td>\n",
              "      <td>Ani</td>\n",
              "      <td>Nats</td>\n",
              "      <td>6</td>\n",
              "      <td>3</td>\n",
              "      <td>9</td>\n",
              "      <td>282.2</td>\n",
              "      <td>66.7</td>\n",
              "    </tr>\n",
              "    <tr>\n",
              "      <th>7</th>\n",
              "      <td>Akash</td>\n",
              "      <td>Ani</td>\n",
              "      <td>Prateek</td>\n",
              "      <td>3</td>\n",
              "      <td>3</td>\n",
              "      <td>6</td>\n",
              "      <td>230.0</td>\n",
              "      <td>50.0</td>\n",
              "    </tr>\n",
              "    <tr>\n",
              "      <th>4</th>\n",
              "      <td>Abhi</td>\n",
              "      <td>Ani</td>\n",
              "      <td>Prateek</td>\n",
              "      <td>3</td>\n",
              "      <td>4</td>\n",
              "      <td>7</td>\n",
              "      <td>180.0</td>\n",
              "      <td>42.9</td>\n",
              "    </tr>\n",
              "    <tr>\n",
              "      <th>2</th>\n",
              "      <td>Abhi</td>\n",
              "      <td>Akash</td>\n",
              "      <td>Prateek</td>\n",
              "      <td>3</td>\n",
              "      <td>5</td>\n",
              "      <td>8</td>\n",
              "      <td>173.8</td>\n",
              "      <td>37.5</td>\n",
              "    </tr>\n",
              "    <tr>\n",
              "      <th>5</th>\n",
              "      <td>Abhi</td>\n",
              "      <td>Nats</td>\n",
              "      <td>Prateek</td>\n",
              "      <td>1</td>\n",
              "      <td>4</td>\n",
              "      <td>5</td>\n",
              "      <td>84.0</td>\n",
              "      <td>20.0</td>\n",
              "    </tr>\n",
              "    <tr>\n",
              "      <th>9</th>\n",
              "      <td>Ani</td>\n",
              "      <td>Nats</td>\n",
              "      <td>Prateek</td>\n",
              "      <td>1</td>\n",
              "      <td>4</td>\n",
              "      <td>5</td>\n",
              "      <td>86.0</td>\n",
              "      <td>20.0</td>\n",
              "    </tr>\n",
              "  </tbody>\n",
              "</table>\n",
              "</div>"
            ],
            "text/plain": [
              "  Player_x Player_y Player_z  Wins  Losses  TotalGames  AvgPoints  \\\n",
              "8    Akash     Nats  Prateek     7       3          10      297.0   \n",
              "3     Abhi      Ani     Nats     6       3           9      282.2   \n",
              "7    Akash      Ani  Prateek     3       3           6      230.0   \n",
              "4     Abhi      Ani  Prateek     3       4           7      180.0   \n",
              "2     Abhi    Akash  Prateek     3       5           8      173.8   \n",
              "5     Abhi     Nats  Prateek     1       4           5       84.0   \n",
              "9      Ani     Nats  Prateek     1       4           5       86.0   \n",
              "\n",
              "   WinPercentage  \n",
              "8           70.0  \n",
              "3           66.7  \n",
              "7           50.0  \n",
              "4           42.9  \n",
              "2           37.5  \n",
              "5           20.0  \n",
              "9           20.0  "
            ]
          },
          "execution_count": 22,
          "metadata": {},
          "output_type": "execute_result"
        }
      ],
      "source": [
        "tournament.trioStats"
      ]
    },
    {
      "cell_type": "markdown",
      "metadata": {
        "id": "qP1IyFvrNm-5"
      },
      "source": [
        "# Part 5 - #games bid and won"
      ]
    },
    {
      "cell_type": "code",
      "execution_count": 23,
      "metadata": {
        "colab": {
          "base_uri": "https://localhost:8080/",
          "height": 238
        },
        "id": "yc-Mb_KyWoh8",
        "outputId": "6fcc739f-65cc-4270-e78e-a61f3f6df107"
      },
      "outputs": [
        {
          "data": {
            "text/html": [
              "<div>\n",
              "<style scoped>\n",
              "    .dataframe tbody tr th:only-of-type {\n",
              "        vertical-align: middle;\n",
              "    }\n",
              "\n",
              "    .dataframe tbody tr th {\n",
              "        vertical-align: top;\n",
              "    }\n",
              "\n",
              "    .dataframe thead th {\n",
              "        text-align: right;\n",
              "    }\n",
              "</style>\n",
              "<table border=\"1\" class=\"dataframe\">\n",
              "  <thead>\n",
              "    <tr style=\"text-align: right;\">\n",
              "      <th></th>\n",
              "      <th>Player</th>\n",
              "      <th>Bid and Won</th>\n",
              "    </tr>\n",
              "  </thead>\n",
              "  <tbody>\n",
              "    <tr>\n",
              "      <th>1</th>\n",
              "      <td>Akash</td>\n",
              "      <td>8</td>\n",
              "    </tr>\n",
              "    <tr>\n",
              "      <th>4</th>\n",
              "      <td>Abhi</td>\n",
              "      <td>8</td>\n",
              "    </tr>\n",
              "    <tr>\n",
              "      <th>0</th>\n",
              "      <td>Prateek</td>\n",
              "      <td>3</td>\n",
              "    </tr>\n",
              "    <tr>\n",
              "      <th>3</th>\n",
              "      <td>Nats</td>\n",
              "      <td>3</td>\n",
              "    </tr>\n",
              "    <tr>\n",
              "      <th>2</th>\n",
              "      <td>Ani</td>\n",
              "      <td>2</td>\n",
              "    </tr>\n",
              "  </tbody>\n",
              "</table>\n",
              "</div>"
            ],
            "text/plain": [
              "    Player  Bid and Won\n",
              "1    Akash            8\n",
              "4     Abhi            8\n",
              "0  Prateek            3\n",
              "3     Nats            3\n",
              "2      Ani            2"
            ]
          },
          "execution_count": 23,
          "metadata": {},
          "output_type": "execute_result"
        }
      ],
      "source": [
        "tournament.bidAndWonStats"
      ]
    },
    {
      "cell_type": "markdown",
      "metadata": {},
      "source": [
        "# Part 6 - Overall Player Rankings"
      ]
    },
    {
      "cell_type": "code",
      "execution_count": 24,
      "metadata": {},
      "outputs": [
        {
          "name": "stdout",
          "output_type": "stream",
          "text": [
            "Going back in time!\n"
          ]
        },
        {
          "name": "stderr",
          "output_type": "stream",
          "text": [
            "  0%|          | 0/12 [00:00<?, ?it/s]"
          ]
        },
        {
          "name": "stderr",
          "output_type": "stream",
          "text": [
            "100%|██████████| 12/12 [00:00<00:00, 14.95it/s]"
          ]
        },
        {
          "name": "stdout",
          "output_type": "stream",
          "text": [
            "\n",
            "Championship #8\n"
          ]
        },
        {
          "name": "stderr",
          "output_type": "stream",
          "text": [
            "\n"
          ]
        },
        {
          "data": {
            "text/html": [
              "<style type=\"text/css\">\n",
              "</style>\n",
              "<table id=\"T_0633a\">\n",
              "  <thead>\n",
              "    <tr>\n",
              "      <th id=\"T_0633a_level0_col0\" class=\"col_heading level0 col0\" >Rank</th>\n",
              "      <th id=\"T_0633a_level0_col1\" class=\"col_heading level0 col1\" >Change</th>\n",
              "      <th id=\"T_0633a_level0_col2\" class=\"col_heading level0 col2\" >Player</th>\n",
              "      <th id=\"T_0633a_level0_col3\" class=\"col_heading level0 col3\" >Rating</th>\n",
              "      <th id=\"T_0633a_level0_col4\" class=\"col_heading level0 col4\" >#Games</th>\n",
              "      <th id=\"T_0633a_level0_col5\" class=\"col_heading level0 col5\" >Win %</th>\n",
              "      <th id=\"T_0633a_level0_col6\" class=\"col_heading level0 col6\" >Bid+Win%</th>\n",
              "    </tr>\n",
              "  </thead>\n",
              "  <tbody>\n",
              "    <tr>\n",
              "      <td id=\"T_0633a_row0_col0\" class=\"data row0 col0\" >1</td>\n",
              "      <td id=\"T_0633a_row0_col1\" class=\"data row0 col1\" >-</td>\n",
              "      <td id=\"T_0633a_row0_col2\" class=\"data row0 col2\" >Akash</td>\n",
              "      <td id=\"T_0633a_row0_col3\" class=\"data row0 col3\" >1158 (+2)</td>\n",
              "      <td id=\"T_0633a_row0_col4\" class=\"data row0 col4\" >541</td>\n",
              "      <td id=\"T_0633a_row0_col5\" class=\"data row0 col5\" >59</td>\n",
              "      <td id=\"T_0633a_row0_col6\" class=\"data row0 col6\" >12</td>\n",
              "    </tr>\n",
              "    <tr>\n",
              "      <td id=\"T_0633a_row1_col0\" class=\"data row1 col0\" >2</td>\n",
              "      <td id=\"T_0633a_row1_col1\" class=\"data row1 col1\" >-</td>\n",
              "      <td id=\"T_0633a_row1_col2\" class=\"data row1 col2\" >Prateek</td>\n",
              "      <td id=\"T_0633a_row1_col3\" class=\"data row1 col3\" >1049 (-18)</td>\n",
              "      <td id=\"T_0633a_row1_col4\" class=\"data row1 col4\" >541</td>\n",
              "      <td id=\"T_0633a_row1_col5\" class=\"data row1 col5\" >53</td>\n",
              "      <td id=\"T_0633a_row1_col6\" class=\"data row1 col6\" >9</td>\n",
              "    </tr>\n",
              "    <tr>\n",
              "      <td id=\"T_0633a_row2_col0\" class=\"data row2 col0\" >3</td>\n",
              "      <td id=\"T_0633a_row2_col1\" class=\"data row2 col1\" >-</td>\n",
              "      <td id=\"T_0633a_row2_col2\" class=\"data row2 col2\" >Ani</td>\n",
              "      <td id=\"T_0633a_row2_col3\" class=\"data row2 col3\" >1004 (+6)</td>\n",
              "      <td id=\"T_0633a_row2_col4\" class=\"data row2 col4\" >265</td>\n",
              "      <td id=\"T_0633a_row2_col5\" class=\"data row2 col5\" >49</td>\n",
              "      <td id=\"T_0633a_row2_col6\" class=\"data row2 col6\" >3</td>\n",
              "    </tr>\n",
              "    <tr>\n",
              "      <td id=\"T_0633a_row3_col0\" class=\"data row3 col0\" >4</td>\n",
              "      <td id=\"T_0633a_row3_col1\" class=\"data row3 col1\" >▲ 1</td>\n",
              "      <td id=\"T_0633a_row3_col2\" class=\"data row3 col2\" >Nats</td>\n",
              "      <td id=\"T_0633a_row3_col3\" class=\"data row3 col3\" >1002 (+16)</td>\n",
              "      <td id=\"T_0633a_row3_col4\" class=\"data row3 col4\" >474</td>\n",
              "      <td id=\"T_0633a_row3_col5\" class=\"data row3 col5\" >48</td>\n",
              "      <td id=\"T_0633a_row3_col6\" class=\"data row3 col6\" >10</td>\n",
              "    </tr>\n",
              "    <tr>\n",
              "      <td id=\"T_0633a_row4_col0\" class=\"data row4 col0\" >5</td>\n",
              "      <td id=\"T_0633a_row4_col1\" class=\"data row4 col1\" >▼ 1</td>\n",
              "      <td id=\"T_0633a_row4_col2\" class=\"data row4 col2\" >Naati</td>\n",
              "      <td id=\"T_0633a_row4_col3\" class=\"data row4 col3\" >996 (0)</td>\n",
              "      <td id=\"T_0633a_row4_col4\" class=\"data row4 col4\" >289</td>\n",
              "      <td id=\"T_0633a_row4_col5\" class=\"data row4 col5\" >49</td>\n",
              "      <td id=\"T_0633a_row4_col6\" class=\"data row4 col6\" >8</td>\n",
              "    </tr>\n",
              "    <tr>\n",
              "      <td id=\"T_0633a_row5_col0\" class=\"data row5 col0\" >6</td>\n",
              "      <td id=\"T_0633a_row5_col1\" class=\"data row5 col1\" >-</td>\n",
              "      <td id=\"T_0633a_row5_col2\" class=\"data row5 col2\" >Abhi</td>\n",
              "      <td id=\"T_0633a_row5_col3\" class=\"data row5 col3\" >929 (-12)</td>\n",
              "      <td id=\"T_0633a_row5_col4\" class=\"data row5 col4\" >466</td>\n",
              "      <td id=\"T_0633a_row5_col5\" class=\"data row5 col5\" >43</td>\n",
              "      <td id=\"T_0633a_row5_col6\" class=\"data row5 col6\" >7</td>\n",
              "    </tr>\n",
              "  </tbody>\n",
              "</table>\n"
            ],
            "text/plain": [
              "<pandas.io.formats.style.Styler at 0x7ac3d2f04250>"
            ]
          },
          "metadata": {},
          "output_type": "display_data"
        },
        {
          "name": "stdout",
          "output_type": "stream",
          "text": [
            "\n",
            " -----------------------------\n"
          ]
        }
      ],
      "source": [
        "universal_rating_system = UniversalRatingSystem()\n",
        "\n",
        "load_tournaments_from_history(universal_rating_system)\n",
        "\n",
        "universal_rating_system.showRankingChange(tournament)"
      ]
    },
    {
      "cell_type": "code",
      "execution_count": 25,
      "metadata": {},
      "outputs": [
        {
          "data": {
            "application/vnd.plotly.v1+json": {
              "config": {
                "plotlyServerURL": "https://plot.ly"
              },
              "data": [
                {
                  "marker": {
                    "color": "rgba(38, 24, 74, 0.8)",
                    "line": {
                      "color": "rgb(248, 248, 249)",
                      "width": 1
                    }
                  },
                  "orientation": "h",
                  "type": "bar",
                  "x": [
                    21
                  ],
                  "y": [
                    "The course was effectively<br>organized"
                  ]
                },
                {
                  "marker": {
                    "color": "rgba(38, 24, 74, 0.8)",
                    "line": {
                      "color": "rgb(248, 248, 249)",
                      "width": 1
                    }
                  },
                  "orientation": "h",
                  "type": "bar",
                  "x": [
                    24
                  ],
                  "y": [
                    "The course developed my<br>abilities and skills for<br>the subject"
                  ]
                },
                {
                  "marker": {
                    "color": "rgba(38, 24, 74, 0.8)",
                    "line": {
                      "color": "rgb(248, 248, 249)",
                      "width": 1
                    }
                  },
                  "orientation": "h",
                  "type": "bar",
                  "x": [
                    27
                  ],
                  "y": [
                    "The course developed my<br>ability to think critically about<br>the subject"
                  ]
                },
                {
                  "marker": {
                    "color": "rgba(38, 24, 74, 0.8)",
                    "line": {
                      "color": "rgb(248, 248, 249)",
                      "width": 1
                    }
                  },
                  "orientation": "h",
                  "type": "bar",
                  "x": [
                    29
                  ],
                  "y": [
                    "I would recommend this<br>course to a friend"
                  ]
                },
                {
                  "marker": {
                    "color": "rgba(71, 58, 131, 0.8)",
                    "line": {
                      "color": "rgb(248, 248, 249)",
                      "width": 1
                    }
                  },
                  "orientation": "h",
                  "type": "bar",
                  "x": [
                    30
                  ],
                  "y": [
                    "The course was effectively<br>organized"
                  ]
                },
                {
                  "marker": {
                    "color": "rgba(71, 58, 131, 0.8)",
                    "line": {
                      "color": "rgb(248, 248, 249)",
                      "width": 1
                    }
                  },
                  "orientation": "h",
                  "type": "bar",
                  "x": [
                    31
                  ],
                  "y": [
                    "The course developed my<br>abilities and skills for<br>the subject"
                  ]
                },
                {
                  "marker": {
                    "color": "rgba(71, 58, 131, 0.8)",
                    "line": {
                      "color": "rgb(248, 248, 249)",
                      "width": 1
                    }
                  },
                  "orientation": "h",
                  "type": "bar",
                  "x": [
                    26
                  ],
                  "y": [
                    "The course developed my<br>ability to think critically about<br>the subject"
                  ]
                },
                {
                  "marker": {
                    "color": "rgba(71, 58, 131, 0.8)",
                    "line": {
                      "color": "rgb(248, 248, 249)",
                      "width": 1
                    }
                  },
                  "orientation": "h",
                  "type": "bar",
                  "x": [
                    24
                  ],
                  "y": [
                    "I would recommend this<br>course to a friend"
                  ]
                },
                {
                  "marker": {
                    "color": "rgba(122, 120, 168, 0.8)",
                    "line": {
                      "color": "rgb(248, 248, 249)",
                      "width": 1
                    }
                  },
                  "orientation": "h",
                  "type": "bar",
                  "x": [
                    21
                  ],
                  "y": [
                    "The course was effectively<br>organized"
                  ]
                },
                {
                  "marker": {
                    "color": "rgba(122, 120, 168, 0.8)",
                    "line": {
                      "color": "rgb(248, 248, 249)",
                      "width": 1
                    }
                  },
                  "orientation": "h",
                  "type": "bar",
                  "x": [
                    19
                  ],
                  "y": [
                    "The course developed my<br>abilities and skills for<br>the subject"
                  ]
                },
                {
                  "marker": {
                    "color": "rgba(122, 120, 168, 0.8)",
                    "line": {
                      "color": "rgb(248, 248, 249)",
                      "width": 1
                    }
                  },
                  "orientation": "h",
                  "type": "bar",
                  "x": [
                    23
                  ],
                  "y": [
                    "The course developed my<br>ability to think critically about<br>the subject"
                  ]
                },
                {
                  "marker": {
                    "color": "rgba(122, 120, 168, 0.8)",
                    "line": {
                      "color": "rgb(248, 248, 249)",
                      "width": 1
                    }
                  },
                  "orientation": "h",
                  "type": "bar",
                  "x": [
                    15
                  ],
                  "y": [
                    "I would recommend this<br>course to a friend"
                  ]
                },
                {
                  "marker": {
                    "color": "rgba(164, 163, 204, 0.85)",
                    "line": {
                      "color": "rgb(248, 248, 249)",
                      "width": 1
                    }
                  },
                  "orientation": "h",
                  "type": "bar",
                  "x": [
                    16
                  ],
                  "y": [
                    "The course was effectively<br>organized"
                  ]
                },
                {
                  "marker": {
                    "color": "rgba(164, 163, 204, 0.85)",
                    "line": {
                      "color": "rgb(248, 248, 249)",
                      "width": 1
                    }
                  },
                  "orientation": "h",
                  "type": "bar",
                  "x": [
                    15
                  ],
                  "y": [
                    "The course developed my<br>abilities and skills for<br>the subject"
                  ]
                },
                {
                  "marker": {
                    "color": "rgba(164, 163, 204, 0.85)",
                    "line": {
                      "color": "rgb(248, 248, 249)",
                      "width": 1
                    }
                  },
                  "orientation": "h",
                  "type": "bar",
                  "x": [
                    11
                  ],
                  "y": [
                    "The course developed my<br>ability to think critically about<br>the subject"
                  ]
                },
                {
                  "marker": {
                    "color": "rgba(164, 163, 204, 0.85)",
                    "line": {
                      "color": "rgb(248, 248, 249)",
                      "width": 1
                    }
                  },
                  "orientation": "h",
                  "type": "bar",
                  "x": [
                    18
                  ],
                  "y": [
                    "I would recommend this<br>course to a friend"
                  ]
                },
                {
                  "marker": {
                    "color": "rgba(190, 192, 213, 1)",
                    "line": {
                      "color": "rgb(248, 248, 249)",
                      "width": 1
                    }
                  },
                  "orientation": "h",
                  "type": "bar",
                  "x": [
                    12
                  ],
                  "y": [
                    "The course was effectively<br>organized"
                  ]
                },
                {
                  "marker": {
                    "color": "rgba(190, 192, 213, 1)",
                    "line": {
                      "color": "rgb(248, 248, 249)",
                      "width": 1
                    }
                  },
                  "orientation": "h",
                  "type": "bar",
                  "x": [
                    11
                  ],
                  "y": [
                    "The course developed my<br>abilities and skills for<br>the subject"
                  ]
                },
                {
                  "marker": {
                    "color": "rgba(190, 192, 213, 1)",
                    "line": {
                      "color": "rgb(248, 248, 249)",
                      "width": 1
                    }
                  },
                  "orientation": "h",
                  "type": "bar",
                  "x": [
                    13
                  ],
                  "y": [
                    "The course developed my<br>ability to think critically about<br>the subject"
                  ]
                },
                {
                  "marker": {
                    "color": "rgba(190, 192, 213, 1)",
                    "line": {
                      "color": "rgb(248, 248, 249)",
                      "width": 1
                    }
                  },
                  "orientation": "h",
                  "type": "bar",
                  "x": [
                    14
                  ],
                  "y": [
                    "I would recommend this<br>course to a friend"
                  ]
                }
              ],
              "layout": {
                "annotations": [
                  {
                    "align": "right",
                    "font": {
                      "color": "rgb(67, 67, 67)",
                      "family": "Arial",
                      "size": 14
                    },
                    "showarrow": false,
                    "text": "The course was effectively<br>organized",
                    "x": 0.14,
                    "xanchor": "right",
                    "xref": "paper",
                    "y": "The course was effectively<br>organized",
                    "yref": "y"
                  },
                  {
                    "font": {
                      "color": "rgb(248, 248, 255)",
                      "family": "Arial",
                      "size": 14
                    },
                    "showarrow": false,
                    "text": "21%",
                    "x": 10.5,
                    "xref": "x",
                    "y": "The course was effectively<br>organized",
                    "yref": "y"
                  },
                  {
                    "font": {
                      "color": "rgb(248, 248, 255)",
                      "family": "Arial",
                      "size": 14
                    },
                    "showarrow": false,
                    "text": "30%",
                    "x": 36,
                    "xref": "x",
                    "y": "The course was effectively<br>organized",
                    "yref": "y"
                  },
                  {
                    "font": {
                      "color": "rgb(248, 248, 255)",
                      "family": "Arial",
                      "size": 14
                    },
                    "showarrow": false,
                    "text": "21%",
                    "x": 61.5,
                    "xref": "x",
                    "y": "The course was effectively<br>organized",
                    "yref": "y"
                  },
                  {
                    "font": {
                      "color": "rgb(248, 248, 255)",
                      "family": "Arial",
                      "size": 14
                    },
                    "showarrow": false,
                    "text": "16%",
                    "x": 80,
                    "xref": "x",
                    "y": "The course was effectively<br>organized",
                    "yref": "y"
                  },
                  {
                    "font": {
                      "color": "rgb(248, 248, 255)",
                      "family": "Arial",
                      "size": 14
                    },
                    "showarrow": false,
                    "text": "12%",
                    "x": 94,
                    "xref": "x",
                    "y": "The course was effectively<br>organized",
                    "yref": "y"
                  },
                  {
                    "align": "right",
                    "font": {
                      "color": "rgb(67, 67, 67)",
                      "family": "Arial",
                      "size": 14
                    },
                    "showarrow": false,
                    "text": "The course developed my<br>abilities and skills for<br>the subject",
                    "x": 0.14,
                    "xanchor": "right",
                    "xref": "paper",
                    "y": "The course developed my<br>abilities and skills for<br>the subject",
                    "yref": "y"
                  },
                  {
                    "font": {
                      "color": "rgb(248, 248, 255)",
                      "family": "Arial",
                      "size": 14
                    },
                    "showarrow": false,
                    "text": "24%",
                    "x": 12,
                    "xref": "x",
                    "y": "The course developed my<br>abilities and skills for<br>the subject",
                    "yref": "y"
                  },
                  {
                    "font": {
                      "color": "rgb(248, 248, 255)",
                      "family": "Arial",
                      "size": 14
                    },
                    "showarrow": false,
                    "text": "31%",
                    "x": 39.5,
                    "xref": "x",
                    "y": "The course developed my<br>abilities and skills for<br>the subject",
                    "yref": "y"
                  },
                  {
                    "font": {
                      "color": "rgb(248, 248, 255)",
                      "family": "Arial",
                      "size": 14
                    },
                    "showarrow": false,
                    "text": "19%",
                    "x": 64.5,
                    "xref": "x",
                    "y": "The course developed my<br>abilities and skills for<br>the subject",
                    "yref": "y"
                  },
                  {
                    "font": {
                      "color": "rgb(248, 248, 255)",
                      "family": "Arial",
                      "size": 14
                    },
                    "showarrow": false,
                    "text": "15%",
                    "x": 81.5,
                    "xref": "x",
                    "y": "The course developed my<br>abilities and skills for<br>the subject",
                    "yref": "y"
                  },
                  {
                    "font": {
                      "color": "rgb(248, 248, 255)",
                      "family": "Arial",
                      "size": 14
                    },
                    "showarrow": false,
                    "text": "11%",
                    "x": 94.5,
                    "xref": "x",
                    "y": "The course developed my<br>abilities and skills for<br>the subject",
                    "yref": "y"
                  },
                  {
                    "align": "right",
                    "font": {
                      "color": "rgb(67, 67, 67)",
                      "family": "Arial",
                      "size": 14
                    },
                    "showarrow": false,
                    "text": "The course developed my<br>ability to think critically about<br>the subject",
                    "x": 0.14,
                    "xanchor": "right",
                    "xref": "paper",
                    "y": "The course developed my<br>ability to think critically about<br>the subject",
                    "yref": "y"
                  },
                  {
                    "font": {
                      "color": "rgb(248, 248, 255)",
                      "family": "Arial",
                      "size": 14
                    },
                    "showarrow": false,
                    "text": "27%",
                    "x": 13.5,
                    "xref": "x",
                    "y": "The course developed my<br>ability to think critically about<br>the subject",
                    "yref": "y"
                  },
                  {
                    "font": {
                      "color": "rgb(248, 248, 255)",
                      "family": "Arial",
                      "size": 14
                    },
                    "showarrow": false,
                    "text": "26%",
                    "x": 40,
                    "xref": "x",
                    "y": "The course developed my<br>ability to think critically about<br>the subject",
                    "yref": "y"
                  },
                  {
                    "font": {
                      "color": "rgb(248, 248, 255)",
                      "family": "Arial",
                      "size": 14
                    },
                    "showarrow": false,
                    "text": "23%",
                    "x": 64.5,
                    "xref": "x",
                    "y": "The course developed my<br>ability to think critically about<br>the subject",
                    "yref": "y"
                  },
                  {
                    "font": {
                      "color": "rgb(248, 248, 255)",
                      "family": "Arial",
                      "size": 14
                    },
                    "showarrow": false,
                    "text": "11%",
                    "x": 81.5,
                    "xref": "x",
                    "y": "The course developed my<br>ability to think critically about<br>the subject",
                    "yref": "y"
                  },
                  {
                    "font": {
                      "color": "rgb(248, 248, 255)",
                      "family": "Arial",
                      "size": 14
                    },
                    "showarrow": false,
                    "text": "13%",
                    "x": 93.5,
                    "xref": "x",
                    "y": "The course developed my<br>ability to think critically about<br>the subject",
                    "yref": "y"
                  },
                  {
                    "align": "right",
                    "font": {
                      "color": "rgb(67, 67, 67)",
                      "family": "Arial",
                      "size": 14
                    },
                    "showarrow": false,
                    "text": "I would recommend this<br>course to a friend",
                    "x": 0.14,
                    "xanchor": "right",
                    "xref": "paper",
                    "y": "I would recommend this<br>course to a friend",
                    "yref": "y"
                  },
                  {
                    "font": {
                      "color": "rgb(248, 248, 255)",
                      "family": "Arial",
                      "size": 14
                    },
                    "showarrow": false,
                    "text": "29%",
                    "x": 14.5,
                    "xref": "x",
                    "y": "I would recommend this<br>course to a friend",
                    "yref": "y"
                  },
                  {
                    "font": {
                      "color": "rgb(67, 67, 67)",
                      "family": "Arial",
                      "size": 14
                    },
                    "showarrow": false,
                    "text": "Strongly<br>agree",
                    "x": 14.5,
                    "xref": "x",
                    "y": 1.1,
                    "yref": "paper"
                  },
                  {
                    "font": {
                      "color": "rgb(248, 248, 255)",
                      "family": "Arial",
                      "size": 14
                    },
                    "showarrow": false,
                    "text": "24%",
                    "x": 41,
                    "xref": "x",
                    "y": "I would recommend this<br>course to a friend",
                    "yref": "y"
                  },
                  {
                    "font": {
                      "color": "rgb(67, 67, 67)",
                      "family": "Arial",
                      "size": 14
                    },
                    "showarrow": false,
                    "text": "Agree",
                    "x": 41,
                    "xref": "x",
                    "y": 1.1,
                    "yref": "paper"
                  },
                  {
                    "font": {
                      "color": "rgb(248, 248, 255)",
                      "family": "Arial",
                      "size": 14
                    },
                    "showarrow": false,
                    "text": "15%",
                    "x": 60.5,
                    "xref": "x",
                    "y": "I would recommend this<br>course to a friend",
                    "yref": "y"
                  },
                  {
                    "font": {
                      "color": "rgb(67, 67, 67)",
                      "family": "Arial",
                      "size": 14
                    },
                    "showarrow": false,
                    "text": "Neutral",
                    "x": 60.5,
                    "xref": "x",
                    "y": 1.1,
                    "yref": "paper"
                  },
                  {
                    "font": {
                      "color": "rgb(248, 248, 255)",
                      "family": "Arial",
                      "size": 14
                    },
                    "showarrow": false,
                    "text": "18%",
                    "x": 77,
                    "xref": "x",
                    "y": "I would recommend this<br>course to a friend",
                    "yref": "y"
                  },
                  {
                    "font": {
                      "color": "rgb(67, 67, 67)",
                      "family": "Arial",
                      "size": 14
                    },
                    "showarrow": false,
                    "text": "Disagree",
                    "x": 77,
                    "xref": "x",
                    "y": 1.1,
                    "yref": "paper"
                  },
                  {
                    "font": {
                      "color": "rgb(248, 248, 255)",
                      "family": "Arial",
                      "size": 14
                    },
                    "showarrow": false,
                    "text": "14%",
                    "x": 93,
                    "xref": "x",
                    "y": "I would recommend this<br>course to a friend",
                    "yref": "y"
                  },
                  {
                    "font": {
                      "color": "rgb(67, 67, 67)",
                      "family": "Arial",
                      "size": 14
                    },
                    "showarrow": false,
                    "text": "Strongly<br>disagree",
                    "x": 93,
                    "xref": "x",
                    "y": 1.1,
                    "yref": "paper"
                  }
                ],
                "barmode": "stack",
                "margin": {
                  "b": 80,
                  "l": 120,
                  "r": 10,
                  "t": 140
                },
                "paper_bgcolor": "rgb(248, 248, 255)",
                "plot_bgcolor": "rgb(248, 248, 255)",
                "showlegend": false,
                "template": {
                  "data": {
                    "bar": [
                      {
                        "error_x": {
                          "color": "#2a3f5f"
                        },
                        "error_y": {
                          "color": "#2a3f5f"
                        },
                        "marker": {
                          "line": {
                            "color": "#E5ECF6",
                            "width": 0.5
                          },
                          "pattern": {
                            "fillmode": "overlay",
                            "size": 10,
                            "solidity": 0.2
                          }
                        },
                        "type": "bar"
                      }
                    ],
                    "barpolar": [
                      {
                        "marker": {
                          "line": {
                            "color": "#E5ECF6",
                            "width": 0.5
                          },
                          "pattern": {
                            "fillmode": "overlay",
                            "size": 10,
                            "solidity": 0.2
                          }
                        },
                        "type": "barpolar"
                      }
                    ],
                    "carpet": [
                      {
                        "aaxis": {
                          "endlinecolor": "#2a3f5f",
                          "gridcolor": "white",
                          "linecolor": "white",
                          "minorgridcolor": "white",
                          "startlinecolor": "#2a3f5f"
                        },
                        "baxis": {
                          "endlinecolor": "#2a3f5f",
                          "gridcolor": "white",
                          "linecolor": "white",
                          "minorgridcolor": "white",
                          "startlinecolor": "#2a3f5f"
                        },
                        "type": "carpet"
                      }
                    ],
                    "choropleth": [
                      {
                        "colorbar": {
                          "outlinewidth": 0,
                          "ticks": ""
                        },
                        "type": "choropleth"
                      }
                    ],
                    "contour": [
                      {
                        "colorbar": {
                          "outlinewidth": 0,
                          "ticks": ""
                        },
                        "colorscale": [
                          [
                            0,
                            "#0d0887"
                          ],
                          [
                            0.1111111111111111,
                            "#46039f"
                          ],
                          [
                            0.2222222222222222,
                            "#7201a8"
                          ],
                          [
                            0.3333333333333333,
                            "#9c179e"
                          ],
                          [
                            0.4444444444444444,
                            "#bd3786"
                          ],
                          [
                            0.5555555555555556,
                            "#d8576b"
                          ],
                          [
                            0.6666666666666666,
                            "#ed7953"
                          ],
                          [
                            0.7777777777777778,
                            "#fb9f3a"
                          ],
                          [
                            0.8888888888888888,
                            "#fdca26"
                          ],
                          [
                            1,
                            "#f0f921"
                          ]
                        ],
                        "type": "contour"
                      }
                    ],
                    "contourcarpet": [
                      {
                        "colorbar": {
                          "outlinewidth": 0,
                          "ticks": ""
                        },
                        "type": "contourcarpet"
                      }
                    ],
                    "heatmap": [
                      {
                        "colorbar": {
                          "outlinewidth": 0,
                          "ticks": ""
                        },
                        "colorscale": [
                          [
                            0,
                            "#0d0887"
                          ],
                          [
                            0.1111111111111111,
                            "#46039f"
                          ],
                          [
                            0.2222222222222222,
                            "#7201a8"
                          ],
                          [
                            0.3333333333333333,
                            "#9c179e"
                          ],
                          [
                            0.4444444444444444,
                            "#bd3786"
                          ],
                          [
                            0.5555555555555556,
                            "#d8576b"
                          ],
                          [
                            0.6666666666666666,
                            "#ed7953"
                          ],
                          [
                            0.7777777777777778,
                            "#fb9f3a"
                          ],
                          [
                            0.8888888888888888,
                            "#fdca26"
                          ],
                          [
                            1,
                            "#f0f921"
                          ]
                        ],
                        "type": "heatmap"
                      }
                    ],
                    "heatmapgl": [
                      {
                        "colorbar": {
                          "outlinewidth": 0,
                          "ticks": ""
                        },
                        "colorscale": [
                          [
                            0,
                            "#0d0887"
                          ],
                          [
                            0.1111111111111111,
                            "#46039f"
                          ],
                          [
                            0.2222222222222222,
                            "#7201a8"
                          ],
                          [
                            0.3333333333333333,
                            "#9c179e"
                          ],
                          [
                            0.4444444444444444,
                            "#bd3786"
                          ],
                          [
                            0.5555555555555556,
                            "#d8576b"
                          ],
                          [
                            0.6666666666666666,
                            "#ed7953"
                          ],
                          [
                            0.7777777777777778,
                            "#fb9f3a"
                          ],
                          [
                            0.8888888888888888,
                            "#fdca26"
                          ],
                          [
                            1,
                            "#f0f921"
                          ]
                        ],
                        "type": "heatmapgl"
                      }
                    ],
                    "histogram": [
                      {
                        "marker": {
                          "pattern": {
                            "fillmode": "overlay",
                            "size": 10,
                            "solidity": 0.2
                          }
                        },
                        "type": "histogram"
                      }
                    ],
                    "histogram2d": [
                      {
                        "colorbar": {
                          "outlinewidth": 0,
                          "ticks": ""
                        },
                        "colorscale": [
                          [
                            0,
                            "#0d0887"
                          ],
                          [
                            0.1111111111111111,
                            "#46039f"
                          ],
                          [
                            0.2222222222222222,
                            "#7201a8"
                          ],
                          [
                            0.3333333333333333,
                            "#9c179e"
                          ],
                          [
                            0.4444444444444444,
                            "#bd3786"
                          ],
                          [
                            0.5555555555555556,
                            "#d8576b"
                          ],
                          [
                            0.6666666666666666,
                            "#ed7953"
                          ],
                          [
                            0.7777777777777778,
                            "#fb9f3a"
                          ],
                          [
                            0.8888888888888888,
                            "#fdca26"
                          ],
                          [
                            1,
                            "#f0f921"
                          ]
                        ],
                        "type": "histogram2d"
                      }
                    ],
                    "histogram2dcontour": [
                      {
                        "colorbar": {
                          "outlinewidth": 0,
                          "ticks": ""
                        },
                        "colorscale": [
                          [
                            0,
                            "#0d0887"
                          ],
                          [
                            0.1111111111111111,
                            "#46039f"
                          ],
                          [
                            0.2222222222222222,
                            "#7201a8"
                          ],
                          [
                            0.3333333333333333,
                            "#9c179e"
                          ],
                          [
                            0.4444444444444444,
                            "#bd3786"
                          ],
                          [
                            0.5555555555555556,
                            "#d8576b"
                          ],
                          [
                            0.6666666666666666,
                            "#ed7953"
                          ],
                          [
                            0.7777777777777778,
                            "#fb9f3a"
                          ],
                          [
                            0.8888888888888888,
                            "#fdca26"
                          ],
                          [
                            1,
                            "#f0f921"
                          ]
                        ],
                        "type": "histogram2dcontour"
                      }
                    ],
                    "mesh3d": [
                      {
                        "colorbar": {
                          "outlinewidth": 0,
                          "ticks": ""
                        },
                        "type": "mesh3d"
                      }
                    ],
                    "parcoords": [
                      {
                        "line": {
                          "colorbar": {
                            "outlinewidth": 0,
                            "ticks": ""
                          }
                        },
                        "type": "parcoords"
                      }
                    ],
                    "pie": [
                      {
                        "automargin": true,
                        "type": "pie"
                      }
                    ],
                    "scatter": [
                      {
                        "fillpattern": {
                          "fillmode": "overlay",
                          "size": 10,
                          "solidity": 0.2
                        },
                        "type": "scatter"
                      }
                    ],
                    "scatter3d": [
                      {
                        "line": {
                          "colorbar": {
                            "outlinewidth": 0,
                            "ticks": ""
                          }
                        },
                        "marker": {
                          "colorbar": {
                            "outlinewidth": 0,
                            "ticks": ""
                          }
                        },
                        "type": "scatter3d"
                      }
                    ],
                    "scattercarpet": [
                      {
                        "marker": {
                          "colorbar": {
                            "outlinewidth": 0,
                            "ticks": ""
                          }
                        },
                        "type": "scattercarpet"
                      }
                    ],
                    "scattergeo": [
                      {
                        "marker": {
                          "colorbar": {
                            "outlinewidth": 0,
                            "ticks": ""
                          }
                        },
                        "type": "scattergeo"
                      }
                    ],
                    "scattergl": [
                      {
                        "marker": {
                          "colorbar": {
                            "outlinewidth": 0,
                            "ticks": ""
                          }
                        },
                        "type": "scattergl"
                      }
                    ],
                    "scattermapbox": [
                      {
                        "marker": {
                          "colorbar": {
                            "outlinewidth": 0,
                            "ticks": ""
                          }
                        },
                        "type": "scattermapbox"
                      }
                    ],
                    "scatterpolar": [
                      {
                        "marker": {
                          "colorbar": {
                            "outlinewidth": 0,
                            "ticks": ""
                          }
                        },
                        "type": "scatterpolar"
                      }
                    ],
                    "scatterpolargl": [
                      {
                        "marker": {
                          "colorbar": {
                            "outlinewidth": 0,
                            "ticks": ""
                          }
                        },
                        "type": "scatterpolargl"
                      }
                    ],
                    "scatterternary": [
                      {
                        "marker": {
                          "colorbar": {
                            "outlinewidth": 0,
                            "ticks": ""
                          }
                        },
                        "type": "scatterternary"
                      }
                    ],
                    "surface": [
                      {
                        "colorbar": {
                          "outlinewidth": 0,
                          "ticks": ""
                        },
                        "colorscale": [
                          [
                            0,
                            "#0d0887"
                          ],
                          [
                            0.1111111111111111,
                            "#46039f"
                          ],
                          [
                            0.2222222222222222,
                            "#7201a8"
                          ],
                          [
                            0.3333333333333333,
                            "#9c179e"
                          ],
                          [
                            0.4444444444444444,
                            "#bd3786"
                          ],
                          [
                            0.5555555555555556,
                            "#d8576b"
                          ],
                          [
                            0.6666666666666666,
                            "#ed7953"
                          ],
                          [
                            0.7777777777777778,
                            "#fb9f3a"
                          ],
                          [
                            0.8888888888888888,
                            "#fdca26"
                          ],
                          [
                            1,
                            "#f0f921"
                          ]
                        ],
                        "type": "surface"
                      }
                    ],
                    "table": [
                      {
                        "cells": {
                          "fill": {
                            "color": "#EBF0F8"
                          },
                          "line": {
                            "color": "white"
                          }
                        },
                        "header": {
                          "fill": {
                            "color": "#C8D4E3"
                          },
                          "line": {
                            "color": "white"
                          }
                        },
                        "type": "table"
                      }
                    ]
                  },
                  "layout": {
                    "annotationdefaults": {
                      "arrowcolor": "#2a3f5f",
                      "arrowhead": 0,
                      "arrowwidth": 1
                    },
                    "autotypenumbers": "strict",
                    "coloraxis": {
                      "colorbar": {
                        "outlinewidth": 0,
                        "ticks": ""
                      }
                    },
                    "colorscale": {
                      "diverging": [
                        [
                          0,
                          "#8e0152"
                        ],
                        [
                          0.1,
                          "#c51b7d"
                        ],
                        [
                          0.2,
                          "#de77ae"
                        ],
                        [
                          0.3,
                          "#f1b6da"
                        ],
                        [
                          0.4,
                          "#fde0ef"
                        ],
                        [
                          0.5,
                          "#f7f7f7"
                        ],
                        [
                          0.6,
                          "#e6f5d0"
                        ],
                        [
                          0.7,
                          "#b8e186"
                        ],
                        [
                          0.8,
                          "#7fbc41"
                        ],
                        [
                          0.9,
                          "#4d9221"
                        ],
                        [
                          1,
                          "#276419"
                        ]
                      ],
                      "sequential": [
                        [
                          0,
                          "#0d0887"
                        ],
                        [
                          0.1111111111111111,
                          "#46039f"
                        ],
                        [
                          0.2222222222222222,
                          "#7201a8"
                        ],
                        [
                          0.3333333333333333,
                          "#9c179e"
                        ],
                        [
                          0.4444444444444444,
                          "#bd3786"
                        ],
                        [
                          0.5555555555555556,
                          "#d8576b"
                        ],
                        [
                          0.6666666666666666,
                          "#ed7953"
                        ],
                        [
                          0.7777777777777778,
                          "#fb9f3a"
                        ],
                        [
                          0.8888888888888888,
                          "#fdca26"
                        ],
                        [
                          1,
                          "#f0f921"
                        ]
                      ],
                      "sequentialminus": [
                        [
                          0,
                          "#0d0887"
                        ],
                        [
                          0.1111111111111111,
                          "#46039f"
                        ],
                        [
                          0.2222222222222222,
                          "#7201a8"
                        ],
                        [
                          0.3333333333333333,
                          "#9c179e"
                        ],
                        [
                          0.4444444444444444,
                          "#bd3786"
                        ],
                        [
                          0.5555555555555556,
                          "#d8576b"
                        ],
                        [
                          0.6666666666666666,
                          "#ed7953"
                        ],
                        [
                          0.7777777777777778,
                          "#fb9f3a"
                        ],
                        [
                          0.8888888888888888,
                          "#fdca26"
                        ],
                        [
                          1,
                          "#f0f921"
                        ]
                      ]
                    },
                    "colorway": [
                      "#636efa",
                      "#EF553B",
                      "#00cc96",
                      "#ab63fa",
                      "#FFA15A",
                      "#19d3f3",
                      "#FF6692",
                      "#B6E880",
                      "#FF97FF",
                      "#FECB52"
                    ],
                    "font": {
                      "color": "#2a3f5f"
                    },
                    "geo": {
                      "bgcolor": "white",
                      "lakecolor": "white",
                      "landcolor": "#E5ECF6",
                      "showlakes": true,
                      "showland": true,
                      "subunitcolor": "white"
                    },
                    "hoverlabel": {
                      "align": "left"
                    },
                    "hovermode": "closest",
                    "mapbox": {
                      "style": "light"
                    },
                    "paper_bgcolor": "white",
                    "plot_bgcolor": "#E5ECF6",
                    "polar": {
                      "angularaxis": {
                        "gridcolor": "white",
                        "linecolor": "white",
                        "ticks": ""
                      },
                      "bgcolor": "#E5ECF6",
                      "radialaxis": {
                        "gridcolor": "white",
                        "linecolor": "white",
                        "ticks": ""
                      }
                    },
                    "scene": {
                      "xaxis": {
                        "backgroundcolor": "#E5ECF6",
                        "gridcolor": "white",
                        "gridwidth": 2,
                        "linecolor": "white",
                        "showbackground": true,
                        "ticks": "",
                        "zerolinecolor": "white"
                      },
                      "yaxis": {
                        "backgroundcolor": "#E5ECF6",
                        "gridcolor": "white",
                        "gridwidth": 2,
                        "linecolor": "white",
                        "showbackground": true,
                        "ticks": "",
                        "zerolinecolor": "white"
                      },
                      "zaxis": {
                        "backgroundcolor": "#E5ECF6",
                        "gridcolor": "white",
                        "gridwidth": 2,
                        "linecolor": "white",
                        "showbackground": true,
                        "ticks": "",
                        "zerolinecolor": "white"
                      }
                    },
                    "shapedefaults": {
                      "line": {
                        "color": "#2a3f5f"
                      }
                    },
                    "ternary": {
                      "aaxis": {
                        "gridcolor": "white",
                        "linecolor": "white",
                        "ticks": ""
                      },
                      "baxis": {
                        "gridcolor": "white",
                        "linecolor": "white",
                        "ticks": ""
                      },
                      "bgcolor": "#E5ECF6",
                      "caxis": {
                        "gridcolor": "white",
                        "linecolor": "white",
                        "ticks": ""
                      }
                    },
                    "title": {
                      "x": 0.05
                    },
                    "xaxis": {
                      "automargin": true,
                      "gridcolor": "white",
                      "linecolor": "white",
                      "ticks": "",
                      "title": {
                        "standoff": 15
                      },
                      "zerolinecolor": "white",
                      "zerolinewidth": 2
                    },
                    "yaxis": {
                      "automargin": true,
                      "gridcolor": "white",
                      "linecolor": "white",
                      "ticks": "",
                      "title": {
                        "standoff": 15
                      },
                      "zerolinecolor": "white",
                      "zerolinewidth": 2
                    }
                  }
                },
                "xaxis": {
                  "domain": [
                    0.15,
                    1
                  ],
                  "showgrid": false,
                  "showline": false,
                  "showticklabels": false,
                  "zeroline": false
                },
                "yaxis": {
                  "showgrid": false,
                  "showline": false,
                  "showticklabels": false,
                  "zeroline": false
                }
              }
            },
            "text/html": [
              "<div>                            <div id=\"3492c992-4ca9-47df-97c1-6adb819df68b\" class=\"plotly-graph-div\" style=\"height:525px; width:100%;\"></div>            <script type=\"text/javascript\">                require([\"plotly\"], function(Plotly) {                    window.PLOTLYENV=window.PLOTLYENV || {};                                    if (document.getElementById(\"3492c992-4ca9-47df-97c1-6adb819df68b\")) {                    Plotly.newPlot(                        \"3492c992-4ca9-47df-97c1-6adb819df68b\",                        [{\"marker\":{\"color\":\"rgba(38, 24, 74, 0.8)\",\"line\":{\"color\":\"rgb(248, 248, 249)\",\"width\":1}},\"orientation\":\"h\",\"x\":[21],\"y\":[\"The course was effectively\\u003cbr\\u003eorganized\"],\"type\":\"bar\"},{\"marker\":{\"color\":\"rgba(38, 24, 74, 0.8)\",\"line\":{\"color\":\"rgb(248, 248, 249)\",\"width\":1}},\"orientation\":\"h\",\"x\":[24],\"y\":[\"The course developed my\\u003cbr\\u003eabilities and skills for\\u003cbr\\u003ethe subject\"],\"type\":\"bar\"},{\"marker\":{\"color\":\"rgba(38, 24, 74, 0.8)\",\"line\":{\"color\":\"rgb(248, 248, 249)\",\"width\":1}},\"orientation\":\"h\",\"x\":[27],\"y\":[\"The course developed my\\u003cbr\\u003eability to think critically about\\u003cbr\\u003ethe subject\"],\"type\":\"bar\"},{\"marker\":{\"color\":\"rgba(38, 24, 74, 0.8)\",\"line\":{\"color\":\"rgb(248, 248, 249)\",\"width\":1}},\"orientation\":\"h\",\"x\":[29],\"y\":[\"I would recommend this\\u003cbr\\u003ecourse to a friend\"],\"type\":\"bar\"},{\"marker\":{\"color\":\"rgba(71, 58, 131, 0.8)\",\"line\":{\"color\":\"rgb(248, 248, 249)\",\"width\":1}},\"orientation\":\"h\",\"x\":[30],\"y\":[\"The course was effectively\\u003cbr\\u003eorganized\"],\"type\":\"bar\"},{\"marker\":{\"color\":\"rgba(71, 58, 131, 0.8)\",\"line\":{\"color\":\"rgb(248, 248, 249)\",\"width\":1}},\"orientation\":\"h\",\"x\":[31],\"y\":[\"The course developed my\\u003cbr\\u003eabilities and skills for\\u003cbr\\u003ethe subject\"],\"type\":\"bar\"},{\"marker\":{\"color\":\"rgba(71, 58, 131, 0.8)\",\"line\":{\"color\":\"rgb(248, 248, 249)\",\"width\":1}},\"orientation\":\"h\",\"x\":[26],\"y\":[\"The course developed my\\u003cbr\\u003eability to think critically about\\u003cbr\\u003ethe subject\"],\"type\":\"bar\"},{\"marker\":{\"color\":\"rgba(71, 58, 131, 0.8)\",\"line\":{\"color\":\"rgb(248, 248, 249)\",\"width\":1}},\"orientation\":\"h\",\"x\":[24],\"y\":[\"I would recommend this\\u003cbr\\u003ecourse to a friend\"],\"type\":\"bar\"},{\"marker\":{\"color\":\"rgba(122, 120, 168, 0.8)\",\"line\":{\"color\":\"rgb(248, 248, 249)\",\"width\":1}},\"orientation\":\"h\",\"x\":[21],\"y\":[\"The course was effectively\\u003cbr\\u003eorganized\"],\"type\":\"bar\"},{\"marker\":{\"color\":\"rgba(122, 120, 168, 0.8)\",\"line\":{\"color\":\"rgb(248, 248, 249)\",\"width\":1}},\"orientation\":\"h\",\"x\":[19],\"y\":[\"The course developed my\\u003cbr\\u003eabilities and skills for\\u003cbr\\u003ethe subject\"],\"type\":\"bar\"},{\"marker\":{\"color\":\"rgba(122, 120, 168, 0.8)\",\"line\":{\"color\":\"rgb(248, 248, 249)\",\"width\":1}},\"orientation\":\"h\",\"x\":[23],\"y\":[\"The course developed my\\u003cbr\\u003eability to think critically about\\u003cbr\\u003ethe subject\"],\"type\":\"bar\"},{\"marker\":{\"color\":\"rgba(122, 120, 168, 0.8)\",\"line\":{\"color\":\"rgb(248, 248, 249)\",\"width\":1}},\"orientation\":\"h\",\"x\":[15],\"y\":[\"I would recommend this\\u003cbr\\u003ecourse to a friend\"],\"type\":\"bar\"},{\"marker\":{\"color\":\"rgba(164, 163, 204, 0.85)\",\"line\":{\"color\":\"rgb(248, 248, 249)\",\"width\":1}},\"orientation\":\"h\",\"x\":[16],\"y\":[\"The course was effectively\\u003cbr\\u003eorganized\"],\"type\":\"bar\"},{\"marker\":{\"color\":\"rgba(164, 163, 204, 0.85)\",\"line\":{\"color\":\"rgb(248, 248, 249)\",\"width\":1}},\"orientation\":\"h\",\"x\":[15],\"y\":[\"The course developed my\\u003cbr\\u003eabilities and skills for\\u003cbr\\u003ethe subject\"],\"type\":\"bar\"},{\"marker\":{\"color\":\"rgba(164, 163, 204, 0.85)\",\"line\":{\"color\":\"rgb(248, 248, 249)\",\"width\":1}},\"orientation\":\"h\",\"x\":[11],\"y\":[\"The course developed my\\u003cbr\\u003eability to think critically about\\u003cbr\\u003ethe subject\"],\"type\":\"bar\"},{\"marker\":{\"color\":\"rgba(164, 163, 204, 0.85)\",\"line\":{\"color\":\"rgb(248, 248, 249)\",\"width\":1}},\"orientation\":\"h\",\"x\":[18],\"y\":[\"I would recommend this\\u003cbr\\u003ecourse to a friend\"],\"type\":\"bar\"},{\"marker\":{\"color\":\"rgba(190, 192, 213, 1)\",\"line\":{\"color\":\"rgb(248, 248, 249)\",\"width\":1}},\"orientation\":\"h\",\"x\":[12],\"y\":[\"The course was effectively\\u003cbr\\u003eorganized\"],\"type\":\"bar\"},{\"marker\":{\"color\":\"rgba(190, 192, 213, 1)\",\"line\":{\"color\":\"rgb(248, 248, 249)\",\"width\":1}},\"orientation\":\"h\",\"x\":[11],\"y\":[\"The course developed my\\u003cbr\\u003eabilities and skills for\\u003cbr\\u003ethe subject\"],\"type\":\"bar\"},{\"marker\":{\"color\":\"rgba(190, 192, 213, 1)\",\"line\":{\"color\":\"rgb(248, 248, 249)\",\"width\":1}},\"orientation\":\"h\",\"x\":[13],\"y\":[\"The course developed my\\u003cbr\\u003eability to think critically about\\u003cbr\\u003ethe subject\"],\"type\":\"bar\"},{\"marker\":{\"color\":\"rgba(190, 192, 213, 1)\",\"line\":{\"color\":\"rgb(248, 248, 249)\",\"width\":1}},\"orientation\":\"h\",\"x\":[14],\"y\":[\"I would recommend this\\u003cbr\\u003ecourse to a friend\"],\"type\":\"bar\"}],                        {\"template\":{\"data\":{\"histogram2dcontour\":[{\"type\":\"histogram2dcontour\",\"colorbar\":{\"outlinewidth\":0,\"ticks\":\"\"},\"colorscale\":[[0.0,\"#0d0887\"],[0.1111111111111111,\"#46039f\"],[0.2222222222222222,\"#7201a8\"],[0.3333333333333333,\"#9c179e\"],[0.4444444444444444,\"#bd3786\"],[0.5555555555555556,\"#d8576b\"],[0.6666666666666666,\"#ed7953\"],[0.7777777777777778,\"#fb9f3a\"],[0.8888888888888888,\"#fdca26\"],[1.0,\"#f0f921\"]]}],\"choropleth\":[{\"type\":\"choropleth\",\"colorbar\":{\"outlinewidth\":0,\"ticks\":\"\"}}],\"histogram2d\":[{\"type\":\"histogram2d\",\"colorbar\":{\"outlinewidth\":0,\"ticks\":\"\"},\"colorscale\":[[0.0,\"#0d0887\"],[0.1111111111111111,\"#46039f\"],[0.2222222222222222,\"#7201a8\"],[0.3333333333333333,\"#9c179e\"],[0.4444444444444444,\"#bd3786\"],[0.5555555555555556,\"#d8576b\"],[0.6666666666666666,\"#ed7953\"],[0.7777777777777778,\"#fb9f3a\"],[0.8888888888888888,\"#fdca26\"],[1.0,\"#f0f921\"]]}],\"heatmap\":[{\"type\":\"heatmap\",\"colorbar\":{\"outlinewidth\":0,\"ticks\":\"\"},\"colorscale\":[[0.0,\"#0d0887\"],[0.1111111111111111,\"#46039f\"],[0.2222222222222222,\"#7201a8\"],[0.3333333333333333,\"#9c179e\"],[0.4444444444444444,\"#bd3786\"],[0.5555555555555556,\"#d8576b\"],[0.6666666666666666,\"#ed7953\"],[0.7777777777777778,\"#fb9f3a\"],[0.8888888888888888,\"#fdca26\"],[1.0,\"#f0f921\"]]}],\"heatmapgl\":[{\"type\":\"heatmapgl\",\"colorbar\":{\"outlinewidth\":0,\"ticks\":\"\"},\"colorscale\":[[0.0,\"#0d0887\"],[0.1111111111111111,\"#46039f\"],[0.2222222222222222,\"#7201a8\"],[0.3333333333333333,\"#9c179e\"],[0.4444444444444444,\"#bd3786\"],[0.5555555555555556,\"#d8576b\"],[0.6666666666666666,\"#ed7953\"],[0.7777777777777778,\"#fb9f3a\"],[0.8888888888888888,\"#fdca26\"],[1.0,\"#f0f921\"]]}],\"contourcarpet\":[{\"type\":\"contourcarpet\",\"colorbar\":{\"outlinewidth\":0,\"ticks\":\"\"}}],\"contour\":[{\"type\":\"contour\",\"colorbar\":{\"outlinewidth\":0,\"ticks\":\"\"},\"colorscale\":[[0.0,\"#0d0887\"],[0.1111111111111111,\"#46039f\"],[0.2222222222222222,\"#7201a8\"],[0.3333333333333333,\"#9c179e\"],[0.4444444444444444,\"#bd3786\"],[0.5555555555555556,\"#d8576b\"],[0.6666666666666666,\"#ed7953\"],[0.7777777777777778,\"#fb9f3a\"],[0.8888888888888888,\"#fdca26\"],[1.0,\"#f0f921\"]]}],\"surface\":[{\"type\":\"surface\",\"colorbar\":{\"outlinewidth\":0,\"ticks\":\"\"},\"colorscale\":[[0.0,\"#0d0887\"],[0.1111111111111111,\"#46039f\"],[0.2222222222222222,\"#7201a8\"],[0.3333333333333333,\"#9c179e\"],[0.4444444444444444,\"#bd3786\"],[0.5555555555555556,\"#d8576b\"],[0.6666666666666666,\"#ed7953\"],[0.7777777777777778,\"#fb9f3a\"],[0.8888888888888888,\"#fdca26\"],[1.0,\"#f0f921\"]]}],\"mesh3d\":[{\"type\":\"mesh3d\",\"colorbar\":{\"outlinewidth\":0,\"ticks\":\"\"}}],\"scatter\":[{\"fillpattern\":{\"fillmode\":\"overlay\",\"size\":10,\"solidity\":0.2},\"type\":\"scatter\"}],\"parcoords\":[{\"type\":\"parcoords\",\"line\":{\"colorbar\":{\"outlinewidth\":0,\"ticks\":\"\"}}}],\"scatterpolargl\":[{\"type\":\"scatterpolargl\",\"marker\":{\"colorbar\":{\"outlinewidth\":0,\"ticks\":\"\"}}}],\"bar\":[{\"error_x\":{\"color\":\"#2a3f5f\"},\"error_y\":{\"color\":\"#2a3f5f\"},\"marker\":{\"line\":{\"color\":\"#E5ECF6\",\"width\":0.5},\"pattern\":{\"fillmode\":\"overlay\",\"size\":10,\"solidity\":0.2}},\"type\":\"bar\"}],\"scattergeo\":[{\"type\":\"scattergeo\",\"marker\":{\"colorbar\":{\"outlinewidth\":0,\"ticks\":\"\"}}}],\"scatterpolar\":[{\"type\":\"scatterpolar\",\"marker\":{\"colorbar\":{\"outlinewidth\":0,\"ticks\":\"\"}}}],\"histogram\":[{\"marker\":{\"pattern\":{\"fillmode\":\"overlay\",\"size\":10,\"solidity\":0.2}},\"type\":\"histogram\"}],\"scattergl\":[{\"type\":\"scattergl\",\"marker\":{\"colorbar\":{\"outlinewidth\":0,\"ticks\":\"\"}}}],\"scatter3d\":[{\"type\":\"scatter3d\",\"line\":{\"colorbar\":{\"outlinewidth\":0,\"ticks\":\"\"}},\"marker\":{\"colorbar\":{\"outlinewidth\":0,\"ticks\":\"\"}}}],\"scattermapbox\":[{\"type\":\"scattermapbox\",\"marker\":{\"colorbar\":{\"outlinewidth\":0,\"ticks\":\"\"}}}],\"scatterternary\":[{\"type\":\"scatterternary\",\"marker\":{\"colorbar\":{\"outlinewidth\":0,\"ticks\":\"\"}}}],\"scattercarpet\":[{\"type\":\"scattercarpet\",\"marker\":{\"colorbar\":{\"outlinewidth\":0,\"ticks\":\"\"}}}],\"carpet\":[{\"aaxis\":{\"endlinecolor\":\"#2a3f5f\",\"gridcolor\":\"white\",\"linecolor\":\"white\",\"minorgridcolor\":\"white\",\"startlinecolor\":\"#2a3f5f\"},\"baxis\":{\"endlinecolor\":\"#2a3f5f\",\"gridcolor\":\"white\",\"linecolor\":\"white\",\"minorgridcolor\":\"white\",\"startlinecolor\":\"#2a3f5f\"},\"type\":\"carpet\"}],\"table\":[{\"cells\":{\"fill\":{\"color\":\"#EBF0F8\"},\"line\":{\"color\":\"white\"}},\"header\":{\"fill\":{\"color\":\"#C8D4E3\"},\"line\":{\"color\":\"white\"}},\"type\":\"table\"}],\"barpolar\":[{\"marker\":{\"line\":{\"color\":\"#E5ECF6\",\"width\":0.5},\"pattern\":{\"fillmode\":\"overlay\",\"size\":10,\"solidity\":0.2}},\"type\":\"barpolar\"}],\"pie\":[{\"automargin\":true,\"type\":\"pie\"}]},\"layout\":{\"autotypenumbers\":\"strict\",\"colorway\":[\"#636efa\",\"#EF553B\",\"#00cc96\",\"#ab63fa\",\"#FFA15A\",\"#19d3f3\",\"#FF6692\",\"#B6E880\",\"#FF97FF\",\"#FECB52\"],\"font\":{\"color\":\"#2a3f5f\"},\"hovermode\":\"closest\",\"hoverlabel\":{\"align\":\"left\"},\"paper_bgcolor\":\"white\",\"plot_bgcolor\":\"#E5ECF6\",\"polar\":{\"bgcolor\":\"#E5ECF6\",\"angularaxis\":{\"gridcolor\":\"white\",\"linecolor\":\"white\",\"ticks\":\"\"},\"radialaxis\":{\"gridcolor\":\"white\",\"linecolor\":\"white\",\"ticks\":\"\"}},\"ternary\":{\"bgcolor\":\"#E5ECF6\",\"aaxis\":{\"gridcolor\":\"white\",\"linecolor\":\"white\",\"ticks\":\"\"},\"baxis\":{\"gridcolor\":\"white\",\"linecolor\":\"white\",\"ticks\":\"\"},\"caxis\":{\"gridcolor\":\"white\",\"linecolor\":\"white\",\"ticks\":\"\"}},\"coloraxis\":{\"colorbar\":{\"outlinewidth\":0,\"ticks\":\"\"}},\"colorscale\":{\"sequential\":[[0.0,\"#0d0887\"],[0.1111111111111111,\"#46039f\"],[0.2222222222222222,\"#7201a8\"],[0.3333333333333333,\"#9c179e\"],[0.4444444444444444,\"#bd3786\"],[0.5555555555555556,\"#d8576b\"],[0.6666666666666666,\"#ed7953\"],[0.7777777777777778,\"#fb9f3a\"],[0.8888888888888888,\"#fdca26\"],[1.0,\"#f0f921\"]],\"sequentialminus\":[[0.0,\"#0d0887\"],[0.1111111111111111,\"#46039f\"],[0.2222222222222222,\"#7201a8\"],[0.3333333333333333,\"#9c179e\"],[0.4444444444444444,\"#bd3786\"],[0.5555555555555556,\"#d8576b\"],[0.6666666666666666,\"#ed7953\"],[0.7777777777777778,\"#fb9f3a\"],[0.8888888888888888,\"#fdca26\"],[1.0,\"#f0f921\"]],\"diverging\":[[0,\"#8e0152\"],[0.1,\"#c51b7d\"],[0.2,\"#de77ae\"],[0.3,\"#f1b6da\"],[0.4,\"#fde0ef\"],[0.5,\"#f7f7f7\"],[0.6,\"#e6f5d0\"],[0.7,\"#b8e186\"],[0.8,\"#7fbc41\"],[0.9,\"#4d9221\"],[1,\"#276419\"]]},\"xaxis\":{\"gridcolor\":\"white\",\"linecolor\":\"white\",\"ticks\":\"\",\"title\":{\"standoff\":15},\"zerolinecolor\":\"white\",\"automargin\":true,\"zerolinewidth\":2},\"yaxis\":{\"gridcolor\":\"white\",\"linecolor\":\"white\",\"ticks\":\"\",\"title\":{\"standoff\":15},\"zerolinecolor\":\"white\",\"automargin\":true,\"zerolinewidth\":2},\"scene\":{\"xaxis\":{\"backgroundcolor\":\"#E5ECF6\",\"gridcolor\":\"white\",\"linecolor\":\"white\",\"showbackground\":true,\"ticks\":\"\",\"zerolinecolor\":\"white\",\"gridwidth\":2},\"yaxis\":{\"backgroundcolor\":\"#E5ECF6\",\"gridcolor\":\"white\",\"linecolor\":\"white\",\"showbackground\":true,\"ticks\":\"\",\"zerolinecolor\":\"white\",\"gridwidth\":2},\"zaxis\":{\"backgroundcolor\":\"#E5ECF6\",\"gridcolor\":\"white\",\"linecolor\":\"white\",\"showbackground\":true,\"ticks\":\"\",\"zerolinecolor\":\"white\",\"gridwidth\":2}},\"shapedefaults\":{\"line\":{\"color\":\"#2a3f5f\"}},\"annotationdefaults\":{\"arrowcolor\":\"#2a3f5f\",\"arrowhead\":0,\"arrowwidth\":1},\"geo\":{\"bgcolor\":\"white\",\"landcolor\":\"#E5ECF6\",\"subunitcolor\":\"white\",\"showland\":true,\"showlakes\":true,\"lakecolor\":\"white\"},\"title\":{\"x\":0.05},\"mapbox\":{\"style\":\"light\"}}},\"xaxis\":{\"showgrid\":false,\"showline\":false,\"showticklabels\":false,\"zeroline\":false,\"domain\":[0.15,1]},\"yaxis\":{\"showgrid\":false,\"showline\":false,\"showticklabels\":false,\"zeroline\":false},\"margin\":{\"l\":120,\"r\":10,\"t\":140,\"b\":80},\"barmode\":\"stack\",\"paper_bgcolor\":\"rgb(248, 248, 255)\",\"plot_bgcolor\":\"rgb(248, 248, 255)\",\"showlegend\":false,\"annotations\":[{\"align\":\"right\",\"font\":{\"color\":\"rgb(67, 67, 67)\",\"family\":\"Arial\",\"size\":14},\"showarrow\":false,\"text\":\"The course was effectively\\u003cbr\\u003eorganized\",\"x\":0.14,\"xanchor\":\"right\",\"xref\":\"paper\",\"y\":\"The course was effectively\\u003cbr\\u003eorganized\",\"yref\":\"y\"},{\"font\":{\"color\":\"rgb(248, 248, 255)\",\"family\":\"Arial\",\"size\":14},\"showarrow\":false,\"text\":\"21%\",\"x\":10.5,\"xref\":\"x\",\"y\":\"The course was effectively\\u003cbr\\u003eorganized\",\"yref\":\"y\"},{\"font\":{\"color\":\"rgb(248, 248, 255)\",\"family\":\"Arial\",\"size\":14},\"showarrow\":false,\"text\":\"30%\",\"x\":36.0,\"xref\":\"x\",\"y\":\"The course was effectively\\u003cbr\\u003eorganized\",\"yref\":\"y\"},{\"font\":{\"color\":\"rgb(248, 248, 255)\",\"family\":\"Arial\",\"size\":14},\"showarrow\":false,\"text\":\"21%\",\"x\":61.5,\"xref\":\"x\",\"y\":\"The course was effectively\\u003cbr\\u003eorganized\",\"yref\":\"y\"},{\"font\":{\"color\":\"rgb(248, 248, 255)\",\"family\":\"Arial\",\"size\":14},\"showarrow\":false,\"text\":\"16%\",\"x\":80.0,\"xref\":\"x\",\"y\":\"The course was effectively\\u003cbr\\u003eorganized\",\"yref\":\"y\"},{\"font\":{\"color\":\"rgb(248, 248, 255)\",\"family\":\"Arial\",\"size\":14},\"showarrow\":false,\"text\":\"12%\",\"x\":94.0,\"xref\":\"x\",\"y\":\"The course was effectively\\u003cbr\\u003eorganized\",\"yref\":\"y\"},{\"align\":\"right\",\"font\":{\"color\":\"rgb(67, 67, 67)\",\"family\":\"Arial\",\"size\":14},\"showarrow\":false,\"text\":\"The course developed my\\u003cbr\\u003eabilities and skills for\\u003cbr\\u003ethe subject\",\"x\":0.14,\"xanchor\":\"right\",\"xref\":\"paper\",\"y\":\"The course developed my\\u003cbr\\u003eabilities and skills for\\u003cbr\\u003ethe subject\",\"yref\":\"y\"},{\"font\":{\"color\":\"rgb(248, 248, 255)\",\"family\":\"Arial\",\"size\":14},\"showarrow\":false,\"text\":\"24%\",\"x\":12.0,\"xref\":\"x\",\"y\":\"The course developed my\\u003cbr\\u003eabilities and skills for\\u003cbr\\u003ethe subject\",\"yref\":\"y\"},{\"font\":{\"color\":\"rgb(248, 248, 255)\",\"family\":\"Arial\",\"size\":14},\"showarrow\":false,\"text\":\"31%\",\"x\":39.5,\"xref\":\"x\",\"y\":\"The course developed my\\u003cbr\\u003eabilities and skills for\\u003cbr\\u003ethe subject\",\"yref\":\"y\"},{\"font\":{\"color\":\"rgb(248, 248, 255)\",\"family\":\"Arial\",\"size\":14},\"showarrow\":false,\"text\":\"19%\",\"x\":64.5,\"xref\":\"x\",\"y\":\"The course developed my\\u003cbr\\u003eabilities and skills for\\u003cbr\\u003ethe subject\",\"yref\":\"y\"},{\"font\":{\"color\":\"rgb(248, 248, 255)\",\"family\":\"Arial\",\"size\":14},\"showarrow\":false,\"text\":\"15%\",\"x\":81.5,\"xref\":\"x\",\"y\":\"The course developed my\\u003cbr\\u003eabilities and skills for\\u003cbr\\u003ethe subject\",\"yref\":\"y\"},{\"font\":{\"color\":\"rgb(248, 248, 255)\",\"family\":\"Arial\",\"size\":14},\"showarrow\":false,\"text\":\"11%\",\"x\":94.5,\"xref\":\"x\",\"y\":\"The course developed my\\u003cbr\\u003eabilities and skills for\\u003cbr\\u003ethe subject\",\"yref\":\"y\"},{\"align\":\"right\",\"font\":{\"color\":\"rgb(67, 67, 67)\",\"family\":\"Arial\",\"size\":14},\"showarrow\":false,\"text\":\"The course developed my\\u003cbr\\u003eability to think critically about\\u003cbr\\u003ethe subject\",\"x\":0.14,\"xanchor\":\"right\",\"xref\":\"paper\",\"y\":\"The course developed my\\u003cbr\\u003eability to think critically about\\u003cbr\\u003ethe subject\",\"yref\":\"y\"},{\"font\":{\"color\":\"rgb(248, 248, 255)\",\"family\":\"Arial\",\"size\":14},\"showarrow\":false,\"text\":\"27%\",\"x\":13.5,\"xref\":\"x\",\"y\":\"The course developed my\\u003cbr\\u003eability to think critically about\\u003cbr\\u003ethe subject\",\"yref\":\"y\"},{\"font\":{\"color\":\"rgb(248, 248, 255)\",\"family\":\"Arial\",\"size\":14},\"showarrow\":false,\"text\":\"26%\",\"x\":40.0,\"xref\":\"x\",\"y\":\"The course developed my\\u003cbr\\u003eability to think critically about\\u003cbr\\u003ethe subject\",\"yref\":\"y\"},{\"font\":{\"color\":\"rgb(248, 248, 255)\",\"family\":\"Arial\",\"size\":14},\"showarrow\":false,\"text\":\"23%\",\"x\":64.5,\"xref\":\"x\",\"y\":\"The course developed my\\u003cbr\\u003eability to think critically about\\u003cbr\\u003ethe subject\",\"yref\":\"y\"},{\"font\":{\"color\":\"rgb(248, 248, 255)\",\"family\":\"Arial\",\"size\":14},\"showarrow\":false,\"text\":\"11%\",\"x\":81.5,\"xref\":\"x\",\"y\":\"The course developed my\\u003cbr\\u003eability to think critically about\\u003cbr\\u003ethe subject\",\"yref\":\"y\"},{\"font\":{\"color\":\"rgb(248, 248, 255)\",\"family\":\"Arial\",\"size\":14},\"showarrow\":false,\"text\":\"13%\",\"x\":93.5,\"xref\":\"x\",\"y\":\"The course developed my\\u003cbr\\u003eability to think critically about\\u003cbr\\u003ethe subject\",\"yref\":\"y\"},{\"align\":\"right\",\"font\":{\"color\":\"rgb(67, 67, 67)\",\"family\":\"Arial\",\"size\":14},\"showarrow\":false,\"text\":\"I would recommend this\\u003cbr\\u003ecourse to a friend\",\"x\":0.14,\"xanchor\":\"right\",\"xref\":\"paper\",\"y\":\"I would recommend this\\u003cbr\\u003ecourse to a friend\",\"yref\":\"y\"},{\"font\":{\"color\":\"rgb(248, 248, 255)\",\"family\":\"Arial\",\"size\":14},\"showarrow\":false,\"text\":\"29%\",\"x\":14.5,\"xref\":\"x\",\"y\":\"I would recommend this\\u003cbr\\u003ecourse to a friend\",\"yref\":\"y\"},{\"font\":{\"color\":\"rgb(67, 67, 67)\",\"family\":\"Arial\",\"size\":14},\"showarrow\":false,\"text\":\"Strongly\\u003cbr\\u003eagree\",\"x\":14.5,\"xref\":\"x\",\"y\":1.1,\"yref\":\"paper\"},{\"font\":{\"color\":\"rgb(248, 248, 255)\",\"family\":\"Arial\",\"size\":14},\"showarrow\":false,\"text\":\"24%\",\"x\":41.0,\"xref\":\"x\",\"y\":\"I would recommend this\\u003cbr\\u003ecourse to a friend\",\"yref\":\"y\"},{\"font\":{\"color\":\"rgb(67, 67, 67)\",\"family\":\"Arial\",\"size\":14},\"showarrow\":false,\"text\":\"Agree\",\"x\":41.0,\"xref\":\"x\",\"y\":1.1,\"yref\":\"paper\"},{\"font\":{\"color\":\"rgb(248, 248, 255)\",\"family\":\"Arial\",\"size\":14},\"showarrow\":false,\"text\":\"15%\",\"x\":60.5,\"xref\":\"x\",\"y\":\"I would recommend this\\u003cbr\\u003ecourse to a friend\",\"yref\":\"y\"},{\"font\":{\"color\":\"rgb(67, 67, 67)\",\"family\":\"Arial\",\"size\":14},\"showarrow\":false,\"text\":\"Neutral\",\"x\":60.5,\"xref\":\"x\",\"y\":1.1,\"yref\":\"paper\"},{\"font\":{\"color\":\"rgb(248, 248, 255)\",\"family\":\"Arial\",\"size\":14},\"showarrow\":false,\"text\":\"18%\",\"x\":77.0,\"xref\":\"x\",\"y\":\"I would recommend this\\u003cbr\\u003ecourse to a friend\",\"yref\":\"y\"},{\"font\":{\"color\":\"rgb(67, 67, 67)\",\"family\":\"Arial\",\"size\":14},\"showarrow\":false,\"text\":\"Disagree\",\"x\":77.0,\"xref\":\"x\",\"y\":1.1,\"yref\":\"paper\"},{\"font\":{\"color\":\"rgb(248, 248, 255)\",\"family\":\"Arial\",\"size\":14},\"showarrow\":false,\"text\":\"14%\",\"x\":93.0,\"xref\":\"x\",\"y\":\"I would recommend this\\u003cbr\\u003ecourse to a friend\",\"yref\":\"y\"},{\"font\":{\"color\":\"rgb(67, 67, 67)\",\"family\":\"Arial\",\"size\":14},\"showarrow\":false,\"text\":\"Strongly\\u003cbr\\u003edisagree\",\"x\":93.0,\"xref\":\"x\",\"y\":1.1,\"yref\":\"paper\"}]},                        {\"responsive\": true}                    ).then(function(){\n",
              "                            \n",
              "var gd = document.getElementById('3492c992-4ca9-47df-97c1-6adb819df68b');\n",
              "var x = new MutationObserver(function (mutations, observer) {{\n",
              "        var display = window.getComputedStyle(gd).display;\n",
              "        if (!display || display === 'none') {{\n",
              "            console.log([gd, 'removed!']);\n",
              "            Plotly.purge(gd);\n",
              "            observer.disconnect();\n",
              "        }}\n",
              "}});\n",
              "\n",
              "// Listen for the removal of the full notebook cells\n",
              "var notebookContainer = gd.closest('#notebook-container');\n",
              "if (notebookContainer) {{\n",
              "    x.observe(notebookContainer, {childList: true});\n",
              "}}\n",
              "\n",
              "// Listen for the clearing of the current output cell\n",
              "var outputEl = gd.closest('.output');\n",
              "if (outputEl) {{\n",
              "    x.observe(outputEl, {childList: true});\n",
              "}}\n",
              "\n",
              "                        })                };                });            </script>        </div>"
            ]
          },
          "metadata": {},
          "output_type": "display_data"
        }
      ],
      "source": [
        "import plotly.graph_objects as go\n",
        "\n",
        "top_labels = ['Strongly<br>agree', 'Agree', 'Neutral', 'Disagree',\n",
        "              'Strongly<br>disagree']\n",
        "\n",
        "colors = ['rgba(38, 24, 74, 0.8)', 'rgba(71, 58, 131, 0.8)',\n",
        "          'rgba(122, 120, 168, 0.8)', 'rgba(164, 163, 204, 0.85)',\n",
        "          'rgba(190, 192, 213, 1)']\n",
        "\n",
        "x_data = [[21, 30, 21, 16, 12],\n",
        "          [24, 31, 19, 15, 11],\n",
        "          [27, 26, 23, 11, 13],\n",
        "          [29, 24, 15, 18, 14]]\n",
        "\n",
        "y_data = ['The course was effectively<br>organized',\n",
        "          'The course developed my<br>abilities and skills ' +\n",
        "          'for<br>the subject', 'The course developed ' +\n",
        "          'my<br>ability to think critically about<br>the subject',\n",
        "          'I would recommend this<br>course to a friend']\n",
        "\n",
        "fig = go.Figure()\n",
        "\n",
        "for i in range(0, len(x_data[0])):\n",
        "    for xd, yd in zip(x_data, y_data):\n",
        "        fig.add_trace(go.Bar(\n",
        "            x=[xd[i]], y=[yd],\n",
        "            orientation='h',\n",
        "            marker=dict(\n",
        "                color=colors[i],\n",
        "                line=dict(color='rgb(248, 248, 249)', width=1)\n",
        "            )\n",
        "        ))\n",
        "\n",
        "fig.update_layout(\n",
        "    xaxis=dict(\n",
        "        showgrid=False,\n",
        "        showline=False,\n",
        "        showticklabels=False,\n",
        "        zeroline=False,a\n",
        "        domain=[0.15, 1]\n",
        "    ),\n",
        "    yaxis=dict(\n",
        "        showgrid=False,\n",
        "        showline=False,\n",
        "        showticklabels=False,\n",
        "        zeroline=False,\n",
        "    ),\n",
        "    barmode='stack',\n",
        "    paper_bgcolor='rgb(248, 248, 255)',\n",
        "    plot_bgcolor='rgb(248, 248, 255)',\n",
        "    margin=dict(l=120, r=10, t=140, b=80),\n",
        "    showlegend=False,\n",
        ")\n",
        "\n",
        "annotations = []\n",
        "\n",
        "for yd, xd in zip(y_data, x_data):\n",
        "    # labeling the y-axis\n",
        "    annotations.append(dict(xref='paper', yref='y',\n",
        "                            x=0.14, y=yd,\n",
        "                            xanchor='right',\n",
        "                            text=str(yd),\n",
        "                            font=dict(family='Arial', size=14,\n",
        "                                      color='rgb(67, 67, 67)'),\n",
        "                            showarrow=False, align='right'))\n",
        "    # labeling the first percentage of each bar (x_axis)\n",
        "    annotations.append(dict(xref='x', yref='y',\n",
        "                            x=xd[0] / 2, y=yd,\n",
        "                            text=str(xd[0]) + '%',\n",
        "                            font=dict(family='Arial', size=14,\n",
        "                                      color='rgb(248, 248, 255)'),\n",
        "                            showarrow=False))\n",
        "    # labeling the first Likert scale (on the top)\n",
        "    if yd == y_data[-1]:\n",
        "        annotations.append(dict(xref='x', yref='paper',\n",
        "                                x=xd[0] / 2, y=1.1,\n",
        "                                text=top_labels[0],\n",
        "                                font=dict(family='Arial', size=14,\n",
        "                                          color='rgb(67, 67, 67)'),\n",
        "                                showarrow=False))\n",
        "    space = xd[0]\n",
        "    for i in range(1, len(xd)):\n",
        "            # labeling the rest of percentages for each bar (x_axis)\n",
        "            annotations.append(dict(xref='x', yref='y',\n",
        "                                    x=space + (xd[i]/2), y=yd,\n",
        "                                    text=str(xd[i]) + '%',\n",
        "                                    font=dict(family='Arial', size=14,\n",
        "                                              color='rgb(248, 248, 255)'),\n",
        "                                    showarrow=False))\n",
        "            # labeling the Likert scale\n",
        "            if yd == y_data[-1]:\n",
        "                annotations.append(dict(xref='x', yref='paper',\n",
        "                                        x=space + (xd[i]/2), y=1.1,\n",
        "                                        text=top_labels[i],\n",
        "                                        font=dict(family='Arial', size=14,\n",
        "                                                  color='rgb(67, 67, 67)'),\n",
        "                                        showarrow=False))\n",
        "            space += xd[i]\n",
        "\n",
        "fig.update_layout(annotations=annotations)\n",
        "\n",
        "fig.show()"
      ]
    },
    {
      "cell_type": "code",
      "execution_count": 28,
      "metadata": {},
      "outputs": [
        {
          "data": {
            "text/html": [
              "<div>\n",
              "<style scoped>\n",
              "    .dataframe tbody tr th:only-of-type {\n",
              "        vertical-align: middle;\n",
              "    }\n",
              "\n",
              "    .dataframe tbody tr th {\n",
              "        vertical-align: top;\n",
              "    }\n",
              "\n",
              "    .dataframe thead th {\n",
              "        text-align: right;\n",
              "    }\n",
              "</style>\n",
              "<table border=\"1\" class=\"dataframe\">\n",
              "  <thead>\n",
              "    <tr style=\"text-align: right;\">\n",
              "      <th></th>\n",
              "      <th>Game ID</th>\n",
              "      <th>Prateek</th>\n",
              "      <th>Akash</th>\n",
              "      <th>Ani</th>\n",
              "      <th>Nats</th>\n",
              "      <th>Abhi</th>\n",
              "      <th>CumSum_Prateek</th>\n",
              "      <th>MovingAvgPoints_Prateek</th>\n",
              "      <th>Prateek_Won</th>\n",
              "      <th>NumGamesWon_Prateek</th>\n",
              "      <th>...</th>\n",
              "      <th>CumSum_Nats</th>\n",
              "      <th>MovingAvgPoints_Nats</th>\n",
              "      <th>Nats_Won</th>\n",
              "      <th>NumGamesWon_Nats</th>\n",
              "      <th>WinRatio_Nats</th>\n",
              "      <th>CumSum_Abhi</th>\n",
              "      <th>MovingAvgPoints_Abhi</th>\n",
              "      <th>Abhi_Won</th>\n",
              "      <th>NumGamesWon_Abhi</th>\n",
              "      <th>WinRatio_Abhi</th>\n",
              "    </tr>\n",
              "  </thead>\n",
              "  <tbody>\n",
              "    <tr>\n",
              "      <th>0</th>\n",
              "      <td>1</td>\n",
              "      <td>0</td>\n",
              "      <td>440</td>\n",
              "      <td>0</td>\n",
              "      <td>440</td>\n",
              "      <td>460</td>\n",
              "      <td>0</td>\n",
              "      <td>0.000000</td>\n",
              "      <td>0</td>\n",
              "      <td>0</td>\n",
              "      <td>...</td>\n",
              "      <td>440</td>\n",
              "      <td>440.000000</td>\n",
              "      <td>1</td>\n",
              "      <td>1</td>\n",
              "      <td>1.000000</td>\n",
              "      <td>460</td>\n",
              "      <td>460.000000</td>\n",
              "      <td>1</td>\n",
              "      <td>1</td>\n",
              "      <td>1.000000</td>\n",
              "    </tr>\n",
              "    <tr>\n",
              "      <th>1</th>\n",
              "      <td>2</td>\n",
              "      <td>0</td>\n",
              "      <td>450</td>\n",
              "      <td>0</td>\n",
              "      <td>0</td>\n",
              "      <td>450</td>\n",
              "      <td>0</td>\n",
              "      <td>0.000000</td>\n",
              "      <td>0</td>\n",
              "      <td>0</td>\n",
              "      <td>...</td>\n",
              "      <td>440</td>\n",
              "      <td>220.000000</td>\n",
              "      <td>0</td>\n",
              "      <td>1</td>\n",
              "      <td>0.500000</td>\n",
              "      <td>910</td>\n",
              "      <td>455.000000</td>\n",
              "      <td>1</td>\n",
              "      <td>2</td>\n",
              "      <td>1.000000</td>\n",
              "    </tr>\n",
              "    <tr>\n",
              "      <th>2</th>\n",
              "      <td>3</td>\n",
              "      <td>0</td>\n",
              "      <td>0</td>\n",
              "      <td>400</td>\n",
              "      <td>400</td>\n",
              "      <td>400</td>\n",
              "      <td>0</td>\n",
              "      <td>0.000000</td>\n",
              "      <td>0</td>\n",
              "      <td>0</td>\n",
              "      <td>...</td>\n",
              "      <td>840</td>\n",
              "      <td>280.000000</td>\n",
              "      <td>1</td>\n",
              "      <td>2</td>\n",
              "      <td>0.666667</td>\n",
              "      <td>1310</td>\n",
              "      <td>436.666667</td>\n",
              "      <td>1</td>\n",
              "      <td>3</td>\n",
              "      <td>1.000000</td>\n",
              "    </tr>\n",
              "    <tr>\n",
              "      <th>3</th>\n",
              "      <td>4</td>\n",
              "      <td>0</td>\n",
              "      <td>0</td>\n",
              "      <td>430</td>\n",
              "      <td>0</td>\n",
              "      <td>430</td>\n",
              "      <td>0</td>\n",
              "      <td>0.000000</td>\n",
              "      <td>0</td>\n",
              "      <td>0</td>\n",
              "      <td>...</td>\n",
              "      <td>840</td>\n",
              "      <td>210.000000</td>\n",
              "      <td>0</td>\n",
              "      <td>2</td>\n",
              "      <td>0.500000</td>\n",
              "      <td>1740</td>\n",
              "      <td>435.000000</td>\n",
              "      <td>1</td>\n",
              "      <td>4</td>\n",
              "      <td>1.000000</td>\n",
              "    </tr>\n",
              "    <tr>\n",
              "      <th>4</th>\n",
              "      <td>5</td>\n",
              "      <td>410</td>\n",
              "      <td>430</td>\n",
              "      <td>0</td>\n",
              "      <td>410</td>\n",
              "      <td>0</td>\n",
              "      <td>410</td>\n",
              "      <td>82.000000</td>\n",
              "      <td>1</td>\n",
              "      <td>1</td>\n",
              "      <td>...</td>\n",
              "      <td>1250</td>\n",
              "      <td>250.000000</td>\n",
              "      <td>1</td>\n",
              "      <td>3</td>\n",
              "      <td>0.600000</td>\n",
              "      <td>1740</td>\n",
              "      <td>348.000000</td>\n",
              "      <td>0</td>\n",
              "      <td>4</td>\n",
              "      <td>0.800000</td>\n",
              "    </tr>\n",
              "    <tr>\n",
              "      <th>5</th>\n",
              "      <td>6</td>\n",
              "      <td>0</td>\n",
              "      <td>0</td>\n",
              "      <td>460</td>\n",
              "      <td>460</td>\n",
              "      <td>0</td>\n",
              "      <td>410</td>\n",
              "      <td>68.333333</td>\n",
              "      <td>0</td>\n",
              "      <td>1</td>\n",
              "      <td>...</td>\n",
              "      <td>1710</td>\n",
              "      <td>285.000000</td>\n",
              "      <td>1</td>\n",
              "      <td>4</td>\n",
              "      <td>0.666667</td>\n",
              "      <td>1740</td>\n",
              "      <td>290.000000</td>\n",
              "      <td>0</td>\n",
              "      <td>4</td>\n",
              "      <td>0.666667</td>\n",
              "    </tr>\n",
              "    <tr>\n",
              "      <th>6</th>\n",
              "      <td>7</td>\n",
              "      <td>0</td>\n",
              "      <td>0</td>\n",
              "      <td>430</td>\n",
              "      <td>0</td>\n",
              "      <td>430</td>\n",
              "      <td>410</td>\n",
              "      <td>58.571429</td>\n",
              "      <td>0</td>\n",
              "      <td>1</td>\n",
              "      <td>...</td>\n",
              "      <td>1710</td>\n",
              "      <td>244.285714</td>\n",
              "      <td>0</td>\n",
              "      <td>4</td>\n",
              "      <td>0.571429</td>\n",
              "      <td>2170</td>\n",
              "      <td>310.000000</td>\n",
              "      <td>1</td>\n",
              "      <td>5</td>\n",
              "      <td>0.714286</td>\n",
              "    </tr>\n",
              "    <tr>\n",
              "      <th>7</th>\n",
              "      <td>8</td>\n",
              "      <td>440</td>\n",
              "      <td>0</td>\n",
              "      <td>0</td>\n",
              "      <td>420</td>\n",
              "      <td>420</td>\n",
              "      <td>850</td>\n",
              "      <td>106.250000</td>\n",
              "      <td>1</td>\n",
              "      <td>2</td>\n",
              "      <td>...</td>\n",
              "      <td>2130</td>\n",
              "      <td>266.250000</td>\n",
              "      <td>1</td>\n",
              "      <td>5</td>\n",
              "      <td>0.625000</td>\n",
              "      <td>2590</td>\n",
              "      <td>323.750000</td>\n",
              "      <td>1</td>\n",
              "      <td>6</td>\n",
              "      <td>0.750000</td>\n",
              "    </tr>\n",
              "    <tr>\n",
              "      <th>8</th>\n",
              "      <td>9</td>\n",
              "      <td>0</td>\n",
              "      <td>400</td>\n",
              "      <td>0</td>\n",
              "      <td>400</td>\n",
              "      <td>0</td>\n",
              "      <td>850</td>\n",
              "      <td>94.444444</td>\n",
              "      <td>0</td>\n",
              "      <td>2</td>\n",
              "      <td>...</td>\n",
              "      <td>2530</td>\n",
              "      <td>281.111111</td>\n",
              "      <td>1</td>\n",
              "      <td>6</td>\n",
              "      <td>0.666667</td>\n",
              "      <td>2590</td>\n",
              "      <td>287.777778</td>\n",
              "      <td>0</td>\n",
              "      <td>6</td>\n",
              "      <td>0.666667</td>\n",
              "    </tr>\n",
              "    <tr>\n",
              "      <th>9</th>\n",
              "      <td>10</td>\n",
              "      <td>0</td>\n",
              "      <td>460</td>\n",
              "      <td>460</td>\n",
              "      <td>460</td>\n",
              "      <td>0</td>\n",
              "      <td>850</td>\n",
              "      <td>85.000000</td>\n",
              "      <td>0</td>\n",
              "      <td>2</td>\n",
              "      <td>...</td>\n",
              "      <td>2990</td>\n",
              "      <td>299.000000</td>\n",
              "      <td>1</td>\n",
              "      <td>7</td>\n",
              "      <td>0.700000</td>\n",
              "      <td>2590</td>\n",
              "      <td>259.000000</td>\n",
              "      <td>0</td>\n",
              "      <td>6</td>\n",
              "      <td>0.600000</td>\n",
              "    </tr>\n",
              "    <tr>\n",
              "      <th>10</th>\n",
              "      <td>11</td>\n",
              "      <td>420</td>\n",
              "      <td>0</td>\n",
              "      <td>0</td>\n",
              "      <td>0</td>\n",
              "      <td>420</td>\n",
              "      <td>1270</td>\n",
              "      <td>115.454545</td>\n",
              "      <td>1</td>\n",
              "      <td>3</td>\n",
              "      <td>...</td>\n",
              "      <td>2990</td>\n",
              "      <td>271.818182</td>\n",
              "      <td>0</td>\n",
              "      <td>7</td>\n",
              "      <td>0.636364</td>\n",
              "      <td>3010</td>\n",
              "      <td>273.636364</td>\n",
              "      <td>1</td>\n",
              "      <td>7</td>\n",
              "      <td>0.636364</td>\n",
              "    </tr>\n",
              "    <tr>\n",
              "      <th>11</th>\n",
              "      <td>12</td>\n",
              "      <td>0</td>\n",
              "      <td>0</td>\n",
              "      <td>410</td>\n",
              "      <td>410</td>\n",
              "      <td>430</td>\n",
              "      <td>1270</td>\n",
              "      <td>105.833333</td>\n",
              "      <td>0</td>\n",
              "      <td>3</td>\n",
              "      <td>...</td>\n",
              "      <td>3400</td>\n",
              "      <td>283.333333</td>\n",
              "      <td>1</td>\n",
              "      <td>8</td>\n",
              "      <td>0.666667</td>\n",
              "      <td>3440</td>\n",
              "      <td>286.666667</td>\n",
              "      <td>1</td>\n",
              "      <td>8</td>\n",
              "      <td>0.666667</td>\n",
              "    </tr>\n",
              "    <tr>\n",
              "      <th>12</th>\n",
              "      <td>13</td>\n",
              "      <td>0</td>\n",
              "      <td>0</td>\n",
              "      <td>460</td>\n",
              "      <td>440</td>\n",
              "      <td>440</td>\n",
              "      <td>1270</td>\n",
              "      <td>97.692308</td>\n",
              "      <td>0</td>\n",
              "      <td>3</td>\n",
              "      <td>...</td>\n",
              "      <td>3840</td>\n",
              "      <td>295.384615</td>\n",
              "      <td>1</td>\n",
              "      <td>9</td>\n",
              "      <td>0.692308</td>\n",
              "      <td>3880</td>\n",
              "      <td>298.461538</td>\n",
              "      <td>1</td>\n",
              "      <td>9</td>\n",
              "      <td>0.692308</td>\n",
              "    </tr>\n",
              "    <tr>\n",
              "      <th>13</th>\n",
              "      <td>14</td>\n",
              "      <td>410</td>\n",
              "      <td>430</td>\n",
              "      <td>410</td>\n",
              "      <td>0</td>\n",
              "      <td>0</td>\n",
              "      <td>1680</td>\n",
              "      <td>120.000000</td>\n",
              "      <td>1</td>\n",
              "      <td>4</td>\n",
              "      <td>...</td>\n",
              "      <td>3840</td>\n",
              "      <td>274.285714</td>\n",
              "      <td>0</td>\n",
              "      <td>9</td>\n",
              "      <td>0.642857</td>\n",
              "      <td>3880</td>\n",
              "      <td>277.142857</td>\n",
              "      <td>0</td>\n",
              "      <td>9</td>\n",
              "      <td>0.642857</td>\n",
              "    </tr>\n",
              "    <tr>\n",
              "      <th>14</th>\n",
              "      <td>15</td>\n",
              "      <td>400</td>\n",
              "      <td>0</td>\n",
              "      <td>400</td>\n",
              "      <td>0</td>\n",
              "      <td>400</td>\n",
              "      <td>2080</td>\n",
              "      <td>138.666667</td>\n",
              "      <td>1</td>\n",
              "      <td>5</td>\n",
              "      <td>...</td>\n",
              "      <td>3840</td>\n",
              "      <td>256.000000</td>\n",
              "      <td>0</td>\n",
              "      <td>9</td>\n",
              "      <td>0.600000</td>\n",
              "      <td>4280</td>\n",
              "      <td>285.333333</td>\n",
              "      <td>1</td>\n",
              "      <td>10</td>\n",
              "      <td>0.666667</td>\n",
              "    </tr>\n",
              "    <tr>\n",
              "      <th>15</th>\n",
              "      <td>16</td>\n",
              "      <td>530</td>\n",
              "      <td>530</td>\n",
              "      <td>0</td>\n",
              "      <td>0</td>\n",
              "      <td>550</td>\n",
              "      <td>2610</td>\n",
              "      <td>163.125000</td>\n",
              "      <td>1</td>\n",
              "      <td>6</td>\n",
              "      <td>...</td>\n",
              "      <td>3840</td>\n",
              "      <td>240.000000</td>\n",
              "      <td>0</td>\n",
              "      <td>9</td>\n",
              "      <td>0.562500</td>\n",
              "      <td>4830</td>\n",
              "      <td>301.875000</td>\n",
              "      <td>1</td>\n",
              "      <td>11</td>\n",
              "      <td>0.687500</td>\n",
              "    </tr>\n",
              "    <tr>\n",
              "      <th>16</th>\n",
              "      <td>17</td>\n",
              "      <td>0</td>\n",
              "      <td>0</td>\n",
              "      <td>420</td>\n",
              "      <td>440</td>\n",
              "      <td>420</td>\n",
              "      <td>2610</td>\n",
              "      <td>153.529412</td>\n",
              "      <td>0</td>\n",
              "      <td>6</td>\n",
              "      <td>...</td>\n",
              "      <td>4280</td>\n",
              "      <td>251.764706</td>\n",
              "      <td>1</td>\n",
              "      <td>10</td>\n",
              "      <td>0.588235</td>\n",
              "      <td>5250</td>\n",
              "      <td>308.823529</td>\n",
              "      <td>1</td>\n",
              "      <td>12</td>\n",
              "      <td>0.705882</td>\n",
              "    </tr>\n",
              "    <tr>\n",
              "      <th>17</th>\n",
              "      <td>18</td>\n",
              "      <td>420</td>\n",
              "      <td>440</td>\n",
              "      <td>420</td>\n",
              "      <td>0</td>\n",
              "      <td>0</td>\n",
              "      <td>3030</td>\n",
              "      <td>168.333333</td>\n",
              "      <td>1</td>\n",
              "      <td>7</td>\n",
              "      <td>...</td>\n",
              "      <td>4280</td>\n",
              "      <td>237.777778</td>\n",
              "      <td>0</td>\n",
              "      <td>10</td>\n",
              "      <td>0.555556</td>\n",
              "      <td>5250</td>\n",
              "      <td>291.666667</td>\n",
              "      <td>0</td>\n",
              "      <td>12</td>\n",
              "      <td>0.666667</td>\n",
              "    </tr>\n",
              "    <tr>\n",
              "      <th>18</th>\n",
              "      <td>19</td>\n",
              "      <td>440</td>\n",
              "      <td>460</td>\n",
              "      <td>0</td>\n",
              "      <td>440</td>\n",
              "      <td>0</td>\n",
              "      <td>3470</td>\n",
              "      <td>182.631579</td>\n",
              "      <td>1</td>\n",
              "      <td>8</td>\n",
              "      <td>...</td>\n",
              "      <td>4720</td>\n",
              "      <td>248.421053</td>\n",
              "      <td>1</td>\n",
              "      <td>11</td>\n",
              "      <td>0.578947</td>\n",
              "      <td>5250</td>\n",
              "      <td>276.315789</td>\n",
              "      <td>0</td>\n",
              "      <td>12</td>\n",
              "      <td>0.631579</td>\n",
              "    </tr>\n",
              "    <tr>\n",
              "      <th>19</th>\n",
              "      <td>20</td>\n",
              "      <td>410</td>\n",
              "      <td>430</td>\n",
              "      <td>0</td>\n",
              "      <td>410</td>\n",
              "      <td>0</td>\n",
              "      <td>3880</td>\n",
              "      <td>194.000000</td>\n",
              "      <td>1</td>\n",
              "      <td>9</td>\n",
              "      <td>...</td>\n",
              "      <td>5130</td>\n",
              "      <td>256.500000</td>\n",
              "      <td>1</td>\n",
              "      <td>12</td>\n",
              "      <td>0.600000</td>\n",
              "      <td>5250</td>\n",
              "      <td>262.500000</td>\n",
              "      <td>0</td>\n",
              "      <td>12</td>\n",
              "      <td>0.600000</td>\n",
              "    </tr>\n",
              "    <tr>\n",
              "      <th>20</th>\n",
              "      <td>21</td>\n",
              "      <td>0</td>\n",
              "      <td>0</td>\n",
              "      <td>430</td>\n",
              "      <td>450</td>\n",
              "      <td>430</td>\n",
              "      <td>3880</td>\n",
              "      <td>184.761905</td>\n",
              "      <td>0</td>\n",
              "      <td>9</td>\n",
              "      <td>...</td>\n",
              "      <td>5580</td>\n",
              "      <td>265.714286</td>\n",
              "      <td>1</td>\n",
              "      <td>13</td>\n",
              "      <td>0.619048</td>\n",
              "      <td>5680</td>\n",
              "      <td>270.476190</td>\n",
              "      <td>1</td>\n",
              "      <td>13</td>\n",
              "      <td>0.619048</td>\n",
              "    </tr>\n",
              "    <tr>\n",
              "      <th>21</th>\n",
              "      <td>22</td>\n",
              "      <td>0</td>\n",
              "      <td>0</td>\n",
              "      <td>460</td>\n",
              "      <td>460</td>\n",
              "      <td>0</td>\n",
              "      <td>3880</td>\n",
              "      <td>176.363636</td>\n",
              "      <td>0</td>\n",
              "      <td>9</td>\n",
              "      <td>...</td>\n",
              "      <td>6040</td>\n",
              "      <td>274.545455</td>\n",
              "      <td>1</td>\n",
              "      <td>14</td>\n",
              "      <td>0.636364</td>\n",
              "      <td>5680</td>\n",
              "      <td>258.181818</td>\n",
              "      <td>0</td>\n",
              "      <td>13</td>\n",
              "      <td>0.590909</td>\n",
              "    </tr>\n",
              "    <tr>\n",
              "      <th>22</th>\n",
              "      <td>23</td>\n",
              "      <td>0</td>\n",
              "      <td>0</td>\n",
              "      <td>0</td>\n",
              "      <td>410</td>\n",
              "      <td>410</td>\n",
              "      <td>3880</td>\n",
              "      <td>168.695652</td>\n",
              "      <td>0</td>\n",
              "      <td>9</td>\n",
              "      <td>...</td>\n",
              "      <td>6450</td>\n",
              "      <td>280.434783</td>\n",
              "      <td>1</td>\n",
              "      <td>15</td>\n",
              "      <td>0.652174</td>\n",
              "      <td>6090</td>\n",
              "      <td>264.782609</td>\n",
              "      <td>1</td>\n",
              "      <td>14</td>\n",
              "      <td>0.608696</td>\n",
              "    </tr>\n",
              "    <tr>\n",
              "      <th>23</th>\n",
              "      <td>24</td>\n",
              "      <td>430</td>\n",
              "      <td>0</td>\n",
              "      <td>430</td>\n",
              "      <td>430</td>\n",
              "      <td>0</td>\n",
              "      <td>4310</td>\n",
              "      <td>179.583333</td>\n",
              "      <td>1</td>\n",
              "      <td>10</td>\n",
              "      <td>...</td>\n",
              "      <td>6880</td>\n",
              "      <td>286.666667</td>\n",
              "      <td>1</td>\n",
              "      <td>16</td>\n",
              "      <td>0.666667</td>\n",
              "      <td>6090</td>\n",
              "      <td>253.750000</td>\n",
              "      <td>0</td>\n",
              "      <td>14</td>\n",
              "      <td>0.583333</td>\n",
              "    </tr>\n",
              "    <tr>\n",
              "      <th>24</th>\n",
              "      <td>25</td>\n",
              "      <td>420</td>\n",
              "      <td>440</td>\n",
              "      <td>0</td>\n",
              "      <td>420</td>\n",
              "      <td>0</td>\n",
              "      <td>4730</td>\n",
              "      <td>189.200000</td>\n",
              "      <td>1</td>\n",
              "      <td>11</td>\n",
              "      <td>...</td>\n",
              "      <td>7300</td>\n",
              "      <td>292.000000</td>\n",
              "      <td>1</td>\n",
              "      <td>17</td>\n",
              "      <td>0.680000</td>\n",
              "      <td>6090</td>\n",
              "      <td>243.600000</td>\n",
              "      <td>0</td>\n",
              "      <td>14</td>\n",
              "      <td>0.560000</td>\n",
              "    </tr>\n",
              "    <tr>\n",
              "      <th>25</th>\n",
              "      <td>26</td>\n",
              "      <td>0</td>\n",
              "      <td>430</td>\n",
              "      <td>430</td>\n",
              "      <td>430</td>\n",
              "      <td>0</td>\n",
              "      <td>4730</td>\n",
              "      <td>181.923077</td>\n",
              "      <td>0</td>\n",
              "      <td>11</td>\n",
              "      <td>...</td>\n",
              "      <td>7730</td>\n",
              "      <td>297.307692</td>\n",
              "      <td>1</td>\n",
              "      <td>18</td>\n",
              "      <td>0.692308</td>\n",
              "      <td>6090</td>\n",
              "      <td>234.230769</td>\n",
              "      <td>0</td>\n",
              "      <td>14</td>\n",
              "      <td>0.538462</td>\n",
              "    </tr>\n",
              "    <tr>\n",
              "      <th>26</th>\n",
              "      <td>27</td>\n",
              "      <td>0</td>\n",
              "      <td>430</td>\n",
              "      <td>0</td>\n",
              "      <td>430</td>\n",
              "      <td>0</td>\n",
              "      <td>4730</td>\n",
              "      <td>175.185185</td>\n",
              "      <td>0</td>\n",
              "      <td>11</td>\n",
              "      <td>...</td>\n",
              "      <td>8160</td>\n",
              "      <td>302.222222</td>\n",
              "      <td>1</td>\n",
              "      <td>19</td>\n",
              "      <td>0.703704</td>\n",
              "      <td>6090</td>\n",
              "      <td>225.555556</td>\n",
              "      <td>0</td>\n",
              "      <td>14</td>\n",
              "      <td>0.518519</td>\n",
              "    </tr>\n",
              "    <tr>\n",
              "      <th>27</th>\n",
              "      <td>28</td>\n",
              "      <td>450</td>\n",
              "      <td>430</td>\n",
              "      <td>0</td>\n",
              "      <td>430</td>\n",
              "      <td>0</td>\n",
              "      <td>5180</td>\n",
              "      <td>185.000000</td>\n",
              "      <td>1</td>\n",
              "      <td>12</td>\n",
              "      <td>...</td>\n",
              "      <td>8590</td>\n",
              "      <td>306.785714</td>\n",
              "      <td>1</td>\n",
              "      <td>20</td>\n",
              "      <td>0.714286</td>\n",
              "      <td>6090</td>\n",
              "      <td>217.500000</td>\n",
              "      <td>0</td>\n",
              "      <td>14</td>\n",
              "      <td>0.500000</td>\n",
              "    </tr>\n",
              "    <tr>\n",
              "      <th>28</th>\n",
              "      <td>29</td>\n",
              "      <td>420</td>\n",
              "      <td>0</td>\n",
              "      <td>420</td>\n",
              "      <td>0</td>\n",
              "      <td>0</td>\n",
              "      <td>5600</td>\n",
              "      <td>193.103448</td>\n",
              "      <td>1</td>\n",
              "      <td>13</td>\n",
              "      <td>...</td>\n",
              "      <td>8590</td>\n",
              "      <td>296.206897</td>\n",
              "      <td>0</td>\n",
              "      <td>20</td>\n",
              "      <td>0.689655</td>\n",
              "      <td>6090</td>\n",
              "      <td>210.000000</td>\n",
              "      <td>0</td>\n",
              "      <td>14</td>\n",
              "      <td>0.482759</td>\n",
              "    </tr>\n",
              "    <tr>\n",
              "      <th>29</th>\n",
              "      <td>30</td>\n",
              "      <td>430</td>\n",
              "      <td>0</td>\n",
              "      <td>0</td>\n",
              "      <td>430</td>\n",
              "      <td>0</td>\n",
              "      <td>6030</td>\n",
              "      <td>201.000000</td>\n",
              "      <td>1</td>\n",
              "      <td>14</td>\n",
              "      <td>...</td>\n",
              "      <td>9020</td>\n",
              "      <td>300.666667</td>\n",
              "      <td>1</td>\n",
              "      <td>21</td>\n",
              "      <td>0.700000</td>\n",
              "      <td>6090</td>\n",
              "      <td>203.000000</td>\n",
              "      <td>0</td>\n",
              "      <td>14</td>\n",
              "      <td>0.466667</td>\n",
              "    </tr>\n",
              "    <tr>\n",
              "      <th>30</th>\n",
              "      <td>31</td>\n",
              "      <td>450</td>\n",
              "      <td>470</td>\n",
              "      <td>0</td>\n",
              "      <td>450</td>\n",
              "      <td>0</td>\n",
              "      <td>6480</td>\n",
              "      <td>209.032258</td>\n",
              "      <td>1</td>\n",
              "      <td>15</td>\n",
              "      <td>...</td>\n",
              "      <td>9470</td>\n",
              "      <td>305.483871</td>\n",
              "      <td>1</td>\n",
              "      <td>22</td>\n",
              "      <td>0.709677</td>\n",
              "      <td>6090</td>\n",
              "      <td>196.451613</td>\n",
              "      <td>0</td>\n",
              "      <td>14</td>\n",
              "      <td>0.451613</td>\n",
              "    </tr>\n",
              "    <tr>\n",
              "      <th>31</th>\n",
              "      <td>32</td>\n",
              "      <td>0</td>\n",
              "      <td>0</td>\n",
              "      <td>0</td>\n",
              "      <td>440</td>\n",
              "      <td>440</td>\n",
              "      <td>6480</td>\n",
              "      <td>202.500000</td>\n",
              "      <td>0</td>\n",
              "      <td>15</td>\n",
              "      <td>...</td>\n",
              "      <td>9910</td>\n",
              "      <td>309.687500</td>\n",
              "      <td>1</td>\n",
              "      <td>23</td>\n",
              "      <td>0.718750</td>\n",
              "      <td>6530</td>\n",
              "      <td>204.062500</td>\n",
              "      <td>1</td>\n",
              "      <td>15</td>\n",
              "      <td>0.468750</td>\n",
              "    </tr>\n",
              "    <tr>\n",
              "      <th>32</th>\n",
              "      <td>33</td>\n",
              "      <td>0</td>\n",
              "      <td>420</td>\n",
              "      <td>420</td>\n",
              "      <td>0</td>\n",
              "      <td>0</td>\n",
              "      <td>6480</td>\n",
              "      <td>196.363636</td>\n",
              "      <td>0</td>\n",
              "      <td>15</td>\n",
              "      <td>...</td>\n",
              "      <td>9910</td>\n",
              "      <td>300.303030</td>\n",
              "      <td>0</td>\n",
              "      <td>23</td>\n",
              "      <td>0.696970</td>\n",
              "      <td>6530</td>\n",
              "      <td>197.878788</td>\n",
              "      <td>0</td>\n",
              "      <td>15</td>\n",
              "      <td>0.454545</td>\n",
              "    </tr>\n",
              "    <tr>\n",
              "      <th>33</th>\n",
              "      <td>34</td>\n",
              "      <td>0</td>\n",
              "      <td>430</td>\n",
              "      <td>0</td>\n",
              "      <td>0</td>\n",
              "      <td>430</td>\n",
              "      <td>6480</td>\n",
              "      <td>190.588235</td>\n",
              "      <td>0</td>\n",
              "      <td>15</td>\n",
              "      <td>...</td>\n",
              "      <td>9910</td>\n",
              "      <td>291.470588</td>\n",
              "      <td>0</td>\n",
              "      <td>23</td>\n",
              "      <td>0.676471</td>\n",
              "      <td>6960</td>\n",
              "      <td>204.705882</td>\n",
              "      <td>1</td>\n",
              "      <td>16</td>\n",
              "      <td>0.470588</td>\n",
              "    </tr>\n",
              "    <tr>\n",
              "      <th>34</th>\n",
              "      <td>35</td>\n",
              "      <td>400</td>\n",
              "      <td>400</td>\n",
              "      <td>0</td>\n",
              "      <td>0</td>\n",
              "      <td>0</td>\n",
              "      <td>6880</td>\n",
              "      <td>196.571429</td>\n",
              "      <td>1</td>\n",
              "      <td>16</td>\n",
              "      <td>...</td>\n",
              "      <td>9910</td>\n",
              "      <td>283.142857</td>\n",
              "      <td>0</td>\n",
              "      <td>23</td>\n",
              "      <td>0.657143</td>\n",
              "      <td>6960</td>\n",
              "      <td>198.857143</td>\n",
              "      <td>0</td>\n",
              "      <td>16</td>\n",
              "      <td>0.457143</td>\n",
              "    </tr>\n",
              "    <tr>\n",
              "      <th>35</th>\n",
              "      <td>36</td>\n",
              "      <td>430</td>\n",
              "      <td>0</td>\n",
              "      <td>0</td>\n",
              "      <td>430</td>\n",
              "      <td>0</td>\n",
              "      <td>7310</td>\n",
              "      <td>203.055556</td>\n",
              "      <td>1</td>\n",
              "      <td>17</td>\n",
              "      <td>...</td>\n",
              "      <td>10340</td>\n",
              "      <td>287.222222</td>\n",
              "      <td>1</td>\n",
              "      <td>24</td>\n",
              "      <td>0.666667</td>\n",
              "      <td>6960</td>\n",
              "      <td>193.333333</td>\n",
              "      <td>0</td>\n",
              "      <td>16</td>\n",
              "      <td>0.444444</td>\n",
              "    </tr>\n",
              "    <tr>\n",
              "      <th>36</th>\n",
              "      <td>37</td>\n",
              "      <td>0</td>\n",
              "      <td>0</td>\n",
              "      <td>420</td>\n",
              "      <td>420</td>\n",
              "      <td>0</td>\n",
              "      <td>7310</td>\n",
              "      <td>197.567568</td>\n",
              "      <td>0</td>\n",
              "      <td>17</td>\n",
              "      <td>...</td>\n",
              "      <td>10760</td>\n",
              "      <td>290.810811</td>\n",
              "      <td>1</td>\n",
              "      <td>25</td>\n",
              "      <td>0.675676</td>\n",
              "      <td>6960</td>\n",
              "      <td>188.108108</td>\n",
              "      <td>0</td>\n",
              "      <td>16</td>\n",
              "      <td>0.432432</td>\n",
              "    </tr>\n",
              "    <tr>\n",
              "      <th>37</th>\n",
              "      <td>38</td>\n",
              "      <td>0</td>\n",
              "      <td>420</td>\n",
              "      <td>0</td>\n",
              "      <td>420</td>\n",
              "      <td>0</td>\n",
              "      <td>7310</td>\n",
              "      <td>192.368421</td>\n",
              "      <td>0</td>\n",
              "      <td>17</td>\n",
              "      <td>...</td>\n",
              "      <td>11180</td>\n",
              "      <td>294.210526</td>\n",
              "      <td>1</td>\n",
              "      <td>26</td>\n",
              "      <td>0.684211</td>\n",
              "      <td>6960</td>\n",
              "      <td>183.157895</td>\n",
              "      <td>0</td>\n",
              "      <td>16</td>\n",
              "      <td>0.421053</td>\n",
              "    </tr>\n",
              "    <tr>\n",
              "      <th>38</th>\n",
              "      <td>39</td>\n",
              "      <td>410</td>\n",
              "      <td>410</td>\n",
              "      <td>0</td>\n",
              "      <td>430</td>\n",
              "      <td>0</td>\n",
              "      <td>7720</td>\n",
              "      <td>197.948718</td>\n",
              "      <td>1</td>\n",
              "      <td>18</td>\n",
              "      <td>...</td>\n",
              "      <td>11610</td>\n",
              "      <td>297.692308</td>\n",
              "      <td>1</td>\n",
              "      <td>27</td>\n",
              "      <td>0.692308</td>\n",
              "      <td>6960</td>\n",
              "      <td>178.461538</td>\n",
              "      <td>0</td>\n",
              "      <td>16</td>\n",
              "      <td>0.410256</td>\n",
              "    </tr>\n",
              "    <tr>\n",
              "      <th>39</th>\n",
              "      <td>40</td>\n",
              "      <td>440</td>\n",
              "      <td>440</td>\n",
              "      <td>0</td>\n",
              "      <td>0</td>\n",
              "      <td>460</td>\n",
              "      <td>8160</td>\n",
              "      <td>204.000000</td>\n",
              "      <td>1</td>\n",
              "      <td>19</td>\n",
              "      <td>...</td>\n",
              "      <td>11610</td>\n",
              "      <td>290.250000</td>\n",
              "      <td>0</td>\n",
              "      <td>27</td>\n",
              "      <td>0.675000</td>\n",
              "      <td>7420</td>\n",
              "      <td>185.500000</td>\n",
              "      <td>1</td>\n",
              "      <td>17</td>\n",
              "      <td>0.425000</td>\n",
              "    </tr>\n",
              "    <tr>\n",
              "      <th>40</th>\n",
              "      <td>41</td>\n",
              "      <td>0</td>\n",
              "      <td>0</td>\n",
              "      <td>0</td>\n",
              "      <td>430</td>\n",
              "      <td>430</td>\n",
              "      <td>8160</td>\n",
              "      <td>199.024390</td>\n",
              "      <td>0</td>\n",
              "      <td>19</td>\n",
              "      <td>...</td>\n",
              "      <td>12040</td>\n",
              "      <td>293.658537</td>\n",
              "      <td>1</td>\n",
              "      <td>28</td>\n",
              "      <td>0.682927</td>\n",
              "      <td>7850</td>\n",
              "      <td>191.463415</td>\n",
              "      <td>1</td>\n",
              "      <td>18</td>\n",
              "      <td>0.439024</td>\n",
              "    </tr>\n",
              "    <tr>\n",
              "      <th>41</th>\n",
              "      <td>42</td>\n",
              "      <td>0</td>\n",
              "      <td>440</td>\n",
              "      <td>0</td>\n",
              "      <td>440</td>\n",
              "      <td>0</td>\n",
              "      <td>8160</td>\n",
              "      <td>194.285714</td>\n",
              "      <td>0</td>\n",
              "      <td>19</td>\n",
              "      <td>...</td>\n",
              "      <td>12480</td>\n",
              "      <td>297.142857</td>\n",
              "      <td>1</td>\n",
              "      <td>29</td>\n",
              "      <td>0.690476</td>\n",
              "      <td>7850</td>\n",
              "      <td>186.904762</td>\n",
              "      <td>0</td>\n",
              "      <td>18</td>\n",
              "      <td>0.428571</td>\n",
              "    </tr>\n",
              "    <tr>\n",
              "      <th>42</th>\n",
              "      <td>43</td>\n",
              "      <td>420</td>\n",
              "      <td>0</td>\n",
              "      <td>420</td>\n",
              "      <td>0</td>\n",
              "      <td>440</td>\n",
              "      <td>8580</td>\n",
              "      <td>199.534884</td>\n",
              "      <td>1</td>\n",
              "      <td>20</td>\n",
              "      <td>...</td>\n",
              "      <td>12480</td>\n",
              "      <td>290.232558</td>\n",
              "      <td>0</td>\n",
              "      <td>29</td>\n",
              "      <td>0.674419</td>\n",
              "      <td>8290</td>\n",
              "      <td>192.790698</td>\n",
              "      <td>1</td>\n",
              "      <td>19</td>\n",
              "      <td>0.441860</td>\n",
              "    </tr>\n",
              "    <tr>\n",
              "      <th>43</th>\n",
              "      <td>44</td>\n",
              "      <td>0</td>\n",
              "      <td>420</td>\n",
              "      <td>420</td>\n",
              "      <td>0</td>\n",
              "      <td>0</td>\n",
              "      <td>8580</td>\n",
              "      <td>195.000000</td>\n",
              "      <td>0</td>\n",
              "      <td>20</td>\n",
              "      <td>...</td>\n",
              "      <td>12480</td>\n",
              "      <td>283.636364</td>\n",
              "      <td>0</td>\n",
              "      <td>29</td>\n",
              "      <td>0.659091</td>\n",
              "      <td>8290</td>\n",
              "      <td>188.409091</td>\n",
              "      <td>0</td>\n",
              "      <td>19</td>\n",
              "      <td>0.431818</td>\n",
              "    </tr>\n",
              "    <tr>\n",
              "      <th>44</th>\n",
              "      <td>45</td>\n",
              "      <td>0</td>\n",
              "      <td>0</td>\n",
              "      <td>450</td>\n",
              "      <td>450</td>\n",
              "      <td>0</td>\n",
              "      <td>8580</td>\n",
              "      <td>190.666667</td>\n",
              "      <td>0</td>\n",
              "      <td>20</td>\n",
              "      <td>...</td>\n",
              "      <td>12930</td>\n",
              "      <td>287.333333</td>\n",
              "      <td>1</td>\n",
              "      <td>30</td>\n",
              "      <td>0.666667</td>\n",
              "      <td>8290</td>\n",
              "      <td>184.222222</td>\n",
              "      <td>0</td>\n",
              "      <td>19</td>\n",
              "      <td>0.422222</td>\n",
              "    </tr>\n",
              "    <tr>\n",
              "      <th>45</th>\n",
              "      <td>46</td>\n",
              "      <td>0</td>\n",
              "      <td>460</td>\n",
              "      <td>440</td>\n",
              "      <td>0</td>\n",
              "      <td>0</td>\n",
              "      <td>8580</td>\n",
              "      <td>186.521739</td>\n",
              "      <td>0</td>\n",
              "      <td>20</td>\n",
              "      <td>...</td>\n",
              "      <td>12930</td>\n",
              "      <td>281.086957</td>\n",
              "      <td>0</td>\n",
              "      <td>30</td>\n",
              "      <td>0.652174</td>\n",
              "      <td>8290</td>\n",
              "      <td>180.217391</td>\n",
              "      <td>0</td>\n",
              "      <td>19</td>\n",
              "      <td>0.413043</td>\n",
              "    </tr>\n",
              "    <tr>\n",
              "      <th>46</th>\n",
              "      <td>47</td>\n",
              "      <td>0</td>\n",
              "      <td>0</td>\n",
              "      <td>440</td>\n",
              "      <td>440</td>\n",
              "      <td>460</td>\n",
              "      <td>8580</td>\n",
              "      <td>182.553191</td>\n",
              "      <td>0</td>\n",
              "      <td>20</td>\n",
              "      <td>...</td>\n",
              "      <td>13370</td>\n",
              "      <td>284.468085</td>\n",
              "      <td>1</td>\n",
              "      <td>31</td>\n",
              "      <td>0.659574</td>\n",
              "      <td>8750</td>\n",
              "      <td>186.170213</td>\n",
              "      <td>1</td>\n",
              "      <td>20</td>\n",
              "      <td>0.425532</td>\n",
              "    </tr>\n",
              "    <tr>\n",
              "      <th>47</th>\n",
              "      <td>48</td>\n",
              "      <td>0</td>\n",
              "      <td>0</td>\n",
              "      <td>440</td>\n",
              "      <td>0</td>\n",
              "      <td>440</td>\n",
              "      <td>8580</td>\n",
              "      <td>178.750000</td>\n",
              "      <td>0</td>\n",
              "      <td>20</td>\n",
              "      <td>...</td>\n",
              "      <td>13370</td>\n",
              "      <td>278.541667</td>\n",
              "      <td>0</td>\n",
              "      <td>31</td>\n",
              "      <td>0.645833</td>\n",
              "      <td>9190</td>\n",
              "      <td>191.458333</td>\n",
              "      <td>1</td>\n",
              "      <td>21</td>\n",
              "      <td>0.437500</td>\n",
              "    </tr>\n",
              "    <tr>\n",
              "      <th>48</th>\n",
              "      <td>49</td>\n",
              "      <td>420</td>\n",
              "      <td>420</td>\n",
              "      <td>0</td>\n",
              "      <td>0</td>\n",
              "      <td>440</td>\n",
              "      <td>9000</td>\n",
              "      <td>183.673469</td>\n",
              "      <td>1</td>\n",
              "      <td>21</td>\n",
              "      <td>...</td>\n",
              "      <td>13370</td>\n",
              "      <td>272.857143</td>\n",
              "      <td>0</td>\n",
              "      <td>31</td>\n",
              "      <td>0.632653</td>\n",
              "      <td>9630</td>\n",
              "      <td>196.530612</td>\n",
              "      <td>1</td>\n",
              "      <td>22</td>\n",
              "      <td>0.448980</td>\n",
              "    </tr>\n",
              "    <tr>\n",
              "      <th>49</th>\n",
              "      <td>50</td>\n",
              "      <td>0</td>\n",
              "      <td>0</td>\n",
              "      <td>470</td>\n",
              "      <td>450</td>\n",
              "      <td>0</td>\n",
              "      <td>9000</td>\n",
              "      <td>180.000000</td>\n",
              "      <td>0</td>\n",
              "      <td>21</td>\n",
              "      <td>...</td>\n",
              "      <td>13820</td>\n",
              "      <td>276.400000</td>\n",
              "      <td>1</td>\n",
              "      <td>32</td>\n",
              "      <td>0.640000</td>\n",
              "      <td>9630</td>\n",
              "      <td>192.600000</td>\n",
              "      <td>0</td>\n",
              "      <td>22</td>\n",
              "      <td>0.440000</td>\n",
              "    </tr>\n",
              "    <tr>\n",
              "      <th>50</th>\n",
              "      <td>51</td>\n",
              "      <td>0</td>\n",
              "      <td>410</td>\n",
              "      <td>0</td>\n",
              "      <td>0</td>\n",
              "      <td>410</td>\n",
              "      <td>9000</td>\n",
              "      <td>176.470588</td>\n",
              "      <td>0</td>\n",
              "      <td>21</td>\n",
              "      <td>...</td>\n",
              "      <td>13820</td>\n",
              "      <td>270.980392</td>\n",
              "      <td>0</td>\n",
              "      <td>32</td>\n",
              "      <td>0.627451</td>\n",
              "      <td>10040</td>\n",
              "      <td>196.862745</td>\n",
              "      <td>1</td>\n",
              "      <td>23</td>\n",
              "      <td>0.450980</td>\n",
              "    </tr>\n",
              "    <tr>\n",
              "      <th>51</th>\n",
              "      <td>52</td>\n",
              "      <td>0</td>\n",
              "      <td>410</td>\n",
              "      <td>0</td>\n",
              "      <td>0</td>\n",
              "      <td>410</td>\n",
              "      <td>9000</td>\n",
              "      <td>173.076923</td>\n",
              "      <td>0</td>\n",
              "      <td>21</td>\n",
              "      <td>...</td>\n",
              "      <td>13820</td>\n",
              "      <td>265.769231</td>\n",
              "      <td>0</td>\n",
              "      <td>32</td>\n",
              "      <td>0.615385</td>\n",
              "      <td>10450</td>\n",
              "      <td>200.961538</td>\n",
              "      <td>1</td>\n",
              "      <td>24</td>\n",
              "      <td>0.461538</td>\n",
              "    </tr>\n",
              "    <tr>\n",
              "      <th>52</th>\n",
              "      <td>53</td>\n",
              "      <td>410</td>\n",
              "      <td>410</td>\n",
              "      <td>0</td>\n",
              "      <td>0</td>\n",
              "      <td>0</td>\n",
              "      <td>9410</td>\n",
              "      <td>177.547170</td>\n",
              "      <td>1</td>\n",
              "      <td>22</td>\n",
              "      <td>...</td>\n",
              "      <td>13820</td>\n",
              "      <td>260.754717</td>\n",
              "      <td>0</td>\n",
              "      <td>32</td>\n",
              "      <td>0.603774</td>\n",
              "      <td>10450</td>\n",
              "      <td>197.169811</td>\n",
              "      <td>0</td>\n",
              "      <td>24</td>\n",
              "      <td>0.452830</td>\n",
              "    </tr>\n",
              "    <tr>\n",
              "      <th>53</th>\n",
              "      <td>54</td>\n",
              "      <td>0</td>\n",
              "      <td>450</td>\n",
              "      <td>450</td>\n",
              "      <td>450</td>\n",
              "      <td>0</td>\n",
              "      <td>9410</td>\n",
              "      <td>174.259259</td>\n",
              "      <td>0</td>\n",
              "      <td>22</td>\n",
              "      <td>...</td>\n",
              "      <td>14270</td>\n",
              "      <td>264.259259</td>\n",
              "      <td>1</td>\n",
              "      <td>33</td>\n",
              "      <td>0.611111</td>\n",
              "      <td>10450</td>\n",
              "      <td>193.518519</td>\n",
              "      <td>0</td>\n",
              "      <td>24</td>\n",
              "      <td>0.444444</td>\n",
              "    </tr>\n",
              "    <tr>\n",
              "      <th>54</th>\n",
              "      <td>55</td>\n",
              "      <td>0</td>\n",
              "      <td>410</td>\n",
              "      <td>410</td>\n",
              "      <td>0</td>\n",
              "      <td>0</td>\n",
              "      <td>9410</td>\n",
              "      <td>171.090909</td>\n",
              "      <td>0</td>\n",
              "      <td>22</td>\n",
              "      <td>...</td>\n",
              "      <td>14270</td>\n",
              "      <td>259.454545</td>\n",
              "      <td>0</td>\n",
              "      <td>33</td>\n",
              "      <td>0.600000</td>\n",
              "      <td>10450</td>\n",
              "      <td>190.000000</td>\n",
              "      <td>0</td>\n",
              "      <td>24</td>\n",
              "      <td>0.436364</td>\n",
              "    </tr>\n",
              "    <tr>\n",
              "      <th>55</th>\n",
              "      <td>56</td>\n",
              "      <td>570</td>\n",
              "      <td>550</td>\n",
              "      <td>550</td>\n",
              "      <td>0</td>\n",
              "      <td>0</td>\n",
              "      <td>9980</td>\n",
              "      <td>178.214286</td>\n",
              "      <td>1</td>\n",
              "      <td>23</td>\n",
              "      <td>...</td>\n",
              "      <td>14270</td>\n",
              "      <td>254.821429</td>\n",
              "      <td>0</td>\n",
              "      <td>33</td>\n",
              "      <td>0.589286</td>\n",
              "      <td>10450</td>\n",
              "      <td>186.607143</td>\n",
              "      <td>0</td>\n",
              "      <td>24</td>\n",
              "      <td>0.428571</td>\n",
              "    </tr>\n",
              "    <tr>\n",
              "      <th>56</th>\n",
              "      <td>57</td>\n",
              "      <td>450</td>\n",
              "      <td>450</td>\n",
              "      <td>0</td>\n",
              "      <td>0</td>\n",
              "      <td>0</td>\n",
              "      <td>10430</td>\n",
              "      <td>182.982456</td>\n",
              "      <td>1</td>\n",
              "      <td>24</td>\n",
              "      <td>...</td>\n",
              "      <td>14270</td>\n",
              "      <td>250.350877</td>\n",
              "      <td>0</td>\n",
              "      <td>33</td>\n",
              "      <td>0.578947</td>\n",
              "      <td>10450</td>\n",
              "      <td>183.333333</td>\n",
              "      <td>0</td>\n",
              "      <td>24</td>\n",
              "      <td>0.421053</td>\n",
              "    </tr>\n",
              "    <tr>\n",
              "      <th>57</th>\n",
              "      <td>58</td>\n",
              "      <td>440</td>\n",
              "      <td>0</td>\n",
              "      <td>440</td>\n",
              "      <td>0</td>\n",
              "      <td>460</td>\n",
              "      <td>10870</td>\n",
              "      <td>187.413793</td>\n",
              "      <td>1</td>\n",
              "      <td>25</td>\n",
              "      <td>...</td>\n",
              "      <td>14270</td>\n",
              "      <td>246.034483</td>\n",
              "      <td>0</td>\n",
              "      <td>33</td>\n",
              "      <td>0.568966</td>\n",
              "      <td>10910</td>\n",
              "      <td>188.103448</td>\n",
              "      <td>1</td>\n",
              "      <td>25</td>\n",
              "      <td>0.431034</td>\n",
              "    </tr>\n",
              "    <tr>\n",
              "      <th>58</th>\n",
              "      <td>59</td>\n",
              "      <td>410</td>\n",
              "      <td>0</td>\n",
              "      <td>410</td>\n",
              "      <td>0</td>\n",
              "      <td>0</td>\n",
              "      <td>11280</td>\n",
              "      <td>191.186441</td>\n",
              "      <td>1</td>\n",
              "      <td>26</td>\n",
              "      <td>...</td>\n",
              "      <td>14270</td>\n",
              "      <td>241.864407</td>\n",
              "      <td>0</td>\n",
              "      <td>33</td>\n",
              "      <td>0.559322</td>\n",
              "      <td>10910</td>\n",
              "      <td>184.915254</td>\n",
              "      <td>0</td>\n",
              "      <td>25</td>\n",
              "      <td>0.423729</td>\n",
              "    </tr>\n",
              "  </tbody>\n",
              "</table>\n",
              "<p>59 rows × 31 columns</p>\n",
              "</div>"
            ],
            "text/plain": [
              "    Game ID  Prateek  Akash  Ani  Nats  Abhi  CumSum_Prateek  \\\n",
              "0         1        0    440    0   440   460               0   \n",
              "1         2        0    450    0     0   450               0   \n",
              "2         3        0      0  400   400   400               0   \n",
              "3         4        0      0  430     0   430               0   \n",
              "4         5      410    430    0   410     0             410   \n",
              "5         6        0      0  460   460     0             410   \n",
              "6         7        0      0  430     0   430             410   \n",
              "7         8      440      0    0   420   420             850   \n",
              "8         9        0    400    0   400     0             850   \n",
              "9        10        0    460  460   460     0             850   \n",
              "10       11      420      0    0     0   420            1270   \n",
              "11       12        0      0  410   410   430            1270   \n",
              "12       13        0      0  460   440   440            1270   \n",
              "13       14      410    430  410     0     0            1680   \n",
              "14       15      400      0  400     0   400            2080   \n",
              "15       16      530    530    0     0   550            2610   \n",
              "16       17        0      0  420   440   420            2610   \n",
              "17       18      420    440  420     0     0            3030   \n",
              "18       19      440    460    0   440     0            3470   \n",
              "19       20      410    430    0   410     0            3880   \n",
              "20       21        0      0  430   450   430            3880   \n",
              "21       22        0      0  460   460     0            3880   \n",
              "22       23        0      0    0   410   410            3880   \n",
              "23       24      430      0  430   430     0            4310   \n",
              "24       25      420    440    0   420     0            4730   \n",
              "25       26        0    430  430   430     0            4730   \n",
              "26       27        0    430    0   430     0            4730   \n",
              "27       28      450    430    0   430     0            5180   \n",
              "28       29      420      0  420     0     0            5600   \n",
              "29       30      430      0    0   430     0            6030   \n",
              "30       31      450    470    0   450     0            6480   \n",
              "31       32        0      0    0   440   440            6480   \n",
              "32       33        0    420  420     0     0            6480   \n",
              "33       34        0    430    0     0   430            6480   \n",
              "34       35      400    400    0     0     0            6880   \n",
              "35       36      430      0    0   430     0            7310   \n",
              "36       37        0      0  420   420     0            7310   \n",
              "37       38        0    420    0   420     0            7310   \n",
              "38       39      410    410    0   430     0            7720   \n",
              "39       40      440    440    0     0   460            8160   \n",
              "40       41        0      0    0   430   430            8160   \n",
              "41       42        0    440    0   440     0            8160   \n",
              "42       43      420      0  420     0   440            8580   \n",
              "43       44        0    420  420     0     0            8580   \n",
              "44       45        0      0  450   450     0            8580   \n",
              "45       46        0    460  440     0     0            8580   \n",
              "46       47        0      0  440   440   460            8580   \n",
              "47       48        0      0  440     0   440            8580   \n",
              "48       49      420    420    0     0   440            9000   \n",
              "49       50        0      0  470   450     0            9000   \n",
              "50       51        0    410    0     0   410            9000   \n",
              "51       52        0    410    0     0   410            9000   \n",
              "52       53      410    410    0     0     0            9410   \n",
              "53       54        0    450  450   450     0            9410   \n",
              "54       55        0    410  410     0     0            9410   \n",
              "55       56      570    550  550     0     0            9980   \n",
              "56       57      450    450    0     0     0           10430   \n",
              "57       58      440      0  440     0   460           10870   \n",
              "58       59      410      0  410     0     0           11280   \n",
              "\n",
              "    MovingAvgPoints_Prateek  Prateek_Won  NumGamesWon_Prateek  ...  \\\n",
              "0                  0.000000            0                    0  ...   \n",
              "1                  0.000000            0                    0  ...   \n",
              "2                  0.000000            0                    0  ...   \n",
              "3                  0.000000            0                    0  ...   \n",
              "4                 82.000000            1                    1  ...   \n",
              "5                 68.333333            0                    1  ...   \n",
              "6                 58.571429            0                    1  ...   \n",
              "7                106.250000            1                    2  ...   \n",
              "8                 94.444444            0                    2  ...   \n",
              "9                 85.000000            0                    2  ...   \n",
              "10               115.454545            1                    3  ...   \n",
              "11               105.833333            0                    3  ...   \n",
              "12                97.692308            0                    3  ...   \n",
              "13               120.000000            1                    4  ...   \n",
              "14               138.666667            1                    5  ...   \n",
              "15               163.125000            1                    6  ...   \n",
              "16               153.529412            0                    6  ...   \n",
              "17               168.333333            1                    7  ...   \n",
              "18               182.631579            1                    8  ...   \n",
              "19               194.000000            1                    9  ...   \n",
              "20               184.761905            0                    9  ...   \n",
              "21               176.363636            0                    9  ...   \n",
              "22               168.695652            0                    9  ...   \n",
              "23               179.583333            1                   10  ...   \n",
              "24               189.200000            1                   11  ...   \n",
              "25               181.923077            0                   11  ...   \n",
              "26               175.185185            0                   11  ...   \n",
              "27               185.000000            1                   12  ...   \n",
              "28               193.103448            1                   13  ...   \n",
              "29               201.000000            1                   14  ...   \n",
              "30               209.032258            1                   15  ...   \n",
              "31               202.500000            0                   15  ...   \n",
              "32               196.363636            0                   15  ...   \n",
              "33               190.588235            0                   15  ...   \n",
              "34               196.571429            1                   16  ...   \n",
              "35               203.055556            1                   17  ...   \n",
              "36               197.567568            0                   17  ...   \n",
              "37               192.368421            0                   17  ...   \n",
              "38               197.948718            1                   18  ...   \n",
              "39               204.000000            1                   19  ...   \n",
              "40               199.024390            0                   19  ...   \n",
              "41               194.285714            0                   19  ...   \n",
              "42               199.534884            1                   20  ...   \n",
              "43               195.000000            0                   20  ...   \n",
              "44               190.666667            0                   20  ...   \n",
              "45               186.521739            0                   20  ...   \n",
              "46               182.553191            0                   20  ...   \n",
              "47               178.750000            0                   20  ...   \n",
              "48               183.673469            1                   21  ...   \n",
              "49               180.000000            0                   21  ...   \n",
              "50               176.470588            0                   21  ...   \n",
              "51               173.076923            0                   21  ...   \n",
              "52               177.547170            1                   22  ...   \n",
              "53               174.259259            0                   22  ...   \n",
              "54               171.090909            0                   22  ...   \n",
              "55               178.214286            1                   23  ...   \n",
              "56               182.982456            1                   24  ...   \n",
              "57               187.413793            1                   25  ...   \n",
              "58               191.186441            1                   26  ...   \n",
              "\n",
              "    CumSum_Nats  MovingAvgPoints_Nats  Nats_Won  NumGamesWon_Nats  \\\n",
              "0           440            440.000000         1                 1   \n",
              "1           440            220.000000         0                 1   \n",
              "2           840            280.000000         1                 2   \n",
              "3           840            210.000000         0                 2   \n",
              "4          1250            250.000000         1                 3   \n",
              "5          1710            285.000000         1                 4   \n",
              "6          1710            244.285714         0                 4   \n",
              "7          2130            266.250000         1                 5   \n",
              "8          2530            281.111111         1                 6   \n",
              "9          2990            299.000000         1                 7   \n",
              "10         2990            271.818182         0                 7   \n",
              "11         3400            283.333333         1                 8   \n",
              "12         3840            295.384615         1                 9   \n",
              "13         3840            274.285714         0                 9   \n",
              "14         3840            256.000000         0                 9   \n",
              "15         3840            240.000000         0                 9   \n",
              "16         4280            251.764706         1                10   \n",
              "17         4280            237.777778         0                10   \n",
              "18         4720            248.421053         1                11   \n",
              "19         5130            256.500000         1                12   \n",
              "20         5580            265.714286         1                13   \n",
              "21         6040            274.545455         1                14   \n",
              "22         6450            280.434783         1                15   \n",
              "23         6880            286.666667         1                16   \n",
              "24         7300            292.000000         1                17   \n",
              "25         7730            297.307692         1                18   \n",
              "26         8160            302.222222         1                19   \n",
              "27         8590            306.785714         1                20   \n",
              "28         8590            296.206897         0                20   \n",
              "29         9020            300.666667         1                21   \n",
              "30         9470            305.483871         1                22   \n",
              "31         9910            309.687500         1                23   \n",
              "32         9910            300.303030         0                23   \n",
              "33         9910            291.470588         0                23   \n",
              "34         9910            283.142857         0                23   \n",
              "35        10340            287.222222         1                24   \n",
              "36        10760            290.810811         1                25   \n",
              "37        11180            294.210526         1                26   \n",
              "38        11610            297.692308         1                27   \n",
              "39        11610            290.250000         0                27   \n",
              "40        12040            293.658537         1                28   \n",
              "41        12480            297.142857         1                29   \n",
              "42        12480            290.232558         0                29   \n",
              "43        12480            283.636364         0                29   \n",
              "44        12930            287.333333         1                30   \n",
              "45        12930            281.086957         0                30   \n",
              "46        13370            284.468085         1                31   \n",
              "47        13370            278.541667         0                31   \n",
              "48        13370            272.857143         0                31   \n",
              "49        13820            276.400000         1                32   \n",
              "50        13820            270.980392         0                32   \n",
              "51        13820            265.769231         0                32   \n",
              "52        13820            260.754717         0                32   \n",
              "53        14270            264.259259         1                33   \n",
              "54        14270            259.454545         0                33   \n",
              "55        14270            254.821429         0                33   \n",
              "56        14270            250.350877         0                33   \n",
              "57        14270            246.034483         0                33   \n",
              "58        14270            241.864407         0                33   \n",
              "\n",
              "    WinRatio_Nats  CumSum_Abhi  MovingAvgPoints_Abhi  Abhi_Won  \\\n",
              "0        1.000000          460            460.000000         1   \n",
              "1        0.500000          910            455.000000         1   \n",
              "2        0.666667         1310            436.666667         1   \n",
              "3        0.500000         1740            435.000000         1   \n",
              "4        0.600000         1740            348.000000         0   \n",
              "5        0.666667         1740            290.000000         0   \n",
              "6        0.571429         2170            310.000000         1   \n",
              "7        0.625000         2590            323.750000         1   \n",
              "8        0.666667         2590            287.777778         0   \n",
              "9        0.700000         2590            259.000000         0   \n",
              "10       0.636364         3010            273.636364         1   \n",
              "11       0.666667         3440            286.666667         1   \n",
              "12       0.692308         3880            298.461538         1   \n",
              "13       0.642857         3880            277.142857         0   \n",
              "14       0.600000         4280            285.333333         1   \n",
              "15       0.562500         4830            301.875000         1   \n",
              "16       0.588235         5250            308.823529         1   \n",
              "17       0.555556         5250            291.666667         0   \n",
              "18       0.578947         5250            276.315789         0   \n",
              "19       0.600000         5250            262.500000         0   \n",
              "20       0.619048         5680            270.476190         1   \n",
              "21       0.636364         5680            258.181818         0   \n",
              "22       0.652174         6090            264.782609         1   \n",
              "23       0.666667         6090            253.750000         0   \n",
              "24       0.680000         6090            243.600000         0   \n",
              "25       0.692308         6090            234.230769         0   \n",
              "26       0.703704         6090            225.555556         0   \n",
              "27       0.714286         6090            217.500000         0   \n",
              "28       0.689655         6090            210.000000         0   \n",
              "29       0.700000         6090            203.000000         0   \n",
              "30       0.709677         6090            196.451613         0   \n",
              "31       0.718750         6530            204.062500         1   \n",
              "32       0.696970         6530            197.878788         0   \n",
              "33       0.676471         6960            204.705882         1   \n",
              "34       0.657143         6960            198.857143         0   \n",
              "35       0.666667         6960            193.333333         0   \n",
              "36       0.675676         6960            188.108108         0   \n",
              "37       0.684211         6960            183.157895         0   \n",
              "38       0.692308         6960            178.461538         0   \n",
              "39       0.675000         7420            185.500000         1   \n",
              "40       0.682927         7850            191.463415         1   \n",
              "41       0.690476         7850            186.904762         0   \n",
              "42       0.674419         8290            192.790698         1   \n",
              "43       0.659091         8290            188.409091         0   \n",
              "44       0.666667         8290            184.222222         0   \n",
              "45       0.652174         8290            180.217391         0   \n",
              "46       0.659574         8750            186.170213         1   \n",
              "47       0.645833         9190            191.458333         1   \n",
              "48       0.632653         9630            196.530612         1   \n",
              "49       0.640000         9630            192.600000         0   \n",
              "50       0.627451        10040            196.862745         1   \n",
              "51       0.615385        10450            200.961538         1   \n",
              "52       0.603774        10450            197.169811         0   \n",
              "53       0.611111        10450            193.518519         0   \n",
              "54       0.600000        10450            190.000000         0   \n",
              "55       0.589286        10450            186.607143         0   \n",
              "56       0.578947        10450            183.333333         0   \n",
              "57       0.568966        10910            188.103448         1   \n",
              "58       0.559322        10910            184.915254         0   \n",
              "\n",
              "    NumGamesWon_Abhi  WinRatio_Abhi  \n",
              "0                  1       1.000000  \n",
              "1                  2       1.000000  \n",
              "2                  3       1.000000  \n",
              "3                  4       1.000000  \n",
              "4                  4       0.800000  \n",
              "5                  4       0.666667  \n",
              "6                  5       0.714286  \n",
              "7                  6       0.750000  \n",
              "8                  6       0.666667  \n",
              "9                  6       0.600000  \n",
              "10                 7       0.636364  \n",
              "11                 8       0.666667  \n",
              "12                 9       0.692308  \n",
              "13                 9       0.642857  \n",
              "14                10       0.666667  \n",
              "15                11       0.687500  \n",
              "16                12       0.705882  \n",
              "17                12       0.666667  \n",
              "18                12       0.631579  \n",
              "19                12       0.600000  \n",
              "20                13       0.619048  \n",
              "21                13       0.590909  \n",
              "22                14       0.608696  \n",
              "23                14       0.583333  \n",
              "24                14       0.560000  \n",
              "25                14       0.538462  \n",
              "26                14       0.518519  \n",
              "27                14       0.500000  \n",
              "28                14       0.482759  \n",
              "29                14       0.466667  \n",
              "30                14       0.451613  \n",
              "31                15       0.468750  \n",
              "32                15       0.454545  \n",
              "33                16       0.470588  \n",
              "34                16       0.457143  \n",
              "35                16       0.444444  \n",
              "36                16       0.432432  \n",
              "37                16       0.421053  \n",
              "38                16       0.410256  \n",
              "39                17       0.425000  \n",
              "40                18       0.439024  \n",
              "41                18       0.428571  \n",
              "42                19       0.441860  \n",
              "43                19       0.431818  \n",
              "44                19       0.422222  \n",
              "45                19       0.413043  \n",
              "46                20       0.425532  \n",
              "47                21       0.437500  \n",
              "48                22       0.448980  \n",
              "49                22       0.440000  \n",
              "50                23       0.450980  \n",
              "51                24       0.461538  \n",
              "52                24       0.452830  \n",
              "53                24       0.444444  \n",
              "54                24       0.436364  \n",
              "55                24       0.428571  \n",
              "56                24       0.421053  \n",
              "57                25       0.431034  \n",
              "58                25       0.423729  \n",
              "\n",
              "[59 rows x 31 columns]"
            ]
          },
          "execution_count": 28,
          "metadata": {},
          "output_type": "execute_result"
        }
      ],
      "source": [
        "game_data = tournament.gameData\n",
        "game_data"
      ]
    },
    {
      "cell_type": "code",
      "execution_count": 30,
      "metadata": {},
      "outputs": [
        {
          "name": "stderr",
          "output_type": "stream",
          "text": [
            "/tmp/ipykernel_6578/2198901226.py:14: UserWarning:\n",
            "\n",
            "Tight layout not applied. The bottom and top margins cannot be made large enough to accommodate all axes decorations.\n",
            "\n"
          ]
        },
        {
          "data": {
            "image/png": "[encoded data removed]",
            "text/plain": [
              "<Waffle size 1500x600 with 1 Axes>"
            ]
          },
          "metadata": {},
          "output_type": "display_data"
        }
      ],
      "source": [
        "#!pip install pywaffle\n",
        "from matplotlib import pyplot as plt\n",
        "from pywaffle import Waffle\n",
        "\n",
        "\n",
        "fig = plt.figure(FigureClass=Waffle, \n",
        "                 rows=20, columns=50,\n",
        "                 values=game_data.Prateek, \n",
        "                #  colors=pal_,\n",
        "                 labels=[f'{i>0}+{j>0}' for i,j in zip(game_data.Prateek, game_data.Akash)],\n",
        "                 figsize = (15,6),\n",
        "                 legend={'loc':'upper right',\n",
        "                         'bbox_to_anchor': (1.32, 1),\n",
        "                        })\n",
        "plt.tight_layout()\n",
        "plt.show()"
      ]
    },
    {
      "cell_type": "code",
      "execution_count": 76,
      "metadata": {},
      "outputs": [
        {
          "name": "stdout",
          "output_type": "stream",
          "text": [
            "59\n",
            "{10: 28, 1: 30, 0: 27, 11: 13}\n",
            "{10: 17, 1: 18, 0: 16, 11: 8}\n"
          ]
        },
        {
          "data": {
            "image/png": "[encoded data removed]",
            "text/plain": [
              "<Waffle size 800x500 with 1 Axes>"
            ]
          },
          "metadata": {},
          "output_type": "display_data"
        }
      ],
      "source": [
        "import matplotlib.pyplot as plt\n",
        "from pywaffle import Waffle\n",
        "\n",
        "player_1 = 'Abhi'\n",
        "player_2 = 'Prateek'\n",
        "\n",
        "df1 = game_data[player_1]\n",
        "df2 = game_data[player_2]\n",
        "\n",
        "counter = {}\n",
        "for a,b in zip(df1, df2):\n",
        "    key = 10*int(bool(a)) + int(bool(b))\n",
        "    if key not in counter:\n",
        "        counter[key] = 0\n",
        "    counter[key] += 1\n",
        "\n",
        "total = game_data.shape[0]\n",
        "print(total)\n",
        "perc = {}\n",
        "for k, v in counter.items():\n",
        "    perc[k] = int(100.0*v/total)\n",
        "\n",
        "mapping = {\n",
        "    0: 'Motte',\n",
        "    1: player_2,\n",
        "    10: player_1,\n",
        "    11: 'Both'\n",
        "}\n",
        "\n",
        "print(perc)\n",
        "print(counter)\n",
        "data = counter\n",
        "# data = {'Democratic': 48, 'Republican': 46, 'Libertarian': 3}\n",
        "fig = plt.figure(\n",
        "    FigureClass=Waffle, \n",
        "    # rows=5, \n",
        "    rows=10, columns=40,\n",
        "    values=data, \n",
        "    colors=(\"#983D3D\", \"#232066\", \"#ACB732\", \"#FFBF32\"),\n",
        "    title={'label': f'{player_1} {player_2} combined stats', 'loc': 'left'},\n",
        "    labels=[\"{0} ({1}%)\".format(mapping[k], v) for k, v in perc.items()],\n",
        "    legend={'loc': 'lower left', 'bbox_to_anchor': (0, -0.4), 'ncol': len(data), 'framealpha': 0},\n",
        "    figsize=(8, 5)\n",
        ")\n",
        "fig.gca().set_facecolor('#EEEEEE')\n",
        "fig.set_facecolor('#EEEEEE')\n",
        "plt.show()"
      ]
    },
    {
      "cell_type": "code",
      "execution_count": null,
      "metadata": {},
      "outputs": [],
      "source": [
        "import matplotlib.pyplot as plt\n",
        "from pywaffle import Waffle\n",
        "\n",
        "player_1 = 'Prateek'\n",
        "player_2 = 'Akash'\n"
      ]
    },
    {
      "cell_type": "code",
      "execution_count": 47,
      "metadata": {},
      "outputs": [
        {
          "name": "stdout",
          "output_type": "stream",
          "text": [
            "{10: 16, 0: 17, 11: 16, 1: 10}\n"
          ]
        },
        {
          "data": {
            "image/png": "[encoded data removed]",
            "text/plain": [
              "<Waffle size 640x480 with 1 Axes>"
            ]
          },
          "metadata": {},
          "output_type": "display_data"
        }
      ],
      "source": [
        "\n",
        "df1 = game_data[player_1]\n",
        "df2 = game_data[player_2]\n",
        "\n",
        "counter = {}\n",
        "for a,b in zip(df1, df2):\n",
        "    key = int(bool(a)) + 10*int(bool(b))\n",
        "    if key not in counter:\n",
        "        counter[key] = 0\n",
        "    counter[key] += 1\n",
        "\n",
        "print(counter)\n",
        "data = counter\n",
        "data = {'Democratic': 48, 'Republican': 46, 'Libertarian': 3}\n",
        "fig = plt.figure(\n",
        "    FigureClass=Waffle, \n",
        "    rows=5, \n",
        "    values=data, \n",
        "    colors=(\"#983D3D\", \"#232066\", \"#DCB732\"),\n",
        "    title={'label': 'Vote Percentage in 2016 US Presidential Election', 'loc': 'left'},\n",
        "    labels=[\"{0} ({1}%)\".format(k, v) for k, v in data.items()],\n",
        "    legend={'loc': 'lower left', 'bbox_to_anchor': (0, -0.4), 'ncol': len(data), 'framealpha': 0}\n",
        ")\n",
        "fig.gca().set_facecolor('#EEEEEE')\n",
        "fig.set_facecolor('#EEEEEE')\n",
        "plt.show()"
      ]
    },
    {
      "cell_type": "code",
      "execution_count": null,
      "metadata": {},
      "outputs": [],
      "source": [
        "for player_1 in tournament.players:\n",
        "    \n",
        "    for player_2 in tournament.players:\n",
        "        print(player_2)"
      ]
    },
    {
      "cell_type": "code",
      "execution_count": null,
      "metadata": {},
      "outputs": [],
      "source": [
        "import plotly.graph_objects as go\n",
        "\n",
        "top_labels = ['Strongly<br>agree', 'Agree', 'Neutral', 'Disagree',\n",
        "              'Strongly<br>disagree']\n",
        "\n",
        "colors = ['rgba(38, 24, 74, 0.8)', 'rgba(71, 58, 131, 0.8)',\n",
        "          'rgba(122, 120, 168, 0.8)', 'rgba(164, 163, 204, 0.85)',\n",
        "          'rgba(190, 192, 213, 1)']\n",
        "\n",
        "x_data = [[21, 30, 21, 16, 12],\n",
        "          [24, 31, 19, 15, 11],\n",
        "          [27, 26, 23, 11, 13],\n",
        "          [29, 24, 15, 18, 14]]\n",
        "\n",
        "y_data = ['The course was effectively<br>organized',\n",
        "          'The course developed my<br>abilities and skills ' +\n",
        "          'for<br>the subject', 'The course developed ' +\n",
        "          'my<br>ability to think critically about<br>the subject',\n",
        "          'I would recommend this<br>course to a friend']\n",
        "\n",
        "fig = go.Figure()\n",
        "\n",
        "for i in range(0, len(x_data[0])):\n",
        "    for xd, yd in zip(x_data, y_data):\n",
        "        fig.add_trace(go.Bar(\n",
        "            x=[xd[i]], y=[yd],\n",
        "            orientation='h',\n",
        "            marker=dict(\n",
        "                color=colors[i],\n",
        "                line=dict(color='rgb(248, 248, 249)', width=1)\n",
        "            )\n",
        "        ))\n",
        "\n",
        "fig.update_layout(\n",
        "    xaxis=dict(\n",
        "        showgrid=False,\n",
        "        showline=False,\n",
        "        showticklabels=False,\n",
        "        zeroline=False,a\n",
        "        domain=[0.15, 1]\n",
        "    ),\n",
        "    yaxis=dict(\n",
        "        showgrid=False,\n",
        "        showline=False,\n",
        "        showticklabels=False,\n",
        "        zeroline=False,\n",
        "    ),\n",
        "    barmode='stack',\n",
        "    paper_bgcolor='rgb(248, 248, 255)',\n",
        "    plot_bgcolor='rgb(248, 248, 255)',\n",
        "    margin=dict(l=120, r=10, t=140, b=80),\n",
        "    showlegend=False,\n",
        ")\n",
        "\n",
        "annotations = []\n",
        "\n",
        "for yd, xd in zip(y_data, x_data):\n",
        "    # labeling the y-axis\n",
        "    annotations.append(dict(xref='paper', yref='y',\n",
        "                            x=0.14, y=yd,\n",
        "                            xanchor='right',\n",
        "                            text=str(yd),\n",
        "                            font=dict(family='Arial', size=14,\n",
        "                                      color='rgb(67, 67, 67)'),\n",
        "                            showarrow=False, align='right'))\n",
        "    # labeling the first percentage of each bar (x_axis)\n",
        "    annotations.append(dict(xref='x', yref='y',\n",
        "                            x=xd[0] / 2, y=yd,\n",
        "                            text=str(xd[0]) + '%',\n",
        "                            font=dict(family='Arial', size=14,\n",
        "                                      color='rgb(248, 248, 255)'),\n",
        "                            showarrow=False))\n",
        "    # labeling the first Likert scale (on the top)\n",
        "    if yd == y_data[-1]:\n",
        "        annotations.append(dict(xref='x', yref='paper',\n",
        "                                x=xd[0] / 2, y=1.1,\n",
        "                                text=top_labels[0],\n",
        "                                font=dict(family='Arial', size=14,\n",
        "                                          color='rgb(67, 67, 67)'),\n",
        "                                showarrow=False))\n",
        "    space = xd[0]\n",
        "    for i in range(1, len(xd)):\n",
        "            # labeling the rest of percentages for each bar (x_axis)\n",
        "            annotations.append(dict(xref='x', yref='y',\n",
        "                                    x=space + (xd[i]/2), y=yd,\n",
        "                                    text=str(xd[i]) + '%',\n",
        "                                    font=dict(family='Arial', size=14,\n",
        "                                              color='rgb(248, 248, 255)'),\n",
        "                                    showarrow=False))\n",
        "            # labeling the Likert scale\n",
        "            if yd == y_data[-1]:\n",
        "                annotations.append(dict(xref='x', yref='paper',\n",
        "                                        x=space + (xd[i]/2), y=1.1,\n",
        "                                        text=top_labels[i],\n",
        "                                        font=dict(family='Arial', size=14,\n",
        "                                                  color='rgb(67, 67, 67)'),\n",
        "                                        showarrow=False))\n",
        "            space += xd[i]\n",
        "\n",
        "fig.update_layout(annotations=annotations)\n",
        "\n",
        "fig.show()"
      ]
    },
    {
      "cell_type": "markdown",
      "metadata": {},
      "source": [
        "### Fin!"
      ]
    },
    {
      "cell_type": "markdown",
      "metadata": {},
      "source": []
    }
  ],
  "metadata": {
    "colab": {
      "provenance": []
    },
    "kernelspec": {
      "display_name": "Python 3",
      "name": "python3"
    },
    "language_info": {
      "codemirror_mode": {
        "name": "ipython",
        "version": 3
      },
      "file_extension": ".py",
      "mimetype": "text/x-python",
      "name": "python",
      "nbconvert_exporter": "python",
      "pygments_lexer": "ipython3",
      "version": "3.10.13"
    }
  },
  "nbformat": 4,
  "nbformat_minor": 0
}
