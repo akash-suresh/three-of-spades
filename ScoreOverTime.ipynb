{
  "cells": [
    {
      "cell_type": "code",
      "execution_count": 1,
      "metadata": {
        "colab": {
          "base_uri": "https://localhost:8080/"
        },
        "id": "m3Wwh7nUKSxZ",
        "outputId": "3adeb2f5-68bb-4150-adde-5152146f71da"
      },
      "outputs": [],
      "source": [
        "import pandas as pd\n",
        "import numpy as np\n",
        "import matplotlib.pyplot as plt\n",
        "\n",
        "from utils.data_cruncher import get_championship_details\n",
        "from utils.ranking_system import UniversalRatingSystem, compute_ranking\n",
        "from utils.constants import TOURNAMENT_LIST_CHRONOLOGICAL"
      ]
    },
    {
      "cell_type": "markdown",
      "metadata": {},
      "source": [
        "### Reading Data"
      ]
    },
    {
      "cell_type": "code",
      "execution_count": 3,
      "metadata": {
        "id": "p_79hy2J0zR9"
      },
      "outputs": [
        {
          "name": "stdout",
          "output_type": "stream",
          "text": [
            "## 3 of Spades Championship - 1\n",
            "Players participating in this Championship are : ['Akash', 'Abhi', 'Ani', 'Naati', 'Prateek']\n",
            "#1 [▲4] Prateek | 1011.6 (+11.6)\n",
            "#2 [▼1] Akash | 1008.7 (+8.7)\n",
            "#3 [▼1] Abhi | 1007.4 (+7.4)\n",
            "#4 [-] Naati | 1007.31 (+7.3)\n",
            "#5 [▼2] Ani | 997.68 (-2.3)\n",
            "\n",
            " -----------------------------\n",
            "## 3 of Spades Championship - 2\n",
            "Players participating in this Championship are : ['Ani', 'Abhi', 'Akash', 'Naati', 'Prateek']\n",
            "#1 [▲1] Akash | 1027.62 (+18.9)\n",
            "#2 [▲3] Ani | 1013.02 (+15.3)\n",
            "#3 [-] Abhi | 1011.39 (+4.0)\n",
            "#4 [-] Naati | 1000.35 (-7.0)\n",
            "#5 [▼4] Prateek | 995.38 (-16.2)\n",
            "\n",
            " -----------------------------\n",
            "## 3 of Spades Championship - 3\n",
            "Players participating in this Championship are : ['Abhi', 'Akash', 'Nats', 'Naati', 'Prateek']\n",
            "#1 [-] Akash | 1054.51 (+26.9)\n",
            "#2 [▲1] Abhi | 1027.14 (+15.8)\n",
            "#3 [▲1] Naati | 1018.3 (+17.9)\n",
            "#4 [▼2] Ani | 1013.02 (0.0)\n",
            "#5 [▲1] Prateek | 989.24 (-6.1)\n",
            "#6 [▼1] Nats | 979.01 (-21.0)\n",
            "\n",
            " -----------------------------\n",
            "## 3 of Spades Championship - 4\n",
            "Players participating in this Championship are : ['Akash', 'Ani', 'Nats', 'Naati', 'Prateek']\n",
            "#1 [-] Akash | 1065.91 (+11.4)\n",
            "#2 [-] Abhi | 1027.14 (0.0)\n",
            "#3 [▲1] Ani | 1023.26 (+10.2)\n",
            "#4 [▼1] Naati | 1010.84 (-7.5)\n",
            "#5 [-] Prateek | 990.24 (+1.0)\n",
            "#6 [-] Nats | 977.05 (-2.0)\n",
            "\n",
            " -----------------------------\n",
            "## 3 of Spades Championship - 5\n",
            "Players participating in this Championship are : ['Abhi', 'Akash', 'Nats', 'Naati', 'Prateek']\n",
            "#1 [-] Akash | 1092.87 (+27.0)\n",
            "#2 [▲1] Ani | 1023.26 (0.0)\n",
            "#3 [▼1] Abhi | 1014.2 (-12.9)\n",
            "#4 [-] Naati | 1012.92 (+2.1)\n",
            "#5 [-] Prateek | 1000.64 (+10.4)\n",
            "#6 [-] Nats | 970.59 (-6.5)\n",
            "\n",
            " -----------------------------\n",
            "## 3 of Spades Mini Championship - 1\n",
            "Players participating in this Mini Championship are : ['Akash', 'Naati', 'Nats', 'Prateek']\n",
            "#1 [-] Akash | 1093.94 (+1.1)\n",
            "#2 [-] Ani | 1023.26 (0.0)\n",
            "#3 [-] Abhi | 1014.2 (0.0)\n",
            "#4 [-] Naati | 1009.16 (-3.8)\n",
            "#5 [-] Prateek | 1004.17 (+3.5)\n",
            "#6 [-] Nats | 970.77 (+0.2)\n",
            "\n",
            " -----------------------------\n",
            "## 3 of Spades Championship - 6\n",
            "Players participating in this Championship are : ['Abhi', 'Akash', 'Ani', 'Naati', 'Nats', 'Prateek']\n",
            "#1 [-] Akash | 1128.87 (+34.9)\n",
            "#2 [▲3] Prateek | 1030.11 (+25.9)\n",
            "#3 [▼1] Ani | 1005.05 (-18.2)\n",
            "#4 [▼1] Abhi | 1002.88 (-11.3)\n",
            "#5 [▼1] Naati | 996.43 (-12.7)\n",
            "#6 [-] Nats | 980.98 (+10.2)\n",
            "\n",
            " -----------------------------\n",
            "## 3 of Spades Championship - 7\n",
            "Players participating in this Championship are : ['Prateek', 'Ani', 'Nats', 'Akash', 'Abhi']\n",
            "#1 [-] Akash | 1150.94 (+22.1)\n",
            "#2 [-] Prateek | 1034.09 (+4.0)\n",
            "#3 [-] Ani | 997.47 (-7.6)\n",
            "#4 [▲1] Naati | 996.43 (0.0)\n",
            "#5 [▼1] Abhi | 980.28 (-22.6)\n",
            "#6 [-] Nats | 977.71 (-3.3)\n",
            "\n",
            " -----------------------------\n",
            "## 3 of Spades Mini Championship - 2\n",
            "Players participating in this Mini Championship are : ['Abhi', 'Akash', 'Prateek', 'Nats']\n",
            "#1 [-] Akash | 1155.98 (+5.0)\n",
            "#2 [-] Prateek | 1067.86 (+33.8)\n",
            "#3 [-] Ani | 997.47 (0.0)\n",
            "#4 [-] Naati | 996.43 (0.0)\n",
            "#5 [▲1] Nats | 985.64 (+7.9)\n",
            "#6 [▼1] Abhi | 941.62 (-38.7)\n",
            "\n",
            " -----------------------------\n",
            "## 3 of Spades Championship - 8\n",
            "Players participating in this Championship are : ['Prateek', 'Akash', 'Ani', 'Nats', 'Abhi']\n",
            "#1 [-] Akash | 1158.9 (+2.9)\n",
            "#2 [-] Prateek | 1049.39 (-18.5)\n",
            "#3 [-] Ani | 1004.89 (+7.4)\n",
            "#4 [▲1] Nats | 1002.6 (+17.0)\n",
            "#5 [▼1] Naati | 996.43 (0.0)\n",
            "#6 [-] Abhi | 929.64 (-12.0)\n",
            "\n",
            " -----------------------------\n",
            "## 3 of Spades Mini Championship - 3\n",
            "Players participating in this Mini Championship are : ['Prateek', 'Ani', 'Abhi', 'Akash']\n",
            "#1 [-] Akash | 1157.57 (-1.3)\n",
            "#2 [-] Prateek | 1044.71 (-4.7)\n",
            "#3 [-] Ani | 1005.63 (+0.7)\n",
            "#4 [-] Nats | 1002.6 (0.0)\n",
            "#5 [-] Naati | 996.43 (0.0)\n",
            "#6 [-] Abhi | 935.3 (+5.7)\n",
            "\n",
            " -----------------------------\n",
            "## 3 of Spades International Friendly - 2\n",
            "Players participating in this International Friendly are : ['Nats', 'Priya', 'Shreyas', 'Darshan', 'Akash']\n",
            "#1 [-] Akash | 1168.57 (+11.0)\n",
            "#2 [-] Prateek | 1044.71 (0.0)\n",
            "#3 [▲1] Nats | 1011.21 (+8.6)\n",
            "#4 [▼1] Ani | 1005.63 (0.0)\n",
            "#5 [▲1] Shreyas | 1000.39 (+0.4)\n",
            "#6 [▲1] Darshan | 997.37 (-2.6)\n",
            "#7 [▲1] Naati | 996.43 (0.0)\n",
            "#8 [▼3] Priya | 984.69 (-15.3)\n",
            "#9 [-] Abhi | 935.3 (0.0)\n",
            "\n",
            " -----------------------------\n"
          ]
        }
      ],
      "source": [
        "universal_rating_system = UniversalRatingSystem()\n",
        "\n",
        "for TOURNAMENT_TYPE, TOURNEY_NUMBER in TOURNAMENT_LIST_CHRONOLOGICAL:\n",
        "    \n",
        "    raw_df, players, game_data, player_stats = get_championship_details(tourney_number=TOURNEY_NUMBER, tournament_type=TOURNAMENT_TYPE)\n",
        "    \n",
        "    before, after = compute_ranking(raw_df, universal_rating_system)\n",
        "    universal_rating_system.printRankingChange(before)\n"
      ]
    },
    {
      "cell_type": "code",
      "execution_count": null,
      "metadata": {},
      "outputs": [],
      "source": []
    }
  ],
  "metadata": {
    "colab": {
      "provenance": []
    },
    "kernelspec": {
      "display_name": "Python 3",
      "name": "python3"
    },
    "language_info": {
      "codemirror_mode": {
        "name": "ipython",
        "version": 3
      },
      "file_extension": ".py",
      "mimetype": "text/x-python",
      "name": "python",
      "nbconvert_exporter": "python",
      "pygments_lexer": "ipython3",
      "version": "3.10.13"
    }
  },
  "nbformat": 4,
  "nbformat_minor": 0
}
