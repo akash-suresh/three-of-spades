{
  "cells": [
    {
      "cell_type": "code",
      "execution_count": 1,
      "metadata": {
        "colab": {
          "base_uri": "https://localhost:8080/"
        },
        "id": "m3Wwh7nUKSxZ",
        "outputId": "3adeb2f5-68bb-4150-adde-5152146f71da"
      },
      "outputs": [],
      "source": [
        "import pandas as pd\n",
        "import numpy as np\n",
        "import matplotlib.pyplot as plt\n",
        "\n",
        "from utils.data_preprocessor import get_tourney_data, get_players, get_game_data_as_timeseries\n",
        "from utils.data_cruncher import get_bid_and_won_stats, get_player_stats\n",
        "from utils.data_cruncher import get_tri_stats, get_pairwise_stats\n",
        "from utils.plot_utils import plot_leaderboard_timeseries, plot_performance_timeseries, plot_leaderboard_barplot\n",
        "from utils.ranking_system import UniversalRatingSystem, compute_ranking\n",
        "\n",
        "\n"
      ]
    },
    {
      "cell_type": "markdown",
      "metadata": {},
      "source": [
        "### Reading Data"
      ]
    },
    {
      "cell_type": "code",
      "execution_count": 2,
      "metadata": {
        "id": "p_79hy2J0zR9"
      },
      "outputs": [
        {
          "name": "stdout",
          "output_type": "stream",
          "text": [
            "## 3 of Spades Championship - 1\n",
            "Players participating in this Championship are : ['Akash', 'Abhi', 'Ani', 'Naati', 'Prateek']\n",
            "Akash 1008.7\n",
            "Abhi 1007.4\n",
            "Ani 997.68\n",
            "Naati 1007.31\n",
            "Prateek 1011.6\n",
            "## 3 of Spades Championship - 2\n",
            "Players participating in this Championship are : ['Ani', 'Abhi', 'Akash', 'Naati', 'Prateek']\n",
            "Akash 1027.62\n",
            "Abhi 1011.39\n",
            "Ani 1013.02\n",
            "Naati 1000.35\n",
            "Prateek 995.38\n",
            "## 3 of Spades Championship - 3\n",
            "Players participating in this Championship are : ['Abhi', 'Akash', 'Nats', 'Naati', 'Prateek']\n",
            "Akash 1054.51\n",
            "Abhi 1027.14\n",
            "Ani 1013.02\n",
            "Naati 1018.3\n",
            "Prateek 989.24\n",
            "Nats 979.01\n",
            "## 3 of Spades Championship - 4\n",
            "Players participating in this Championship are : ['Akash', 'Ani', 'Nats', 'Naati', 'Prateek']\n",
            "Akash 1065.91\n",
            "Abhi 1027.14\n",
            "Ani 1023.26\n",
            "Naati 1010.84\n",
            "Prateek 990.24\n",
            "Nats 977.05\n",
            "## 3 of Spades Championship - 5\n",
            "Players participating in this Championship are : ['Abhi', 'Akash', 'Nats', 'Naati', 'Prateek']\n",
            "Akash 1092.87\n",
            "Abhi 1014.2\n",
            "Ani 1023.26\n",
            "Naati 1012.92\n",
            "Prateek 1000.64\n",
            "Nats 970.59\n",
            "## 3 of Spades Championship - 6\n",
            "Players participating in this Championship are : ['Abhi', 'Akash', 'Ani', 'Naati', 'Nats', 'Prateek']\n",
            "Akash 1127.84\n",
            "Abhi 1002.85\n",
            "Ani 1005.03\n",
            "Naati 1000.1\n",
            "Prateek 1026.72\n",
            "Nats 980.81\n",
            "## 3 of Spades Championship - 7\n",
            "Players participating in this Championship are : ['Prateek', 'Ani', 'Nats', 'Akash', 'Abhi']\n",
            "Akash 1149.92\n",
            "Abhi 980.19\n",
            "Ani 997.41\n",
            "Naati 1000.1\n",
            "Prateek 1030.8\n",
            "Nats 977.54\n",
            "## 3 of Spades Mini Championship - 1\n",
            "Players participating in this Mini Championship are : ['Akash', 'Naati', 'Nats', 'Prateek']\n",
            "Akash 1150.6\n",
            "Abhi 980.19\n",
            "Ani 997.41\n",
            "Naati 996.7\n",
            "Prateek 1034.15\n",
            "Nats 977.94\n",
            "## 3 of Spades Mini Championship - 2\n",
            "Players participating in this Mini Championship are : ['Abhi', 'Akash', 'Prateek', 'Nats']\n",
            "Akash 1155.7\n",
            "Abhi 941.56\n",
            "Ani 997.41\n",
            "Naati 996.7\n",
            "Prateek 1067.9\n",
            "Nats 985.84\n"
          ]
        }
      ],
      "source": [
        "championship_count = 7\n",
        "mini_championship_count = 2\n",
        "\n",
        "universal_rating_system = UniversalRatingSystem()\n",
        "\n",
        "# Championships!\n",
        "for tourney_number in range(1, 1+championship_count):\n",
        "    print(f'## 3 of Spades Championship - {tourney_number}')\n",
        "    raw_df = get_tourney_data(tourney_number, is_mini_championship=False)\n",
        "    players = get_players(raw_df)\n",
        "    print(f'Players participating in this Championship are : {players}')\n",
        "    compute_ranking(raw_df, universal_rating_system)\n",
        "    universal_rating_system.print()\n",
        "\n",
        "# Mini Championships!\n",
        "for tourney_number in range(1, 1+mini_championship_count):\n",
        "    print(f'## 3 of Spades Mini Championship - {tourney_number}')\n",
        "    raw_df = get_tourney_data(tourney_number, is_mini_championship=True)\n",
        "    players = get_players(raw_df)\n",
        "    print(f'Players participating in this Mini Championship are : {players}')\n",
        "    compute_ranking(raw_df, universal_rating_system)\n",
        "    universal_rating_system.print()\n"
      ]
    },
    {
      "cell_type": "code",
      "execution_count": null,
      "metadata": {},
      "outputs": [],
      "source": []
    }
  ],
  "metadata": {
    "colab": {
      "provenance": []
    },
    "kernelspec": {
      "display_name": "Python 3",
      "name": "python3"
    },
    "language_info": {
      "codemirror_mode": {
        "name": "ipython",
        "version": 3
      },
      "file_extension": ".py",
      "mimetype": "text/x-python",
      "name": "python",
      "nbconvert_exporter": "python",
      "pygments_lexer": "ipython3",
      "version": "3.10.13"
    }
  },
  "nbformat": 4,
  "nbformat_minor": 0
}
