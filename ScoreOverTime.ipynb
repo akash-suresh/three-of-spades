{
  "cells": [
    {
      "cell_type": "code",
      "execution_count": 2,
      "metadata": {
        "colab": {
          "base_uri": "https://localhost:8080/"
        },
        "id": "m3Wwh7nUKSxZ",
        "outputId": "3adeb2f5-68bb-4150-adde-5152146f71da"
      },
      "outputs": [],
      "source": [
        "import pandas as pd\n",
        "import numpy as np\n",
        "import matplotlib.pyplot as plt\n",
        "\n",
        "from utils.data_preprocessor import get_tourney_data, get_players, get_game_data_as_timeseries\n",
        "from utils.data_cruncher import get_bid_and_won_stats, get_player_stats\n",
        "from utils.data_cruncher import get_tri_stats, get_pairwise_stats\n",
        "from utils.plot_utils import plot_leaderboard_timeseries, plot_performance_timeseries, plot_leaderboard_barplot\n",
        "from utils.ranking_system import compute_ranking, print_score_keeper\n",
        "\n"
      ]
    },
    {
      "cell_type": "markdown",
      "metadata": {},
      "source": [
        "### Reading Data"
      ]
    },
    {
      "cell_type": "code",
      "execution_count": 4,
      "metadata": {
        "id": "p_79hy2J0zR9"
      },
      "outputs": [
        {
          "name": "stdout",
          "output_type": "stream",
          "text": [
            "## 3 of Spades Championship - 2\n",
            "Players participating in this Championship are : ['Abhi', 'Akash', 'Prateek', 'Nats']\n"
          ]
        }
      ],
      "source": [
        "championship_count = 7\n",
        "mini_championship_count = 2\n",
        "\n",
        "\n",
        "\n",
        "for tourney_number in range(1, 1+championship_count):\n",
        "    raw_df = get_tourney_data(tourney_number, is_mini_championship=False)\n",
        "\n",
        "game_data = get_game_data_as_timeseries(raw_df)\n",
        "players = get_players(raw_df)\n",
        "\n",
        "print(f'## 3 of Spades Championship - {TOURNEY_NUMBER}')\n",
        "print(f'Players participating in this Championship are : {players}')\n",
        "\n",
        "# raw_df.head()"
      ]
    },
    {
      "cell_type": "code",
      "execution_count": 12,
      "metadata": {},
      "outputs": [
        {
          "name": "stdout",
          "output_type": "stream",
          "text": [
            "Abhi 957.4258240296946\n",
            "Akash 1016.5292402237702\n",
            "Prateek 1032.5060531757094\n",
            "Nats 1001.8022308081038\n"
          ]
        }
      ],
      "source": [
        "\n",
        "\n",
        "score_keeper = compute_ranking(raw_df)\n",
        "print_score_keeper(score_keeper)"
      ]
    },
    {
      "cell_type": "code",
      "execution_count": null,
      "metadata": {},
      "outputs": [],
      "source": []
    }
  ],
  "metadata": {
    "colab": {
      "provenance": []
    },
    "kernelspec": {
      "display_name": "Python 3",
      "name": "python3"
    },
    "language_info": {
      "codemirror_mode": {
        "name": "ipython",
        "version": 3
      },
      "file_extension": ".py",
      "mimetype": "text/x-python",
      "name": "python",
      "nbconvert_exporter": "python",
      "pygments_lexer": "ipython3",
      "version": "3.10.13"
    }
  },
  "nbformat": 4,
  "nbformat_minor": 0
}
