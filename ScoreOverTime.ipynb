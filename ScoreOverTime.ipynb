{
  "cells": [
    {
      "cell_type": "code",
      "execution_count": 1,
      "metadata": {
        "colab": {
          "base_uri": "https://localhost:8080/"
        },
        "id": "m3Wwh7nUKSxZ",
        "outputId": "3adeb2f5-68bb-4150-adde-5152146f71da"
      },
      "outputs": [],
      "source": [
        "from utils.ranking_system import UniversalRatingSystem\n",
        "from utils.ranking_system import load_tournaments_from_history"
      ]
    },
    {
      "cell_type": "markdown",
      "metadata": {},
      "source": [
        "### Reading Data"
      ]
    },
    {
      "cell_type": "code",
      "execution_count": 2,
      "metadata": {
        "id": "p_79hy2J0zR9"
      },
      "outputs": [
        {
          "name": "stdout",
          "output_type": "stream",
          "text": [
            "Going back in time!\n"
          ]
        },
        {
          "name": "stderr",
          "output_type": "stream",
          "text": [
            "100%|██████████| 12/12 [00:00<00:00, 13.40it/s]\n"
          ]
        },
        {
          "name": "stdout",
          "output_type": "stream",
          "text": [
            "\n",
            "Championship #1\n"
          ]
        },
        {
          "data": {
            "text/html": [
              "<style type=\"text/css\">\n",
              "</style>\n",
              "<table id=\"T_d8ea9\">\n",
              "  <thead>\n",
              "    <tr>\n",
              "      <th id=\"T_d8ea9_level0_col0\" class=\"col_heading level0 col0\" >Rank</th>\n",
              "      <th id=\"T_d8ea9_level0_col1\" class=\"col_heading level0 col1\" >Player</th>\n",
              "      <th id=\"T_d8ea9_level0_col2\" class=\"col_heading level0 col2\" >Rating</th>\n",
              "      <th id=\"T_d8ea9_level0_col3\" class=\"col_heading level0 col3\" >Win%</th>\n",
              "    </tr>\n",
              "  </thead>\n",
              "  <tbody>\n",
              "    <tr>\n",
              "      <td id=\"T_d8ea9_row0_col0\" class=\"data row0 col0\" >#1 [▲4]</td>\n",
              "      <td id=\"T_d8ea9_row0_col1\" class=\"data row0 col1\" >Prateek</td>\n",
              "      <td id=\"T_d8ea9_row0_col2\" class=\"data row0 col2\" >1011 (+11)</td>\n",
              "      <td id=\"T_d8ea9_row0_col3\" class=\"data row0 col3\" >59</td>\n",
              "    </tr>\n",
              "    <tr>\n",
              "      <td id=\"T_d8ea9_row1_col0\" class=\"data row1 col0\" >#2 [▼1]</td>\n",
              "      <td id=\"T_d8ea9_row1_col1\" class=\"data row1 col1\" >Akash</td>\n",
              "      <td id=\"T_d8ea9_row1_col2\" class=\"data row1 col2\" >1008 (+8)</td>\n",
              "      <td id=\"T_d8ea9_row1_col3\" class=\"data row1 col3\" >54</td>\n",
              "    </tr>\n",
              "    <tr>\n",
              "      <td id=\"T_d8ea9_row2_col0\" class=\"data row2 col0\" >#3 [▼1]</td>\n",
              "      <td id=\"T_d8ea9_row2_col1\" class=\"data row2 col1\" >Abhi</td>\n",
              "      <td id=\"T_d8ea9_row2_col2\" class=\"data row2 col2\" >1007 (+7)</td>\n",
              "      <td id=\"T_d8ea9_row2_col3\" class=\"data row2 col3\" >56</td>\n",
              "    </tr>\n",
              "    <tr>\n",
              "      <td id=\"T_d8ea9_row3_col0\" class=\"data row3 col0\" >#4 [--]</td>\n",
              "      <td id=\"T_d8ea9_row3_col1\" class=\"data row3 col1\" >Naati</td>\n",
              "      <td id=\"T_d8ea9_row3_col2\" class=\"data row3 col2\" >1007 (+7)</td>\n",
              "      <td id=\"T_d8ea9_row3_col3\" class=\"data row3 col3\" >54</td>\n",
              "    </tr>\n",
              "    <tr>\n",
              "      <td id=\"T_d8ea9_row4_col0\" class=\"data row4 col0\" >#5 [▼2]</td>\n",
              "      <td id=\"T_d8ea9_row4_col1\" class=\"data row4 col1\" >Ani</td>\n",
              "      <td id=\"T_d8ea9_row4_col2\" class=\"data row4 col2\" >997 (-3)</td>\n",
              "      <td id=\"T_d8ea9_row4_col3\" class=\"data row4 col3\" >48</td>\n",
              "    </tr>\n",
              "  </tbody>\n",
              "</table>\n"
            ],
            "text/plain": [
              "<pandas.io.formats.style.Styler at 0x7ca0081e6800>"
            ]
          },
          "metadata": {},
          "output_type": "display_data"
        },
        {
          "name": "stdout",
          "output_type": "stream",
          "text": [
            "\n",
            " -----------------------------\n",
            "\n",
            "Championship #2\n"
          ]
        },
        {
          "data": {
            "text/html": [
              "<style type=\"text/css\">\n",
              "</style>\n",
              "<table id=\"T_73195\">\n",
              "  <thead>\n",
              "    <tr>\n",
              "      <th id=\"T_73195_level0_col0\" class=\"col_heading level0 col0\" >Rank</th>\n",
              "      <th id=\"T_73195_level0_col1\" class=\"col_heading level0 col1\" >Player</th>\n",
              "      <th id=\"T_73195_level0_col2\" class=\"col_heading level0 col2\" >Rating</th>\n",
              "      <th id=\"T_73195_level0_col3\" class=\"col_heading level0 col3\" >Win%</th>\n",
              "    </tr>\n",
              "  </thead>\n",
              "  <tbody>\n",
              "    <tr>\n",
              "      <td id=\"T_73195_row0_col0\" class=\"data row0 col0\" >#1 [▲1]</td>\n",
              "      <td id=\"T_73195_row0_col1\" class=\"data row0 col1\" >Akash</td>\n",
              "      <td id=\"T_73195_row0_col2\" class=\"data row0 col2\" >1027 (+18)</td>\n",
              "      <td id=\"T_73195_row0_col3\" class=\"data row0 col3\" >59</td>\n",
              "    </tr>\n",
              "    <tr>\n",
              "      <td id=\"T_73195_row1_col0\" class=\"data row1 col0\" >#2 [▲3]</td>\n",
              "      <td id=\"T_73195_row1_col1\" class=\"data row1 col1\" >Ani</td>\n",
              "      <td id=\"T_73195_row1_col2\" class=\"data row1 col2\" >1013 (+15)</td>\n",
              "      <td id=\"T_73195_row1_col3\" class=\"data row1 col3\" >55</td>\n",
              "    </tr>\n",
              "    <tr>\n",
              "      <td id=\"T_73195_row2_col0\" class=\"data row2 col0\" >#3 [--]</td>\n",
              "      <td id=\"T_73195_row2_col1\" class=\"data row2 col1\" >Abhi</td>\n",
              "      <td id=\"T_73195_row2_col2\" class=\"data row2 col2\" >1011 (+3)</td>\n",
              "      <td id=\"T_73195_row2_col3\" class=\"data row2 col3\" >55</td>\n",
              "    </tr>\n",
              "    <tr>\n",
              "      <td id=\"T_73195_row3_col0\" class=\"data row3 col0\" >#4 [--]</td>\n",
              "      <td id=\"T_73195_row3_col1\" class=\"data row3 col1\" >Naati</td>\n",
              "      <td id=\"T_73195_row3_col2\" class=\"data row3 col2\" >1000 (-7)</td>\n",
              "      <td id=\"T_73195_row3_col3\" class=\"data row3 col3\" >49</td>\n",
              "    </tr>\n",
              "    <tr>\n",
              "      <td id=\"T_73195_row4_col0\" class=\"data row4 col0\" >#5 [▼4]</td>\n",
              "      <td id=\"T_73195_row4_col1\" class=\"data row4 col1\" >Prateek</td>\n",
              "      <td id=\"T_73195_row4_col2\" class=\"data row4 col2\" >995 (-16)</td>\n",
              "      <td id=\"T_73195_row4_col3\" class=\"data row4 col3\" >49</td>\n",
              "    </tr>\n",
              "  </tbody>\n",
              "</table>\n"
            ],
            "text/plain": [
              "<pandas.io.formats.style.Styler at 0x7ca0082139d0>"
            ]
          },
          "metadata": {},
          "output_type": "display_data"
        },
        {
          "name": "stdout",
          "output_type": "stream",
          "text": [
            "\n",
            " -----------------------------\n",
            "\n",
            "Championship #3\n"
          ]
        },
        {
          "data": {
            "text/html": [
              "<style type=\"text/css\">\n",
              "</style>\n",
              "<table id=\"T_6f419\">\n",
              "  <thead>\n",
              "    <tr>\n",
              "      <th id=\"T_6f419_level0_col0\" class=\"col_heading level0 col0\" >Rank</th>\n",
              "      <th id=\"T_6f419_level0_col1\" class=\"col_heading level0 col1\" >Player</th>\n",
              "      <th id=\"T_6f419_level0_col2\" class=\"col_heading level0 col2\" >Rating</th>\n",
              "      <th id=\"T_6f419_level0_col3\" class=\"col_heading level0 col3\" >Win%</th>\n",
              "    </tr>\n",
              "  </thead>\n",
              "  <tbody>\n",
              "    <tr>\n",
              "      <td id=\"T_6f419_row0_col0\" class=\"data row0 col0\" >#1 [--]</td>\n",
              "      <td id=\"T_6f419_row0_col1\" class=\"data row0 col1\" >Akash</td>\n",
              "      <td id=\"T_6f419_row0_col2\" class=\"data row0 col2\" >1054 (+26)</td>\n",
              "      <td id=\"T_6f419_row0_col3\" class=\"data row0 col3\" >59</td>\n",
              "    </tr>\n",
              "    <tr>\n",
              "      <td id=\"T_6f419_row1_col0\" class=\"data row1 col0\" >#2 [▲1]</td>\n",
              "      <td id=\"T_6f419_row1_col1\" class=\"data row1 col1\" >Abhi</td>\n",
              "      <td id=\"T_6f419_row1_col2\" class=\"data row1 col2\" >1027 (+15)</td>\n",
              "      <td id=\"T_6f419_row1_col3\" class=\"data row1 col3\" >55</td>\n",
              "    </tr>\n",
              "    <tr>\n",
              "      <td id=\"T_6f419_row2_col0\" class=\"data row2 col0\" >#3 [▲1]</td>\n",
              "      <td id=\"T_6f419_row2_col1\" class=\"data row2 col1\" >Naati</td>\n",
              "      <td id=\"T_6f419_row2_col2\" class=\"data row2 col2\" >1018 (+17)</td>\n",
              "      <td id=\"T_6f419_row2_col3\" class=\"data row2 col3\" >53</td>\n",
              "    </tr>\n",
              "    <tr>\n",
              "      <td id=\"T_6f419_row3_col0\" class=\"data row3 col0\" >#4 [▼2]</td>\n",
              "      <td id=\"T_6f419_row3_col1\" class=\"data row3 col1\" >Ani</td>\n",
              "      <td id=\"T_6f419_row3_col2\" class=\"data row3 col2\" >1013 (0)</td>\n",
              "      <td id=\"T_6f419_row3_col3\" class=\"data row3 col3\" >55</td>\n",
              "    </tr>\n",
              "    <tr>\n",
              "      <td id=\"T_6f419_row4_col0\" class=\"data row4 col0\" >#5 [▲1]</td>\n",
              "      <td id=\"T_6f419_row4_col1\" class=\"data row4 col1\" >Prateek</td>\n",
              "      <td id=\"T_6f419_row4_col2\" class=\"data row4 col2\" >989 (-6)</td>\n",
              "      <td id=\"T_6f419_row4_col3\" class=\"data row4 col3\" >48</td>\n",
              "    </tr>\n",
              "    <tr>\n",
              "      <td id=\"T_6f419_row5_col0\" class=\"data row5 col0\" >#6 [▼1]</td>\n",
              "      <td id=\"T_6f419_row5_col1\" class=\"data row5 col1\" >Nats</td>\n",
              "      <td id=\"T_6f419_row5_col2\" class=\"data row5 col2\" >979 (-21)</td>\n",
              "      <td id=\"T_6f419_row5_col3\" class=\"data row5 col3\" >42</td>\n",
              "    </tr>\n",
              "  </tbody>\n",
              "</table>\n"
            ],
            "text/plain": [
              "<pandas.io.formats.style.Styler at 0x7ca0082129e0>"
            ]
          },
          "metadata": {},
          "output_type": "display_data"
        },
        {
          "name": "stdout",
          "output_type": "stream",
          "text": [
            "\n",
            " -----------------------------\n",
            "\n",
            "Championship #4\n"
          ]
        },
        {
          "data": {
            "text/html": [
              "<style type=\"text/css\">\n",
              "</style>\n",
              "<table id=\"T_6bde8\">\n",
              "  <thead>\n",
              "    <tr>\n",
              "      <th id=\"T_6bde8_level0_col0\" class=\"col_heading level0 col0\" >Rank</th>\n",
              "      <th id=\"T_6bde8_level0_col1\" class=\"col_heading level0 col1\" >Player</th>\n",
              "      <th id=\"T_6bde8_level0_col2\" class=\"col_heading level0 col2\" >Rating</th>\n",
              "      <th id=\"T_6bde8_level0_col3\" class=\"col_heading level0 col3\" >Win%</th>\n",
              "    </tr>\n",
              "  </thead>\n",
              "  <tbody>\n",
              "    <tr>\n",
              "      <td id=\"T_6bde8_row0_col0\" class=\"data row0 col0\" >#1 [--]</td>\n",
              "      <td id=\"T_6bde8_row0_col1\" class=\"data row0 col1\" >Akash</td>\n",
              "      <td id=\"T_6bde8_row0_col2\" class=\"data row0 col2\" >1065 (+10)</td>\n",
              "      <td id=\"T_6bde8_row0_col3\" class=\"data row0 col3\" >58</td>\n",
              "    </tr>\n",
              "    <tr>\n",
              "      <td id=\"T_6bde8_row1_col0\" class=\"data row1 col0\" >#2 [--]</td>\n",
              "      <td id=\"T_6bde8_row1_col1\" class=\"data row1 col1\" >Abhi</td>\n",
              "      <td id=\"T_6bde8_row1_col2\" class=\"data row1 col2\" >1027 (0)</td>\n",
              "      <td id=\"T_6bde8_row1_col3\" class=\"data row1 col3\" >55</td>\n",
              "    </tr>\n",
              "    <tr>\n",
              "      <td id=\"T_6bde8_row2_col0\" class=\"data row2 col0\" >#3 [▲1]</td>\n",
              "      <td id=\"T_6bde8_row2_col1\" class=\"data row2 col1\" >Ani</td>\n",
              "      <td id=\"T_6bde8_row2_col2\" class=\"data row2 col2\" >1023 (+9)</td>\n",
              "      <td id=\"T_6bde8_row2_col3\" class=\"data row2 col3\" >55</td>\n",
              "    </tr>\n",
              "    <tr>\n",
              "      <td id=\"T_6bde8_row3_col0\" class=\"data row3 col0\" >#4 [▼1]</td>\n",
              "      <td id=\"T_6bde8_row3_col1\" class=\"data row3 col1\" >Naati</td>\n",
              "      <td id=\"T_6bde8_row3_col2\" class=\"data row3 col2\" >1010 (-8)</td>\n",
              "      <td id=\"T_6bde8_row3_col3\" class=\"data row3 col3\" >51</td>\n",
              "    </tr>\n",
              "    <tr>\n",
              "      <td id=\"T_6bde8_row4_col0\" class=\"data row4 col0\" >#5 [--]</td>\n",
              "      <td id=\"T_6bde8_row4_col1\" class=\"data row4 col1\" >Prateek</td>\n",
              "      <td id=\"T_6bde8_row4_col2\" class=\"data row4 col2\" >990 (0)</td>\n",
              "      <td id=\"T_6bde8_row4_col3\" class=\"data row4 col3\" >48</td>\n",
              "    </tr>\n",
              "    <tr>\n",
              "      <td id=\"T_6bde8_row5_col0\" class=\"data row5 col0\" >#6 [--]</td>\n",
              "      <td id=\"T_6bde8_row5_col1\" class=\"data row5 col1\" >Nats</td>\n",
              "      <td id=\"T_6bde8_row5_col2\" class=\"data row5 col2\" >977 (-2)</td>\n",
              "      <td id=\"T_6bde8_row5_col3\" class=\"data row5 col3\" >44</td>\n",
              "    </tr>\n",
              "  </tbody>\n",
              "</table>\n"
            ],
            "text/plain": [
              "<pandas.io.formats.style.Styler at 0x7ca008212800>"
            ]
          },
          "metadata": {},
          "output_type": "display_data"
        },
        {
          "name": "stdout",
          "output_type": "stream",
          "text": [
            "\n",
            " -----------------------------\n",
            "\n",
            "Championship #5\n"
          ]
        },
        {
          "data": {
            "text/html": [
              "<style type=\"text/css\">\n",
              "</style>\n",
              "<table id=\"T_0f4e2\">\n",
              "  <thead>\n",
              "    <tr>\n",
              "      <th id=\"T_0f4e2_level0_col0\" class=\"col_heading level0 col0\" >Rank</th>\n",
              "      <th id=\"T_0f4e2_level0_col1\" class=\"col_heading level0 col1\" >Player</th>\n",
              "      <th id=\"T_0f4e2_level0_col2\" class=\"col_heading level0 col2\" >Rating</th>\n",
              "      <th id=\"T_0f4e2_level0_col3\" class=\"col_heading level0 col3\" >Win%</th>\n",
              "    </tr>\n",
              "  </thead>\n",
              "  <tbody>\n",
              "    <tr>\n",
              "      <td id=\"T_0f4e2_row0_col0\" class=\"data row0 col0\" >#1 [--]</td>\n",
              "      <td id=\"T_0f4e2_row0_col1\" class=\"data row0 col1\" >Akash</td>\n",
              "      <td id=\"T_0f4e2_row0_col2\" class=\"data row0 col2\" >1092 (+26)</td>\n",
              "      <td id=\"T_0f4e2_row0_col3\" class=\"data row0 col3\" >60</td>\n",
              "    </tr>\n",
              "    <tr>\n",
              "      <td id=\"T_0f4e2_row1_col0\" class=\"data row1 col0\" >#2 [▲1]</td>\n",
              "      <td id=\"T_0f4e2_row1_col1\" class=\"data row1 col1\" >Ani</td>\n",
              "      <td id=\"T_0f4e2_row1_col2\" class=\"data row1 col2\" >1023 (0)</td>\n",
              "      <td id=\"T_0f4e2_row1_col3\" class=\"data row1 col3\" >55</td>\n",
              "    </tr>\n",
              "    <tr>\n",
              "      <td id=\"T_0f4e2_row2_col0\" class=\"data row2 col0\" >#3 [▼1]</td>\n",
              "      <td id=\"T_0f4e2_row2_col1\" class=\"data row2 col1\" >Abhi</td>\n",
              "      <td id=\"T_0f4e2_row2_col2\" class=\"data row2 col2\" >1014 (-13)</td>\n",
              "      <td id=\"T_0f4e2_row2_col3\" class=\"data row2 col3\" >52</td>\n",
              "    </tr>\n",
              "    <tr>\n",
              "      <td id=\"T_0f4e2_row3_col0\" class=\"data row3 col0\" >#4 [--]</td>\n",
              "      <td id=\"T_0f4e2_row3_col1\" class=\"data row3 col1\" >Naati</td>\n",
              "      <td id=\"T_0f4e2_row3_col2\" class=\"data row3 col2\" >1012 (+1)</td>\n",
              "      <td id=\"T_0f4e2_row3_col3\" class=\"data row3 col3\" >51</td>\n",
              "    </tr>\n",
              "    <tr>\n",
              "      <td id=\"T_0f4e2_row4_col0\" class=\"data row4 col0\" >#5 [--]</td>\n",
              "      <td id=\"T_0f4e2_row4_col1\" class=\"data row4 col1\" >Prateek</td>\n",
              "      <td id=\"T_0f4e2_row4_col2\" class=\"data row4 col2\" >1000 (+9)</td>\n",
              "      <td id=\"T_0f4e2_row4_col3\" class=\"data row4 col3\" >50</td>\n",
              "    </tr>\n",
              "    <tr>\n",
              "      <td id=\"T_0f4e2_row5_col0\" class=\"data row5 col0\" >#6 [--]</td>\n",
              "      <td id=\"T_0f4e2_row5_col1\" class=\"data row5 col1\" >Nats</td>\n",
              "      <td id=\"T_0f4e2_row5_col2\" class=\"data row5 col2\" >970 (-7)</td>\n",
              "      <td id=\"T_0f4e2_row5_col3\" class=\"data row5 col3\" >44</td>\n",
              "    </tr>\n",
              "  </tbody>\n",
              "</table>\n"
            ],
            "text/plain": [
              "<pandas.io.formats.style.Styler at 0x7ca008212cb0>"
            ]
          },
          "metadata": {},
          "output_type": "display_data"
        },
        {
          "name": "stdout",
          "output_type": "stream",
          "text": [
            "\n",
            " -----------------------------\n",
            "\n",
            "Mini Championship #1\n"
          ]
        },
        {
          "data": {
            "text/html": [
              "<style type=\"text/css\">\n",
              "</style>\n",
              "<table id=\"T_53242\">\n",
              "  <thead>\n",
              "    <tr>\n",
              "      <th id=\"T_53242_level0_col0\" class=\"col_heading level0 col0\" >Rank</th>\n",
              "      <th id=\"T_53242_level0_col1\" class=\"col_heading level0 col1\" >Player</th>\n",
              "      <th id=\"T_53242_level0_col2\" class=\"col_heading level0 col2\" >Rating</th>\n",
              "      <th id=\"T_53242_level0_col3\" class=\"col_heading level0 col3\" >Win%</th>\n",
              "    </tr>\n",
              "  </thead>\n",
              "  <tbody>\n",
              "    <tr>\n",
              "      <td id=\"T_53242_row0_col0\" class=\"data row0 col0\" >#1 [--]</td>\n",
              "      <td id=\"T_53242_row0_col1\" class=\"data row0 col1\" >Akash</td>\n",
              "      <td id=\"T_53242_row0_col2\" class=\"data row0 col2\" >1093 (0)</td>\n",
              "      <td id=\"T_53242_row0_col3\" class=\"data row0 col3\" >59</td>\n",
              "    </tr>\n",
              "    <tr>\n",
              "      <td id=\"T_53242_row1_col0\" class=\"data row1 col0\" >#2 [--]</td>\n",
              "      <td id=\"T_53242_row1_col1\" class=\"data row1 col1\" >Ani</td>\n",
              "      <td id=\"T_53242_row1_col2\" class=\"data row1 col2\" >1023 (0)</td>\n",
              "      <td id=\"T_53242_row1_col3\" class=\"data row1 col3\" >55</td>\n",
              "    </tr>\n",
              "    <tr>\n",
              "      <td id=\"T_53242_row2_col0\" class=\"data row2 col0\" >#3 [--]</td>\n",
              "      <td id=\"T_53242_row2_col1\" class=\"data row2 col1\" >Abhi</td>\n",
              "      <td id=\"T_53242_row2_col2\" class=\"data row2 col2\" >1014 (0)</td>\n",
              "      <td id=\"T_53242_row2_col3\" class=\"data row2 col3\" >52</td>\n",
              "    </tr>\n",
              "    <tr>\n",
              "      <td id=\"T_53242_row3_col0\" class=\"data row3 col0\" >#4 [--]</td>\n",
              "      <td id=\"T_53242_row3_col1\" class=\"data row3 col1\" >Naati</td>\n",
              "      <td id=\"T_53242_row3_col2\" class=\"data row3 col2\" >1009 (-3)</td>\n",
              "      <td id=\"T_53242_row3_col3\" class=\"data row3 col3\" >50</td>\n",
              "    </tr>\n",
              "    <tr>\n",
              "      <td id=\"T_53242_row4_col0\" class=\"data row4 col0\" >#5 [--]</td>\n",
              "      <td id=\"T_53242_row4_col1\" class=\"data row4 col1\" >Prateek</td>\n",
              "      <td id=\"T_53242_row4_col2\" class=\"data row4 col2\" >1004 (+3)</td>\n",
              "      <td id=\"T_53242_row4_col3\" class=\"data row4 col3\" >50</td>\n",
              "    </tr>\n",
              "    <tr>\n",
              "      <td id=\"T_53242_row5_col0\" class=\"data row5 col0\" >#6 [--]</td>\n",
              "      <td id=\"T_53242_row5_col1\" class=\"data row5 col1\" >Nats</td>\n",
              "      <td id=\"T_53242_row5_col2\" class=\"data row5 col2\" >970 (0)</td>\n",
              "      <td id=\"T_53242_row5_col3\" class=\"data row5 col3\" >44</td>\n",
              "    </tr>\n",
              "  </tbody>\n",
              "</table>\n"
            ],
            "text/plain": [
              "<pandas.io.formats.style.Styler at 0x7ca0081e6800>"
            ]
          },
          "metadata": {},
          "output_type": "display_data"
        },
        {
          "name": "stdout",
          "output_type": "stream",
          "text": [
            "\n",
            " -----------------------------\n",
            "\n",
            "Championship #6\n"
          ]
        },
        {
          "data": {
            "text/html": [
              "<style type=\"text/css\">\n",
              "</style>\n",
              "<table id=\"T_a8800\">\n",
              "  <thead>\n",
              "    <tr>\n",
              "      <th id=\"T_a8800_level0_col0\" class=\"col_heading level0 col0\" >Rank</th>\n",
              "      <th id=\"T_a8800_level0_col1\" class=\"col_heading level0 col1\" >Player</th>\n",
              "      <th id=\"T_a8800_level0_col2\" class=\"col_heading level0 col2\" >Rating</th>\n",
              "      <th id=\"T_a8800_level0_col3\" class=\"col_heading level0 col3\" >Win%</th>\n",
              "    </tr>\n",
              "  </thead>\n",
              "  <tbody>\n",
              "    <tr>\n",
              "      <td id=\"T_a8800_row0_col0\" class=\"data row0 col0\" >#1 [--]</td>\n",
              "      <td id=\"T_a8800_row0_col1\" class=\"data row0 col1\" >Akash</td>\n",
              "      <td id=\"T_a8800_row0_col2\" class=\"data row0 col2\" >1128 (+34)</td>\n",
              "      <td id=\"T_a8800_row0_col3\" class=\"data row0 col3\" >61</td>\n",
              "    </tr>\n",
              "    <tr>\n",
              "      <td id=\"T_a8800_row1_col0\" class=\"data row1 col0\" >#2 [▲3]</td>\n",
              "      <td id=\"T_a8800_row1_col1\" class=\"data row1 col1\" >Prateek</td>\n",
              "      <td id=\"T_a8800_row1_col2\" class=\"data row1 col2\" >1030 (+25)</td>\n",
              "      <td id=\"T_a8800_row1_col3\" class=\"data row1 col3\" >52</td>\n",
              "    </tr>\n",
              "    <tr>\n",
              "      <td id=\"T_a8800_row2_col0\" class=\"data row2 col0\" >#3 [▼1]</td>\n",
              "      <td id=\"T_a8800_row2_col1\" class=\"data row2 col1\" >Ani</td>\n",
              "      <td id=\"T_a8800_row2_col2\" class=\"data row2 col2\" >1005 (-18)</td>\n",
              "      <td id=\"T_a8800_row2_col3\" class=\"data row2 col3\" >50</td>\n",
              "    </tr>\n",
              "    <tr>\n",
              "      <td id=\"T_a8800_row3_col0\" class=\"data row3 col0\" >#4 [▼1]</td>\n",
              "      <td id=\"T_a8800_row3_col1\" class=\"data row3 col1\" >Abhi</td>\n",
              "      <td id=\"T_a8800_row3_col2\" class=\"data row3 col2\" >1002 (-12)</td>\n",
              "      <td id=\"T_a8800_row3_col3\" class=\"data row3 col3\" >50</td>\n",
              "    </tr>\n",
              "    <tr>\n",
              "      <td id=\"T_a8800_row4_col0\" class=\"data row4 col0\" >#5 [▼1]</td>\n",
              "      <td id=\"T_a8800_row4_col1\" class=\"data row4 col1\" >Naati</td>\n",
              "      <td id=\"T_a8800_row4_col2\" class=\"data row4 col2\" >996 (-13)</td>\n",
              "      <td id=\"T_a8800_row4_col3\" class=\"data row4 col3\" >49</td>\n",
              "    </tr>\n",
              "    <tr>\n",
              "      <td id=\"T_a8800_row5_col0\" class=\"data row5 col0\" >#6 [--]</td>\n",
              "      <td id=\"T_a8800_row5_col1\" class=\"data row5 col1\" >Nats</td>\n",
              "      <td id=\"T_a8800_row5_col2\" class=\"data row5 col2\" >980 (+9)</td>\n",
              "      <td id=\"T_a8800_row5_col3\" class=\"data row5 col3\" >46</td>\n",
              "    </tr>\n",
              "  </tbody>\n",
              "</table>\n"
            ],
            "text/plain": [
              "<pandas.io.formats.style.Styler at 0x7ca025fc30d0>"
            ]
          },
          "metadata": {},
          "output_type": "display_data"
        },
        {
          "name": "stdout",
          "output_type": "stream",
          "text": [
            "\n",
            " -----------------------------\n",
            "\n",
            "Championship #7\n"
          ]
        },
        {
          "data": {
            "text/html": [
              "<style type=\"text/css\">\n",
              "</style>\n",
              "<table id=\"T_98c0e\">\n",
              "  <thead>\n",
              "    <tr>\n",
              "      <th id=\"T_98c0e_level0_col0\" class=\"col_heading level0 col0\" >Rank</th>\n",
              "      <th id=\"T_98c0e_level0_col1\" class=\"col_heading level0 col1\" >Player</th>\n",
              "      <th id=\"T_98c0e_level0_col2\" class=\"col_heading level0 col2\" >Rating</th>\n",
              "      <th id=\"T_98c0e_level0_col3\" class=\"col_heading level0 col3\" >Win%</th>\n",
              "    </tr>\n",
              "  </thead>\n",
              "  <tbody>\n",
              "    <tr>\n",
              "      <td id=\"T_98c0e_row0_col0\" class=\"data row0 col0\" >#1 [--]</td>\n",
              "      <td id=\"T_98c0e_row0_col1\" class=\"data row0 col1\" >Akash</td>\n",
              "      <td id=\"T_98c0e_row0_col2\" class=\"data row0 col2\" >1150 (+21)</td>\n",
              "      <td id=\"T_98c0e_row0_col3\" class=\"data row0 col3\" >61</td>\n",
              "    </tr>\n",
              "    <tr>\n",
              "      <td id=\"T_98c0e_row1_col0\" class=\"data row1 col0\" >#2 [--]</td>\n",
              "      <td id=\"T_98c0e_row1_col1\" class=\"data row1 col1\" >Prateek</td>\n",
              "      <td id=\"T_98c0e_row1_col2\" class=\"data row1 col2\" >1034 (+3)</td>\n",
              "      <td id=\"T_98c0e_row1_col3\" class=\"data row1 col3\" >53</td>\n",
              "    </tr>\n",
              "    <tr>\n",
              "      <td id=\"T_98c0e_row2_col0\" class=\"data row2 col0\" >#3 [--]</td>\n",
              "      <td id=\"T_98c0e_row2_col1\" class=\"data row2 col1\" >Ani</td>\n",
              "      <td id=\"T_98c0e_row2_col2\" class=\"data row2 col2\" >997 (-8)</td>\n",
              "      <td id=\"T_98c0e_row2_col3\" class=\"data row2 col3\" >49</td>\n",
              "    </tr>\n",
              "    <tr>\n",
              "      <td id=\"T_98c0e_row3_col0\" class=\"data row3 col0\" >#4 [▲1]</td>\n",
              "      <td id=\"T_98c0e_row3_col1\" class=\"data row3 col1\" >Naati</td>\n",
              "      <td id=\"T_98c0e_row3_col2\" class=\"data row3 col2\" >996 (0)</td>\n",
              "      <td id=\"T_98c0e_row3_col3\" class=\"data row3 col3\" >49</td>\n",
              "    </tr>\n",
              "    <tr>\n",
              "      <td id=\"T_98c0e_row4_col0\" class=\"data row4 col0\" >#5 [▼1]</td>\n",
              "      <td id=\"T_98c0e_row4_col1\" class=\"data row4 col1\" >Abhi</td>\n",
              "      <td id=\"T_98c0e_row4_col2\" class=\"data row4 col2\" >980 (-22)</td>\n",
              "      <td id=\"T_98c0e_row4_col3\" class=\"data row4 col3\" >48</td>\n",
              "    </tr>\n",
              "    <tr>\n",
              "      <td id=\"T_98c0e_row5_col0\" class=\"data row5 col0\" >#6 [--]</td>\n",
              "      <td id=\"T_98c0e_row5_col1\" class=\"data row5 col1\" >Nats</td>\n",
              "      <td id=\"T_98c0e_row5_col2\" class=\"data row5 col2\" >977 (-3)</td>\n",
              "      <td id=\"T_98c0e_row5_col3\" class=\"data row5 col3\" >46</td>\n",
              "    </tr>\n",
              "  </tbody>\n",
              "</table>\n"
            ],
            "text/plain": [
              "<pandas.io.formats.style.Styler at 0x7ca0081e6800>"
            ]
          },
          "metadata": {},
          "output_type": "display_data"
        },
        {
          "name": "stdout",
          "output_type": "stream",
          "text": [
            "\n",
            " -----------------------------\n",
            "\n",
            "Mini Championship #2\n"
          ]
        },
        {
          "data": {
            "text/html": [
              "<style type=\"text/css\">\n",
              "</style>\n",
              "<table id=\"T_69ae1\">\n",
              "  <thead>\n",
              "    <tr>\n",
              "      <th id=\"T_69ae1_level0_col0\" class=\"col_heading level0 col0\" >Rank</th>\n",
              "      <th id=\"T_69ae1_level0_col1\" class=\"col_heading level0 col1\" >Player</th>\n",
              "      <th id=\"T_69ae1_level0_col2\" class=\"col_heading level0 col2\" >Rating</th>\n",
              "      <th id=\"T_69ae1_level0_col3\" class=\"col_heading level0 col3\" >Win%</th>\n",
              "    </tr>\n",
              "  </thead>\n",
              "  <tbody>\n",
              "    <tr>\n",
              "      <td id=\"T_69ae1_row0_col0\" class=\"data row0 col0\" >#1 [--]</td>\n",
              "      <td id=\"T_69ae1_row0_col1\" class=\"data row0 col1\" >Akash</td>\n",
              "      <td id=\"T_69ae1_row0_col2\" class=\"data row0 col2\" >1155 (+4)</td>\n",
              "      <td id=\"T_69ae1_row0_col3\" class=\"data row0 col3\" >59</td>\n",
              "    </tr>\n",
              "    <tr>\n",
              "      <td id=\"T_69ae1_row1_col0\" class=\"data row1 col0\" >#2 [--]</td>\n",
              "      <td id=\"T_69ae1_row1_col1\" class=\"data row1 col1\" >Prateek</td>\n",
              "      <td id=\"T_69ae1_row1_col2\" class=\"data row1 col2\" >1067 (+32)</td>\n",
              "      <td id=\"T_69ae1_row1_col3\" class=\"data row1 col3\" >55</td>\n",
              "    </tr>\n",
              "    <tr>\n",
              "      <td id=\"T_69ae1_row2_col0\" class=\"data row2 col0\" >#3 [--]</td>\n",
              "      <td id=\"T_69ae1_row2_col1\" class=\"data row2 col1\" >Ani</td>\n",
              "      <td id=\"T_69ae1_row2_col2\" class=\"data row2 col2\" >997 (0)</td>\n",
              "      <td id=\"T_69ae1_row2_col3\" class=\"data row2 col3\" >49</td>\n",
              "    </tr>\n",
              "    <tr>\n",
              "      <td id=\"T_69ae1_row3_col0\" class=\"data row3 col0\" >#4 [--]</td>\n",
              "      <td id=\"T_69ae1_row3_col1\" class=\"data row3 col1\" >Naati</td>\n",
              "      <td id=\"T_69ae1_row3_col2\" class=\"data row3 col2\" >996 (0)</td>\n",
              "      <td id=\"T_69ae1_row3_col3\" class=\"data row3 col3\" >49</td>\n",
              "    </tr>\n",
              "    <tr>\n",
              "      <td id=\"T_69ae1_row4_col0\" class=\"data row4 col0\" >#5 [▲1]</td>\n",
              "      <td id=\"T_69ae1_row4_col1\" class=\"data row4 col1\" >Nats</td>\n",
              "      <td id=\"T_69ae1_row4_col2\" class=\"data row4 col2\" >985 (+7)</td>\n",
              "      <td id=\"T_69ae1_row4_col3\" class=\"data row4 col3\" >47</td>\n",
              "    </tr>\n",
              "    <tr>\n",
              "      <td id=\"T_69ae1_row5_col0\" class=\"data row5 col0\" >#6 [▼1]</td>\n",
              "      <td id=\"T_69ae1_row5_col1\" class=\"data row5 col1\" >Abhi</td>\n",
              "      <td id=\"T_69ae1_row5_col2\" class=\"data row5 col2\" >941 (-39)</td>\n",
              "      <td id=\"T_69ae1_row5_col3\" class=\"data row5 col3\" >43</td>\n",
              "    </tr>\n",
              "  </tbody>\n",
              "</table>\n"
            ],
            "text/plain": [
              "<pandas.io.formats.style.Styler at 0x7ca025fc30d0>"
            ]
          },
          "metadata": {},
          "output_type": "display_data"
        },
        {
          "name": "stdout",
          "output_type": "stream",
          "text": [
            "\n",
            " -----------------------------\n",
            "\n",
            "Championship #8\n"
          ]
        },
        {
          "data": {
            "text/html": [
              "<style type=\"text/css\">\n",
              "</style>\n",
              "<table id=\"T_f3fc7\">\n",
              "  <thead>\n",
              "    <tr>\n",
              "      <th id=\"T_f3fc7_level0_col0\" class=\"col_heading level0 col0\" >Rank</th>\n",
              "      <th id=\"T_f3fc7_level0_col1\" class=\"col_heading level0 col1\" >Player</th>\n",
              "      <th id=\"T_f3fc7_level0_col2\" class=\"col_heading level0 col2\" >Rating</th>\n",
              "      <th id=\"T_f3fc7_level0_col3\" class=\"col_heading level0 col3\" >Win%</th>\n",
              "    </tr>\n",
              "  </thead>\n",
              "  <tbody>\n",
              "    <tr>\n",
              "      <td id=\"T_f3fc7_row0_col0\" class=\"data row0 col0\" >#1 [--]</td>\n",
              "      <td id=\"T_f3fc7_row0_col1\" class=\"data row0 col1\" >Akash</td>\n",
              "      <td id=\"T_f3fc7_row0_col2\" class=\"data row0 col2\" >1158 (+2)</td>\n",
              "      <td id=\"T_f3fc7_row0_col3\" class=\"data row0 col3\" >59</td>\n",
              "    </tr>\n",
              "    <tr>\n",
              "      <td id=\"T_f3fc7_row1_col0\" class=\"data row1 col0\" >#2 [--]</td>\n",
              "      <td id=\"T_f3fc7_row1_col1\" class=\"data row1 col1\" >Prateek</td>\n",
              "      <td id=\"T_f3fc7_row1_col2\" class=\"data row1 col2\" >1049 (-18)</td>\n",
              "      <td id=\"T_f3fc7_row1_col3\" class=\"data row1 col3\" >53</td>\n",
              "    </tr>\n",
              "    <tr>\n",
              "      <td id=\"T_f3fc7_row2_col0\" class=\"data row2 col0\" >#3 [--]</td>\n",
              "      <td id=\"T_f3fc7_row2_col1\" class=\"data row2 col1\" >Ani</td>\n",
              "      <td id=\"T_f3fc7_row2_col2\" class=\"data row2 col2\" >1004 (+6)</td>\n",
              "      <td id=\"T_f3fc7_row2_col3\" class=\"data row2 col3\" >49</td>\n",
              "    </tr>\n",
              "    <tr>\n",
              "      <td id=\"T_f3fc7_row3_col0\" class=\"data row3 col0\" >#4 [▲1]</td>\n",
              "      <td id=\"T_f3fc7_row3_col1\" class=\"data row3 col1\" >Nats</td>\n",
              "      <td id=\"T_f3fc7_row3_col2\" class=\"data row3 col2\" >1002 (+16)</td>\n",
              "      <td id=\"T_f3fc7_row3_col3\" class=\"data row3 col3\" >48</td>\n",
              "    </tr>\n",
              "    <tr>\n",
              "      <td id=\"T_f3fc7_row4_col0\" class=\"data row4 col0\" >#5 [▼1]</td>\n",
              "      <td id=\"T_f3fc7_row4_col1\" class=\"data row4 col1\" >Naati</td>\n",
              "      <td id=\"T_f3fc7_row4_col2\" class=\"data row4 col2\" >996 (0)</td>\n",
              "      <td id=\"T_f3fc7_row4_col3\" class=\"data row4 col3\" >49</td>\n",
              "    </tr>\n",
              "    <tr>\n",
              "      <td id=\"T_f3fc7_row5_col0\" class=\"data row5 col0\" >#6 [--]</td>\n",
              "      <td id=\"T_f3fc7_row5_col1\" class=\"data row5 col1\" >Abhi</td>\n",
              "      <td id=\"T_f3fc7_row5_col2\" class=\"data row5 col2\" >929 (-12)</td>\n",
              "      <td id=\"T_f3fc7_row5_col3\" class=\"data row5 col3\" >43</td>\n",
              "    </tr>\n",
              "  </tbody>\n",
              "</table>\n"
            ],
            "text/plain": [
              "<pandas.io.formats.style.Styler at 0x7ca0081e6800>"
            ]
          },
          "metadata": {},
          "output_type": "display_data"
        },
        {
          "name": "stdout",
          "output_type": "stream",
          "text": [
            "\n",
            " -----------------------------\n",
            "\n",
            "Mini Championship #3\n"
          ]
        },
        {
          "data": {
            "text/html": [
              "<style type=\"text/css\">\n",
              "</style>\n",
              "<table id=\"T_f1613\">\n",
              "  <thead>\n",
              "    <tr>\n",
              "      <th id=\"T_f1613_level0_col0\" class=\"col_heading level0 col0\" >Rank</th>\n",
              "      <th id=\"T_f1613_level0_col1\" class=\"col_heading level0 col1\" >Player</th>\n",
              "      <th id=\"T_f1613_level0_col2\" class=\"col_heading level0 col2\" >Rating</th>\n",
              "      <th id=\"T_f1613_level0_col3\" class=\"col_heading level0 col3\" >Win%</th>\n",
              "    </tr>\n",
              "  </thead>\n",
              "  <tbody>\n",
              "    <tr>\n",
              "      <td id=\"T_f1613_row0_col0\" class=\"data row0 col0\" >#1 [--]</td>\n",
              "      <td id=\"T_f1613_row0_col1\" class=\"data row0 col1\" >Akash</td>\n",
              "      <td id=\"T_f1613_row0_col2\" class=\"data row0 col2\" >1157 (-1)</td>\n",
              "      <td id=\"T_f1613_row0_col3\" class=\"data row0 col3\" >58</td>\n",
              "    </tr>\n",
              "    <tr>\n",
              "      <td id=\"T_f1613_row1_col0\" class=\"data row1 col0\" >#2 [--]</td>\n",
              "      <td id=\"T_f1613_row1_col1\" class=\"data row1 col1\" >Prateek</td>\n",
              "      <td id=\"T_f1613_row1_col2\" class=\"data row1 col2\" >1044 (-5)</td>\n",
              "      <td id=\"T_f1613_row1_col3\" class=\"data row1 col3\" >53</td>\n",
              "    </tr>\n",
              "    <tr>\n",
              "      <td id=\"T_f1613_row2_col0\" class=\"data row2 col0\" >#3 [--]</td>\n",
              "      <td id=\"T_f1613_row2_col1\" class=\"data row2 col1\" >Ani</td>\n",
              "      <td id=\"T_f1613_row2_col2\" class=\"data row2 col2\" >1005 (0)</td>\n",
              "      <td id=\"T_f1613_row2_col3\" class=\"data row2 col3\" >49</td>\n",
              "    </tr>\n",
              "    <tr>\n",
              "      <td id=\"T_f1613_row3_col0\" class=\"data row3 col0\" >#4 [--]</td>\n",
              "      <td id=\"T_f1613_row3_col1\" class=\"data row3 col1\" >Nats</td>\n",
              "      <td id=\"T_f1613_row3_col2\" class=\"data row3 col2\" >1002 (0)</td>\n",
              "      <td id=\"T_f1613_row3_col3\" class=\"data row3 col3\" >48</td>\n",
              "    </tr>\n",
              "    <tr>\n",
              "      <td id=\"T_f1613_row4_col0\" class=\"data row4 col0\" >#5 [--]</td>\n",
              "      <td id=\"T_f1613_row4_col1\" class=\"data row4 col1\" >Naati</td>\n",
              "      <td id=\"T_f1613_row4_col2\" class=\"data row4 col2\" >996 (0)</td>\n",
              "      <td id=\"T_f1613_row4_col3\" class=\"data row4 col3\" >49</td>\n",
              "    </tr>\n",
              "    <tr>\n",
              "      <td id=\"T_f1613_row5_col0\" class=\"data row5 col0\" >#6 [--]</td>\n",
              "      <td id=\"T_f1613_row5_col1\" class=\"data row5 col1\" >Abhi</td>\n",
              "      <td id=\"T_f1613_row5_col2\" class=\"data row5 col2\" >935 (+5)</td>\n",
              "      <td id=\"T_f1613_row5_col3\" class=\"data row5 col3\" >44</td>\n",
              "    </tr>\n",
              "  </tbody>\n",
              "</table>\n"
            ],
            "text/plain": [
              "<pandas.io.formats.style.Styler at 0x7ca025fc30d0>"
            ]
          },
          "metadata": {},
          "output_type": "display_data"
        },
        {
          "name": "stdout",
          "output_type": "stream",
          "text": [
            "\n",
            " -----------------------------\n",
            "\n",
            "International Friendly #2\n"
          ]
        },
        {
          "data": {
            "text/html": [
              "<style type=\"text/css\">\n",
              "</style>\n",
              "<table id=\"T_207f3\">\n",
              "  <thead>\n",
              "    <tr>\n",
              "      <th id=\"T_207f3_level0_col0\" class=\"col_heading level0 col0\" >Rank</th>\n",
              "      <th id=\"T_207f3_level0_col1\" class=\"col_heading level0 col1\" >Player</th>\n",
              "      <th id=\"T_207f3_level0_col2\" class=\"col_heading level0 col2\" >Rating</th>\n",
              "      <th id=\"T_207f3_level0_col3\" class=\"col_heading level0 col3\" >Win%</th>\n",
              "    </tr>\n",
              "  </thead>\n",
              "  <tbody>\n",
              "    <tr>\n",
              "      <td id=\"T_207f3_row0_col0\" class=\"data row0 col0\" >#1 [--]</td>\n",
              "      <td id=\"T_207f3_row0_col1\" class=\"data row0 col1\" >Akash</td>\n",
              "      <td id=\"T_207f3_row0_col2\" class=\"data row0 col2\" >1168 (+10)</td>\n",
              "      <td id=\"T_207f3_row0_col3\" class=\"data row0 col3\" >58</td>\n",
              "    </tr>\n",
              "    <tr>\n",
              "      <td id=\"T_207f3_row1_col0\" class=\"data row1 col0\" >#2 [--]</td>\n",
              "      <td id=\"T_207f3_row1_col1\" class=\"data row1 col1\" >Prateek</td>\n",
              "      <td id=\"T_207f3_row1_col2\" class=\"data row1 col2\" >1044 (0)</td>\n",
              "      <td id=\"T_207f3_row1_col3\" class=\"data row1 col3\" >53</td>\n",
              "    </tr>\n",
              "    <tr>\n",
              "      <td id=\"T_207f3_row2_col0\" class=\"data row2 col0\" >#3 [▲1]</td>\n",
              "      <td id=\"T_207f3_row2_col1\" class=\"data row2 col1\" >Nats</td>\n",
              "      <td id=\"T_207f3_row2_col2\" class=\"data row2 col2\" >1011 (+8)</td>\n",
              "      <td id=\"T_207f3_row2_col3\" class=\"data row2 col3\" >49</td>\n",
              "    </tr>\n",
              "    <tr>\n",
              "      <td id=\"T_207f3_row3_col0\" class=\"data row3 col0\" >#4 [▼1]</td>\n",
              "      <td id=\"T_207f3_row3_col1\" class=\"data row3 col1\" >Ani</td>\n",
              "      <td id=\"T_207f3_row3_col2\" class=\"data row3 col2\" >1005 (0)</td>\n",
              "      <td id=\"T_207f3_row3_col3\" class=\"data row3 col3\" >49</td>\n",
              "    </tr>\n",
              "    <tr>\n",
              "      <td id=\"T_207f3_row4_col0\" class=\"data row4 col0\" >#5 [▲1]</td>\n",
              "      <td id=\"T_207f3_row4_col1\" class=\"data row4 col1\" >Shreyas</td>\n",
              "      <td id=\"T_207f3_row4_col2\" class=\"data row4 col2\" >1000 (0)</td>\n",
              "      <td id=\"T_207f3_row4_col3\" class=\"data row4 col3\" >49</td>\n",
              "    </tr>\n",
              "    <tr>\n",
              "      <td id=\"T_207f3_row5_col0\" class=\"data row5 col0\" >#6 [▲1]</td>\n",
              "      <td id=\"T_207f3_row5_col1\" class=\"data row5 col1\" >Darshan</td>\n",
              "      <td id=\"T_207f3_row5_col2\" class=\"data row5 col2\" >997 (-3)</td>\n",
              "      <td id=\"T_207f3_row5_col3\" class=\"data row5 col3\" >47</td>\n",
              "    </tr>\n",
              "    <tr>\n",
              "      <td id=\"T_207f3_row6_col0\" class=\"data row6 col0\" >#7 [▲1]</td>\n",
              "      <td id=\"T_207f3_row6_col1\" class=\"data row6 col1\" >Naati</td>\n",
              "      <td id=\"T_207f3_row6_col2\" class=\"data row6 col2\" >996 (0)</td>\n",
              "      <td id=\"T_207f3_row6_col3\" class=\"data row6 col3\" >49</td>\n",
              "    </tr>\n",
              "    <tr>\n",
              "      <td id=\"T_207f3_row7_col0\" class=\"data row7 col0\" >#8 [▼3]</td>\n",
              "      <td id=\"T_207f3_row7_col1\" class=\"data row7 col1\" >Priya</td>\n",
              "      <td id=\"T_207f3_row7_col2\" class=\"data row7 col2\" >984 (-16)</td>\n",
              "      <td id=\"T_207f3_row7_col3\" class=\"data row7 col3\" >42</td>\n",
              "    </tr>\n",
              "    <tr>\n",
              "      <td id=\"T_207f3_row8_col0\" class=\"data row8 col0\" >#9 [--]</td>\n",
              "      <td id=\"T_207f3_row8_col1\" class=\"data row8 col1\" >Abhi</td>\n",
              "      <td id=\"T_207f3_row8_col2\" class=\"data row8 col2\" >935 (0)</td>\n",
              "      <td id=\"T_207f3_row8_col3\" class=\"data row8 col3\" >44</td>\n",
              "    </tr>\n",
              "  </tbody>\n",
              "</table>\n"
            ],
            "text/plain": [
              "<pandas.io.formats.style.Styler at 0x7ca0081e6800>"
            ]
          },
          "metadata": {},
          "output_type": "display_data"
        },
        {
          "name": "stdout",
          "output_type": "stream",
          "text": [
            "\n",
            " -----------------------------\n"
          ]
        }
      ],
      "source": [
        "universal_rating_system = UniversalRatingSystem()\n",
        "\n",
        "load_tournaments_from_history(universal_rating_system)\n",
        "\n",
        "for tournament in universal_rating_system.tournaments:\n",
        "    universal_rating_system.printRankingChange(tournament)\n"
      ]
    }
  ],
  "metadata": {
    "colab": {
      "provenance": []
    },
    "kernelspec": {
      "display_name": "Python 3",
      "name": "python3"
    },
    "language_info": {
      "codemirror_mode": {
        "name": "ipython",
        "version": 3
      },
      "file_extension": ".py",
      "mimetype": "text/x-python",
      "name": "python",
      "nbconvert_exporter": "python",
      "pygments_lexer": "ipython3",
      "version": "3.10.13"
    }
  },
  "nbformat": 4,
  "nbformat_minor": 0
}
