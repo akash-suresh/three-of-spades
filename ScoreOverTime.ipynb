{
  "cells": [
    {
      "cell_type": "code",
      "execution_count": 1,
      "metadata": {
        "colab": {
          "base_uri": "https://localhost:8080/"
        },
        "id": "m3Wwh7nUKSxZ",
        "outputId": "3adeb2f5-68bb-4150-adde-5152146f71da"
      },
      "outputs": [],
      "source": [
        "from utils.ranking_system import UniversalRatingSystem\n",
        "from utils.ranking_system import load_tournaments_from_history"
      ]
    },
    {
      "cell_type": "markdown",
      "metadata": {},
      "source": [
        "### Reading Data"
      ]
    },
    {
      "cell_type": "code",
      "execution_count": 2,
      "metadata": {
        "id": "p_79hy2J0zR9"
      },
      "outputs": [
        {
          "name": "stdout",
          "output_type": "stream",
          "text": [
            "Going back in time!\n"
          ]
        },
        {
          "name": "stderr",
          "output_type": "stream",
          "text": [
            "100%|██████████| 12/12 [00:00<00:00, 13.28it/s]"
          ]
        },
        {
          "name": "stdout",
          "output_type": "stream",
          "text": [
            "\n",
            "Championship #1\n",
            "#1 [▲4] Prateek | 1011 (+11)\n",
            "#2 [▼1] Akash | 1008 (+8)\n",
            "#3 [▼1] Abhi | 1007 (+7)\n",
            "#4 [-] Naati | 1007 (+7)\n",
            "#5 [▼2] Ani | 997 (-3)\n",
            "\n",
            " -----------------------------\n",
            "\n",
            "Championship #2\n",
            "#1 [▲1] Akash | 1027 (+18)\n",
            "#2 [▲3] Ani | 1013 (+15)\n",
            "#3 [-] Abhi | 1011 (+3)\n",
            "#4 [-] Naati | 1000 (-7)\n",
            "#5 [▼4] Prateek | 995 (-16)\n",
            "\n",
            " -----------------------------\n",
            "\n",
            "Championship #3\n",
            "#1 [-] Akash | 1054 (+26)\n",
            "#2 [▲1] Abhi | 1027 (+15)\n",
            "#3 [▲1] Naati | 1018 (+17)\n",
            "#4 [▼2] Ani | 1013 (0)\n",
            "#5 [▲1] Prateek | 989 (-6)\n",
            "#6 [▼1] Nats | 979 (-21)\n",
            "\n",
            " -----------------------------\n",
            "\n",
            "Championship #4\n",
            "#1 [-] Akash | 1065 (+10)\n",
            "#2 [-] Abhi | 1027 (0)\n",
            "#3 [▲1] Ani | 1023 (+9)\n",
            "#4 [▼1] Naati | 1010 (-8)\n",
            "#5 [-] Prateek | 990 (0)\n",
            "#6 [-] Nats | 977 (-2)\n",
            "\n",
            " -----------------------------\n",
            "\n",
            "Championship #5\n",
            "#1 [-] Akash | 1092 (+26)\n",
            "#2 [▲1] Ani | 1023 (0)\n",
            "#3 [▼1] Abhi | 1014 (-13)\n",
            "#4 [-] Naati | 1012 (+1)\n",
            "#5 [-] Prateek | 1000 (+9)\n",
            "#6 [-] Nats | 970 (-7)\n",
            "\n",
            " -----------------------------\n",
            "\n",
            "Mini Championship #1\n",
            "#1 [-] Akash | 1093 (0)\n",
            "#2 [-] Ani | 1023 (0)\n",
            "#3 [-] Abhi | 1014 (0)\n",
            "#4 [-] Naati | 1009 (-3)\n",
            "#5 [-] Prateek | 1004 (+3)\n",
            "#6 [-] Nats | 970 (0)\n",
            "\n",
            " -----------------------------\n",
            "\n",
            "Championship #6\n",
            "#1 [-] Akash | 1128 (+34)\n",
            "#2 [▲3] Prateek | 1030 (+25)\n",
            "#3 [▼1] Ani | 1005 (-18)\n",
            "#4 [▼1] Abhi | 1002 (-12)\n",
            "#5 [▼1] Naati | 996 (-13)\n",
            "#6 [-] Nats | 980 (+9)\n",
            "\n",
            " -----------------------------\n",
            "\n",
            "Championship #7\n",
            "#1 [-] Akash | 1150 (+21)\n",
            "#2 [-] Prateek | 1034 (+3)\n",
            "#3 [-] Ani | 997 (-8)\n",
            "#4 [▲1] Naati | 996 (0)\n",
            "#5 [▼1] Abhi | 980 (-22)\n",
            "#6 [-] Nats | 977 (-3)\n",
            "\n",
            " -----------------------------\n",
            "\n",
            "Mini Championship #2\n",
            "#1 [-] Akash | 1155 (+4)\n",
            "#2 [-] Prateek | 1067 (+32)\n",
            "#3 [-] Ani | 997 (0)\n",
            "#4 [-] Naati | 996 (0)\n",
            "#5 [▲1] Nats | 985 (+7)\n",
            "#6 [▼1] Abhi | 941 (-39)\n",
            "\n",
            " -----------------------------\n",
            "\n",
            "Championship #8\n",
            "#1 [-] Akash | 1158 (+2)\n",
            "#2 [-] Prateek | 1049 (-18)\n",
            "#3 [-] Ani | 1004 (+6)\n",
            "#4 [▲1] Nats | 1002 (+16)\n",
            "#5 [▼1] Naati | 996 (0)\n",
            "#6 [-] Abhi | 929 (-12)\n",
            "\n",
            " -----------------------------\n",
            "\n",
            "Mini Championship #3\n",
            "#1 [-] Akash | 1157 (-1)\n",
            "#2 [-] Prateek | 1044 (-5)\n",
            "#3 [-] Ani | 1005 (0)\n",
            "#4 [-] Nats | 1002 (0)\n",
            "#5 [-] Naati | 996 (0)\n",
            "#6 [-] Abhi | 935 (+5)\n",
            "\n",
            " -----------------------------\n",
            "\n",
            "International Friendly #2\n",
            "#1 [-] Akash | 1168 (+10)\n",
            "#2 [-] Prateek | 1044 (0)\n",
            "#3 [▲1] Nats | 1011 (+8)\n",
            "#4 [▼1] Ani | 1005 (0)\n",
            "#5 [▲1] Shreyas | 1000 (0)\n",
            "#6 [▲1] Darshan | 997 (-3)\n",
            "#7 [▲1] Naati | 996 (0)\n",
            "#8 [▼3] Priya | 984 (-16)\n",
            "#9 [-] Abhi | 935 (0)\n",
            "\n",
            " -----------------------------\n"
          ]
        },
        {
          "name": "stderr",
          "output_type": "stream",
          "text": [
            "\n"
          ]
        }
      ],
      "source": [
        "universal_rating_system = UniversalRatingSystem()\n",
        "\n",
        "load_tournaments_from_history(universal_rating_system)\n",
        "\n",
        "for tournament in universal_rating_system.tournaments:\n",
        "    universal_rating_system.printRankingChange(tournament)\n"
      ]
    },
    {
      "cell_type": "code",
      "execution_count": null,
      "metadata": {},
      "outputs": [],
      "source": []
    }
  ],
  "metadata": {
    "colab": {
      "provenance": []
    },
    "kernelspec": {
      "display_name": "Python 3",
      "name": "python3"
    },
    "language_info": {
      "codemirror_mode": {
        "name": "ipython",
        "version": 3
      },
      "file_extension": ".py",
      "mimetype": "text/x-python",
      "name": "python",
      "nbconvert_exporter": "python",
      "pygments_lexer": "ipython3",
      "version": "3.10.13"
    }
  },
  "nbformat": 4,
  "nbformat_minor": 0
}
