{
 "cells": [
  {
   "cell_type": "code",
   "execution_count": 1,
   "metadata": {
    "colab": {
     "base_uri": "https://localhost:8080/"
    },
    "id": "m3Wwh7nUKSxZ",
    "outputId": "3adeb2f5-68bb-4150-adde-5152146f71da"
   },
   "outputs": [],
   "source": [
    "import nbformat\n",
    "import json\n",
    "\n",
    "from nbconvert.preprocessors import ExecutePreprocessor\n",
    "\n",
    "from utils.constants import TOURNAMENT_LIST_CHRONOLOGICAL"
   ]
  },
  {
   "cell_type": "code",
   "execution_count": 2,
   "metadata": {},
   "outputs": [],
   "source": [
    "def load_from_template():\n",
    "    with open('template.ipynb') as f:\n",
    "        data = json.load(f)\n",
    "    \n",
    "    return data\n",
    "\n",
    "def get_name(tournament_number, tournament_type):\n",
    "    return f'{tournament_type.value.title()}_{tournament_number}.ipynb'\n",
    "\n",
    "def dump_to_notebook(data, name):\n",
    "\n",
    "    with open(name, 'w') as f:\n",
    "        json.dump(data, f)\n",
    "\n",
    "def execute_and_save_notebook(name):\n",
    "    ep = ExecutePreprocessor()\n",
    "    with open(f'./{name}') as notebook_file:\n",
    "        nb = nbformat.read(notebook_file, as_version=4)\n",
    "        ep.preprocess(nb)\n",
    "    with open(f'./{name}', 'w', encoding='utf-8') as f:\n",
    "        nbformat.write(nb, f)"
   ]
  },
  {
   "cell_type": "markdown",
   "metadata": {},
   "source": [
    "Enter Tournament Details here"
   ]
  },
  {
   "cell_type": "code",
   "execution_count": 3,
   "metadata": {},
   "outputs": [
    {
     "name": "stdout",
     "output_type": "stream",
     "text": [
      "['TOURNEY_NUMBER = 1\\n', 'TOURNAMENT_TYPE = TournamentTypes.CHAMPIONSHIP\\n', 'SAVE_IMAGES = False']\n",
      "['TOURNEY_NUMBER = 2\\n', 'TOURNAMENT_TYPE = TournamentTypes.CHAMPIONSHIP\\n', 'SAVE_IMAGES = False']\n",
      "['TOURNEY_NUMBER = 3\\n', 'TOURNAMENT_TYPE = TournamentTypes.CHAMPIONSHIP\\n', 'SAVE_IMAGES = False']\n",
      "['TOURNEY_NUMBER = 4\\n', 'TOURNAMENT_TYPE = TournamentTypes.CHAMPIONSHIP\\n', 'SAVE_IMAGES = False']\n",
      "['TOURNEY_NUMBER = 5\\n', 'TOURNAMENT_TYPE = TournamentTypes.CHAMPIONSHIP\\n', 'SAVE_IMAGES = False']\n",
      "['TOURNEY_NUMBER = 1\\n', 'TOURNAMENT_TYPE = TournamentTypes.MINI_CHAMPIONSHIP\\n', 'SAVE_IMAGES = False']\n",
      "['TOURNEY_NUMBER = 6\\n', 'TOURNAMENT_TYPE = TournamentTypes.CHAMPIONSHIP\\n', 'SAVE_IMAGES = False']\n",
      "['TOURNEY_NUMBER = 7\\n', 'TOURNAMENT_TYPE = TournamentTypes.CHAMPIONSHIP\\n', 'SAVE_IMAGES = False']\n",
      "['TOURNEY_NUMBER = 2\\n', 'TOURNAMENT_TYPE = TournamentTypes.MINI_CHAMPIONSHIP\\n', 'SAVE_IMAGES = False']\n",
      "['TOURNEY_NUMBER = 8\\n', 'TOURNAMENT_TYPE = TournamentTypes.CHAMPIONSHIP\\n', 'SAVE_IMAGES = False']\n",
      "['TOURNEY_NUMBER = 3\\n', 'TOURNAMENT_TYPE = TournamentTypes.MINI_CHAMPIONSHIP\\n', 'SAVE_IMAGES = False']\n",
      "['TOURNEY_NUMBER = 2\\n', 'TOURNAMENT_TYPE = TournamentTypes.FRIENDLY\\n', 'SAVE_IMAGES = False']\n",
      "['TOURNEY_NUMBER = 1\\n', 'TOURNAMENT_TYPE = TournamentTypes.TINY_CHAMPIONSHIP\\n', 'SAVE_IMAGES = False']\n",
      "['TOURNEY_NUMBER = 4\\n', 'TOURNAMENT_TYPE = TournamentTypes.MINI_CHAMPIONSHIP\\n', 'SAVE_IMAGES = False']\n",
      "['TOURNEY_NUMBER = 3\\n', 'TOURNAMENT_TYPE = TournamentTypes.TINY_CHAMPIONSHIP\\n', 'SAVE_IMAGES = False']\n"
     ]
    }
   ],
   "source": [
    "SAVE_IMAGES = False\n",
    "for TOURNAMENT_TYPE, TOURNEY_NUMBER in TOURNAMENT_LIST_CHRONOLOGICAL:\n",
    "\n",
    "    data = load_from_template()\n",
    "\n",
    "    # updating tournament details in new notebook constants\n",
    "    data['cells'][2]['source'] = [\n",
    "        f'TOURNEY_NUMBER = {TOURNEY_NUMBER}\\n',\n",
    "        f'TOURNAMENT_TYPE = {TOURNAMENT_TYPE}\\n', \n",
    "        f'SAVE_IMAGES = {SAVE_IMAGES}'\n",
    "    ]\n",
    "    print(data['cells'][2]['source'])\n",
    "    name = get_name(TOURNEY_NUMBER, TOURNAMENT_TYPE)\n",
    "    dump_to_notebook(data, name)\n",
    "\n",
    "    execute_and_save_notebook(name)\n",
    "    "
   ]
  },
  {
   "cell_type": "markdown",
   "metadata": {},
   "source": []
  },
  {
   "cell_type": "code",
   "execution_count": null,
   "metadata": {},
   "outputs": [],
   "source": []
  },
  {
   "cell_type": "markdown",
   "metadata": {},
   "source": [
    "### Fin!"
   ]
  },
  {
   "cell_type": "markdown",
   "metadata": {},
   "source": []
  }
 ],
 "metadata": {
  "colab": {
   "provenance": []
  },
  "kernelspec": {
   "display_name": "Python 3",
   "name": "python3"
  },
  "language_info": {
   "codemirror_mode": {
    "name": "ipython",
    "version": 3
   },
   "file_extension": ".py",
   "mimetype": "text/x-python",
   "name": "python",
   "nbconvert_exporter": "python",
   "pygments_lexer": "ipython3",
   "version": "3.12.1"
  }
 },
 "nbformat": 4,
 "nbformat_minor": 0
}
